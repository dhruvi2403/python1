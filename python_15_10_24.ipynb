{
 "cells": [
  {
   "cell_type": "markdown",
   "metadata": {},
   "source": [
    "### Function Specification"
   ]
  },
  {
   "cell_type": "markdown",
   "metadata": {},
   "source": [
    "***Docstring***:The text between the triple quotation marks is called a docstring in python.It is used to provide specifications of the functions."
   ]
  },
  {
   "cell_type": "code",
   "execution_count": 11,
   "metadata": {},
   "outputs": [
    {
     "name": "stdout",
     "output_type": "stream",
     "text": [
      "25\n",
      "Argument passed into x returns x squared\n"
     ]
    }
   ],
   "source": [
    "def squared_number(x):\n",
    "    \"\"\"Argument passed into x returns x squared\"\"\"\n",
    "    return x*x\n",
    "\n",
    "print(squared_number(5))\n",
    "print(squared_number.__doc__)"
   ]
  },
  {
   "cell_type": "code",
   "execution_count": 12,
   "metadata": {},
   "outputs": [
    {
     "name": "stdout",
     "output_type": "stream",
     "text": [
      "8\n",
      "returns the sum of two deciml numers\n",
      "        parameters:\n",
      "            a(int): a decimal number\n",
      "            b(int):another decimal number\n",
      "            returns addition of a and b\n"
     ]
    }
   ],
   "source": [
    "def add(a,b):\n",
    "    \"\"\"returns the sum of two deciml numers\n",
    "        parameters:\n",
    "            a(int): a decimal number\n",
    "            b(int):another decimal number\n",
    "            returns addition of a and b\"\"\"\n",
    "    sum=a+b\n",
    "    return sum\n",
    "\n",
    "print(add(3,5))\n",
    "print(add.__doc__)"
   ]
  },
  {
   "cell_type": "markdown",
   "metadata": {},
   "source": [
    "### Types of arguments:"
   ]
  },
  {
   "cell_type": "markdown",
   "metadata": {},
   "source": [
    "**1.Positional arguments:**"
   ]
  },
  {
   "cell_type": "code",
   "execution_count": 13,
   "metadata": {},
   "outputs": [
    {
     "name": "stdout",
     "output_type": "stream",
     "text": [
      "-100\n",
      "100\n"
     ]
    }
   ],
   "source": [
    "def sub(a,b):\n",
    "    print(a-b)\n",
    "    \n",
    "sub(100,200)\n",
    "sub(200,100)"
   ]
  },
  {
   "cell_type": "markdown",
   "metadata": {},
   "source": [
    "**2.Keyword Arguments:**"
   ]
  },
  {
   "cell_type": "code",
   "execution_count": 18,
   "metadata": {},
   "outputs": [
    {
     "name": "stdout",
     "output_type": "stream",
     "text": [
      "Hello arman good morning\n",
      "Hello arman good morning\n",
      "Hello arman good morning\n",
      "Hello arman good morning\n"
     ]
    }
   ],
   "source": [
    "def wish(name,msg):\n",
    "    print(\"Hello\",name,msg)\n",
    "    \n",
    "wish(name=\"arman\",msg=\"good morning\")\n",
    "wish(msg=\"good morning\",name=\"arman\")\n",
    "wish(\"arman\",\"good morning\")\n",
    "wish(\"arman\",msg=\"good morning\")\n"
   ]
  },
  {
   "cell_type": "code",
   "execution_count": 19,
   "metadata": {},
   "outputs": [
    {
     "ename": "SyntaxError",
     "evalue": "positional argument follows keyword argument (<ipython-input-19-1fb1dad6b12b>, line 1)",
     "output_type": "error",
     "traceback": [
      "\u001b[1;36m  File \u001b[1;32m\"<ipython-input-19-1fb1dad6b12b>\"\u001b[1;36m, line \u001b[1;32m1\u001b[0m\n\u001b[1;33m    wish(name=\"arman\",\"good morning\")\u001b[0m\n\u001b[1;37m                      ^\u001b[0m\n\u001b[1;31mSyntaxError\u001b[0m\u001b[1;31m:\u001b[0m positional argument follows keyword argument\n"
     ]
    }
   ],
   "source": [
    "wish(name=\"arman\",\"good morning\")"
   ]
  },
  {
   "cell_type": "markdown",
   "metadata": {},
   "source": [
    "#pela positional follow karse...\n",
    "if we are using combined arguments, then we need to give first as positional or else it will give error...\n",
    "if first is keyword then second should also be a keyword...vice cersa is not compulsory"
   ]
  },
  {
   "cell_type": "markdown",
   "metadata": {},
   "source": [
    "**3.Default Arguments**"
   ]
  },
  {
   "cell_type": "code",
   "execution_count": 22,
   "metadata": {},
   "outputs": [
    {
     "name": "stdout",
     "output_type": "stream",
     "text": [
      "hello arman good morning\n",
      "hello guest good morning\n"
     ]
    }
   ],
   "source": [
    "def wish(name=\"guest\"):\n",
    "    print(\"hello\",name,\"good morning\")\n",
    "    \n",
    "wish(\"arman\")\n",
    "wish()\n",
    "#if argument is passed then its good or else by default it will take the argument provided in the function definition"
   ]
  },
  {
   "cell_type": "markdown",
   "metadata": {},
   "source": [
    "**4.Variable Length Arguments:**"
   ]
  },
  {
   "cell_type": "code",
   "execution_count": 25,
   "metadata": {},
   "outputs": [
    {
     "name": "stdout",
     "output_type": "stream",
     "text": [
      "the sum= 10\n",
      "the sum= 60\n",
      "the sum= 120\n"
     ]
    }
   ],
   "source": [
    "def sum(*n):\n",
    "    total=0\n",
    "    for n1 in n:\n",
    "        total+=n1\n",
    "    print(\"the sum=\",total)\n",
    "    \n",
    "sum(10)\n",
    "sum(10,20,30)\n",
    "sum(10,20,20,30,40)"
   ]
  },
  {
   "cell_type": "code",
   "execution_count": 28,
   "metadata": {},
   "outputs": [
    {
     "name": "stdout",
     "output_type": "stream",
     "text": [
      "10 *\n",
      "<class 'tuple'>\n",
      "10 *\n",
      "20\n",
      "30\n",
      "<class 'tuple'>\n",
      "10 *\n",
      "20\n",
      "30\n",
      "40\n",
      "50\n",
      "<class 'tuple'>\n"
     ]
    }
   ],
   "source": [
    "def sum(n1,*s):\n",
    "    print(n1,\"*\")\n",
    "    for s1 in s:\n",
    "        print(s1)\n",
    "    print(type(s))\n",
    "sum(10)\n",
    "sum(10,20,30)\n",
    "sum(10,20,30,40,50)"
   ]
  },
  {
   "cell_type": "code",
   "execution_count": 29,
   "metadata": {},
   "outputs": [
    {
     "ename": "TypeError",
     "evalue": "sum() missing 1 required keyword-only argument: 'n1'",
     "output_type": "error",
     "traceback": [
      "\u001b[1;31m---------------------------------------------------------------------------\u001b[0m",
      "\u001b[1;31mTypeError\u001b[0m                                 Traceback (most recent call last)",
      "\u001b[1;32m<ipython-input-29-84b5963058f4>\u001b[0m in \u001b[0;36m<module>\u001b[1;34m\u001b[0m\n\u001b[0;32m      4\u001b[0m         \u001b[0mprint\u001b[0m\u001b[1;33m(\u001b[0m\u001b[0ms1\u001b[0m\u001b[1;33m)\u001b[0m\u001b[1;33m\u001b[0m\u001b[1;33m\u001b[0m\u001b[0m\n\u001b[0;32m      5\u001b[0m     \u001b[0mprint\u001b[0m\u001b[1;33m(\u001b[0m\u001b[0mtype\u001b[0m\u001b[1;33m(\u001b[0m\u001b[0ms\u001b[0m\u001b[1;33m)\u001b[0m\u001b[1;33m)\u001b[0m\u001b[1;33m\u001b[0m\u001b[1;33m\u001b[0m\u001b[0m\n\u001b[1;32m----> 6\u001b[1;33m \u001b[0msum\u001b[0m\u001b[1;33m(\u001b[0m\u001b[1;36m10\u001b[0m\u001b[1;33m)\u001b[0m\u001b[1;33m\u001b[0m\u001b[1;33m\u001b[0m\u001b[0m\n\u001b[0m\u001b[0;32m      7\u001b[0m \u001b[0msum\u001b[0m\u001b[1;33m(\u001b[0m\u001b[1;36m10\u001b[0m\u001b[1;33m,\u001b[0m\u001b[1;36m20\u001b[0m\u001b[1;33m,\u001b[0m\u001b[1;36m30\u001b[0m\u001b[1;33m)\u001b[0m\u001b[1;33m\u001b[0m\u001b[1;33m\u001b[0m\u001b[0m\n\u001b[0;32m      8\u001b[0m \u001b[0msum\u001b[0m\u001b[1;33m(\u001b[0m\u001b[1;36m10\u001b[0m\u001b[1;33m,\u001b[0m\u001b[1;36m20\u001b[0m\u001b[1;33m,\u001b[0m\u001b[1;36m30\u001b[0m\u001b[1;33m,\u001b[0m\u001b[1;36m40\u001b[0m\u001b[1;33m,\u001b[0m\u001b[1;36m50\u001b[0m\u001b[1;33m)\u001b[0m\u001b[1;33m\u001b[0m\u001b[1;33m\u001b[0m\u001b[0m\n",
      "\u001b[1;31mTypeError\u001b[0m: sum() missing 1 required keyword-only argument: 'n1'"
     ]
    }
   ],
   "source": [
    "def sum(*s,n1):\n",
    "    print(n1,\"*\")\n",
    "    for s1 in s:\n",
    "        print(s1)\n",
    "    print(type(s))\n",
    "sum(10)\n",
    "sum(10,20,30)\n",
    "sum(10,20,30,40,50)"
   ]
  },
  {
   "cell_type": "code",
   "execution_count": 31,
   "metadata": {},
   "outputs": [
    {
     "name": "stdout",
     "output_type": "stream",
     "text": [
      "0 *\n",
      "10\n",
      "<class 'tuple'>\n",
      "30 *\n",
      "10\n",
      "20\n",
      "<class 'tuple'>\n",
      "50 *\n",
      "10\n",
      "20\n",
      "30\n",
      "40\n",
      "<class 'tuple'>\n"
     ]
    }
   ],
   "source": [
    "def sum(*s,n1):\n",
    "    print(n1,\"*\")\n",
    "    for s1 in s:\n",
    "        print(s1)\n",
    "    print(type(s))\n",
    "sum(10,n1=0)\n",
    "sum(10,20,n1=30)\n",
    "sum(10,20,30,40,n1=50)"
   ]
  },
  {
   "cell_type": "markdown",
   "metadata": {},
   "source": [
    "**kwargs**"
   ]
  },
  {
   "cell_type": "code",
   "execution_count": 37,
   "metadata": {},
   "outputs": [
    {
     "name": "stdout",
     "output_type": "stream",
     "text": [
      "{'m1': 200, 'm2': 300}\n",
      "200\n",
      "300\n"
     ]
    }
   ],
   "source": [
    "def display(**kwargs):\n",
    "    print(kwargs)\n",
    "    for k in kwargs.values():\n",
    "        print(k)\n",
    "        \n",
    "display(m1=200,m2=300)"
   ]
  },
  {
   "cell_type": "code",
   "execution_count": 39,
   "metadata": {},
   "outputs": [
    {
     "name": "stdout",
     "output_type": "stream",
     "text": [
      "{'m1': 200, 'm2': 300}\n",
      "m1\n",
      "m2\n"
     ]
    }
   ],
   "source": [
    "def display(**kwargs):\n",
    "    print(kwargs)\n",
    "    for k in kwargs.keys():\n",
    "        print(k)\n",
    "        \n",
    "display(m1=200,m2=300)"
   ]
  },
  {
   "cell_type": "markdown",
   "metadata": {},
   "source": [
    "single star:-variable length arguments//\n",
    "double star:- variable length keyword arguments"
   ]
  },
  {
   "cell_type": "code",
   "execution_count": 38,
   "metadata": {},
   "outputs": [
    {
     "name": "stdout",
     "output_type": "stream",
     "text": [
      "{'m1': 200, 'm2': 300}\n",
      "m1 200\n",
      "m2 300\n"
     ]
    }
   ],
   "source": [
    "def display(**kwargs):\n",
    "    print(kwargs)\n",
    "    for j,k in kwargs.items():\n",
    "        print(j,k)\n",
    "        \n",
    "display(m1=200,m2=300)"
   ]
  },
  {
   "cell_type": "code",
   "execution_count": 46,
   "metadata": {},
   "outputs": [
    {
     "name": "stdout",
     "output_type": "stream",
     "text": [
      "Enter 1. to convert into celcius\n",
      "Enter 2. to convert into farenheit\n",
      "Enter choice:2\n",
      "Enter temp:48.88\n",
      "temp in fer= 119.98400000000001\n"
     ]
    }
   ],
   "source": [
    "#celcius and farenheit conversion by the choice of user:\n",
    "\n",
    "print(\"Enter 1. to convert into celcius\")\n",
    "print(\"Enter 2. to convert into farenheit\")\n",
    "\n",
    "x=int(input(\"Enter choice:\"))\n",
    "if x==1:\n",
    "     cel(float(input(\"Enter temp:\")))\n",
    "elif x==2:\n",
    "     fer(float(input(\"Enter temp:\")))\n",
    "else:\n",
    "    print(\"Enter correct choice\")\n",
    "    \n",
    "    \n",
    "def cel(f):\n",
    "    c=(f-32)*(5/9)\n",
    "    print(\"temp in cel=\",c)\n",
    "    \n",
    "def fer(c):\n",
    "    f=32+(9/5)*c\n",
    "    print(\"temp in fer=\",f)"
   ]
  },
  {
   "cell_type": "code",
   "execution_count": 2,
   "metadata": {},
   "outputs": [
    {
     "name": "stdout",
     "output_type": "stream",
     "text": [
      "Enter number:3\n",
      "Enter start range:1\n",
      "Enter end range:11\n",
      "yes\n"
     ]
    }
   ],
   "source": [
    "# wap to check whether the given number lies in the given range or not.\n",
    "\n",
    "num=int(input(\"Enter number:\"))\n",
    "s_range=(int(input(\"Enter start range:\")))\n",
    "e_range=(int(input(\"Enter end range:\")))\n",
    "\n",
    "def f1(num,s_range,e_range):\n",
    "    if(num>=s_range and num<=e_range):\n",
    "        return \"yes\"\n",
    "    else:\n",
    "        return \"no\"\n",
    "    \n",
    "print(f1(num,s_range,e_range))\n"
   ]
  },
  {
   "cell_type": "code",
   "execution_count": 15,
   "metadata": {},
   "outputs": [
    {
     "name": "stdout",
     "output_type": "stream",
     "text": [
      "Enter number:151\n",
      "Enter 1 for palindrome\n",
      "Enter 2 for armstrong\n",
      "Enter 3 for prime\n",
      "Enter 4 for happy number\n",
      "Enter choice from 1 to 4:3\n",
      "prime\n"
     ]
    }
   ],
   "source": [
    "# #wap to check for 3 digit numbers only\n",
    "# 1.palindrome\n",
    "# 2.armstrong\n",
    "# 3.prime\n",
    "# 4.happy number\n",
    "\n",
    "\n",
    "\n",
    "def pal(n):\n",
    "    temp=n\n",
    "    rev_num=0\n",
    "    while n!=0:\n",
    "        digit=n%10\n",
    "        rev_num=rev_num*10+digit\n",
    "        n=n//10\n",
    "    print(\"reverse number:\",rev_num)\n",
    "    if(rev_num==temp):\n",
    "        print(\"palindrome\")\n",
    "    else:\n",
    "        print(\"non peli\")\n",
    "    \n",
    "def prime(n):\n",
    "    counter=0\n",
    "    if(n<=0 or n==1):\n",
    "        print(\"non-prime\")    \n",
    "    else:\n",
    "        for i in range(2,n):\n",
    "            if(n%i==0):\n",
    "                counter+=1\n",
    "\n",
    "        if counter==0:\n",
    "            print(\"prime\")\n",
    "        else:\n",
    "            print(\"non-prime\")\n",
    "        \n",
    "\n",
    "def hap_num(i):\n",
    "    temp=i\n",
    "    while i!=1 and i!=4:\n",
    "        sum=0\n",
    "        for j in str(i):\n",
    "            sum+=int(j)**2\n",
    "        i=sum\n",
    "    if i==1:\n",
    "        print(\"happy\")\n",
    "    else:\n",
    "        print(\"not happy\")\n",
    "    \n",
    "def arms(m):\n",
    "   # m=int(input(\"Enter number:\"))\n",
    "    n=m\n",
    "    a=m\n",
    "    count=0\n",
    "    sum=0\n",
    "    while a>0:\n",
    "        a=a//10\n",
    "        count+=1\n",
    "    while n>0:\n",
    "        c=n%10\n",
    "        sum=sum+(c**count)\n",
    "        n=n//10\n",
    "    if sum==m:\n",
    "        print(\"armstrong\")\n",
    "    else:\n",
    "        print(\"not armstrong\")\n",
    "\n",
    "n=int(input(\"Enter number:\"))        \n",
    "if(n>99 and n<=999):\n",
    "    \n",
    "    print(\"Enter 1 for palindrome\")\n",
    "    print(\"Enter 2 for armstrong\")\n",
    "    print(\"Enter 3 for prime\")\n",
    "    print(\"Enter 4 for happy number\")\n",
    "    ch=int(input(\"Enter choice from 1 to 4:\"))\n",
    "    if(ch==1):\n",
    "        pal(n)\n",
    "    elif(ch==2):\n",
    "        arms(n)\n",
    "    elif(ch==3):\n",
    "        prime(n)\n",
    "    elif(ch==4):\n",
    "        hap_num(n)\n",
    "    else:\n",
    "        print(\"incorrect input.\")\n",
    "\n",
    "        \n"
   ]
  },
  {
   "cell_type": "code",
   "execution_count": 16,
   "metadata": {},
   "outputs": [],
   "source": [
    "#wap that enters a single digit integer number and produces all possible 6 digit\n",
    "#numbers for which the product of that digits equal to the entered number"
   ]
  },
  {
   "cell_type": "code",
   "execution_count": 24,
   "metadata": {},
   "outputs": [
    {
     "name": "stdout",
     "output_type": "stream",
     "text": [
      "Enter number:4\n",
      "111114\n",
      "111122\n",
      "111141\n",
      "111212\n",
      "111221\n",
      "111411\n",
      "112112\n",
      "112121\n",
      "112211\n",
      "114111\n",
      "121112\n",
      "121121\n",
      "121211\n",
      "122111\n",
      "141111\n",
      "211112\n",
      "211121\n",
      "211211\n",
      "212111\n",
      "221111\n",
      "411111\n"
     ]
    }
   ],
   "source": [
    "x=int(input(\"Enter number:\"))\n",
    "for i in range(100000,1000000):\n",
    "    a=1\n",
    "    for j in str(i):\n",
    "        a=a*int(j)\n",
    "    if a==x:\n",
    "        print(i)\n",
    "\n",
    "    "
   ]
  },
  {
   "cell_type": "code",
   "execution_count": 31,
   "metadata": {},
   "outputs": [
    {
     "ename": "SyntaxError",
     "evalue": "invalid syntax (<ipython-input-31-eac8c870fb12>, line 14)",
     "output_type": "error",
     "traceback": [
      "\u001b[1;36m  File \u001b[1;32m\"<ipython-input-31-eac8c870fb12>\"\u001b[1;36m, line \u001b[1;32m14\u001b[0m\n\u001b[1;33m    sum+=(int)i\u001b[0m\n\u001b[1;37m              ^\u001b[0m\n\u001b[1;31mSyntaxError\u001b[0m\u001b[1;31m:\u001b[0m invalid syntax\n"
     ]
    }
   ],
   "source": [
    "# wap that prompts user to enter the numbers and stops only when the user enters 'stop' after \n",
    "#this print min,max and average of the numbers\n",
    "\n",
    "while x!='stop':\n",
    "    x=(input(\"Enter number: \"))\n",
    "\n",
    "#print(type(x))\n",
    "# for i in x:\n",
    "#     min=i\n",
    "#     if\n",
    "count=0\n",
    "for i in x:\n",
    "    count+=1\n",
    "    sum+=int(i)\n",
    "average=sum/count"
   ]
  },
  {
   "cell_type": "code",
   "execution_count": null,
   "metadata": {},
   "outputs": [],
   "source": []
  }
 ],
 "metadata": {
  "kernelspec": {
   "display_name": "Python 3",
   "language": "python",
   "name": "python3"
  },
  "language_info": {
   "codemirror_mode": {
    "name": "ipython",
    "version": 3
   },
   "file_extension": ".py",
   "mimetype": "text/x-python",
   "name": "python",
   "nbconvert_exporter": "python",
   "pygments_lexer": "ipython3",
   "version": "3.8.5"
  }
 },
 "nbformat": 4,
 "nbformat_minor": 4
}
