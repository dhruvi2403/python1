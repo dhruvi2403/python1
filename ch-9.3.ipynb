{
 "cells": [
  {
   "cell_type": "code",
   "execution_count": 1,
   "metadata": {},
   "outputs": [],
   "source": [
    "#wap to find the net salary of employee using inheritance. Create 3 class Employee,Perks and net salary. \n",
    "#Make Employee class as abstract class. Employee class has 4 methods:\n",
    "# 1.getemployee() it takes user input for ID,name and basic salary \n",
    "# 2. employeedetails() prints ID,name and basic salary \n",
    "# 3.getsalary() returns a basic salary\n",
    "# 4. emp_id it is abstract method\n",
    "# Perks class has 3 methods:\n",
    "# 1. calculateperks() calculates DA,HRA,PF: DA=35% of BA : HRA=17% BA : PF=12% BA\n",
    "# 2.printperks() prints DA,HRA,PF\n",
    "# 3. totalperks() gives DA+HRA-PF\n",
    "#NetSalary class inherits Perks and has:\n",
    "# 1.gettotal() calculate total salary"
   ]
  },
  {
   "cell_type": "code",
   "execution_count": 13,
   "metadata": {},
   "outputs": [
    {
     "name": "stdout",
     "output_type": "stream",
     "text": [
      "ENter id:1\n",
      "Enter name of emp:john\n",
      "ENter basic salary:30000\n",
      "id= 1\n",
      "name= john\n",
      "basic salary= 30000\n",
      "emp_id method....\n",
      "da= 10500.0\n",
      "hra= 5100.0\n",
      "pf= 3600.0\n",
      "total perks= 12000.0\n",
      "total salary= 42000.0\n"
     ]
    }
   ],
   "source": [
    "from abc import ABC,abstractmethod\n",
    "class Employee(ABC):\n",
    "    def getemployee(self):\n",
    "        self.id=int(input(\"ENter id:\"))\n",
    "        self.name=input(\"Enter name of emp:\")\n",
    "        self.basic=int(input(\"ENter basic salary:\"))\n",
    "    def employeedetails(self):\n",
    "        print(\"id=\",self.id)\n",
    "        print(\"name=\",self.name)\n",
    "        print(\"basic salary=\",self.basic)\n",
    "    def getsalary(self):\n",
    "        return self.basic\n",
    "    @abstractmethod\n",
    "    def emp_id(self):\n",
    "        pass\n",
    "class Perks(Employee):\n",
    "    def calculateperks(self):\n",
    "        self.da=0.35*self.basic\n",
    "        self.hra=0.17*self.basic\n",
    "        self.pf=0.12*self.basic\n",
    "    def printperks(self):\n",
    "        print(\"da=\",self.da)\n",
    "        print(\"hra=\",self.hra)\n",
    "        print(\"pf=\",self.pf)\n",
    "    def totalperks(self):\n",
    "        self.totalper=self.da+self.hra-self.pf\n",
    "        print(\"total perks=\",self.totalper)\n",
    "    def emp_id(self):\n",
    "        print(\"emp_id method....\")\n",
    "        pass\n",
    "class Netsalary(Perks):\n",
    "    def gettotal(self):\n",
    "        self.totalsalary=self.basic+self.totalper  #+self.da+self.hra-self.pf\n",
    "        print(\"total salary=\",self.totalsalary)\n",
    "        \n",
    "e1=Netsalary()\n",
    "e1.getemployee()\n",
    "e1.employeedetails()\n",
    "e1.getsalary()\n",
    "e1.emp_id()\n",
    "e1.calculateperks()\n",
    "e1.printperks()\n",
    "e1.totalperks()\n",
    "e1.gettotal()"
   ]
  },
  {
   "cell_type": "code",
   "execution_count": 9,
   "metadata": {},
   "outputs": [
    {
     "name": "stdout",
     "output_type": "stream",
     "text": [
      "HDD do you want this item? (Y/N)y\n",
      "Enter quantity:2\n",
      "ram do you want this item? (Y/N)n\n",
      "printer do you want this item? (Y/N)n\n",
      "pendrive do you want this item? (Y/N)n\n",
      "total= 10000\n",
      "Do you want to do 1.cash payment 2.cheque payment2\n",
      "Enter cheque number.1234\n",
      "Enter bank name:qwrt\n",
      "total amount= 10000 chequeno= 1234 bank name= qwrt\n"
     ]
    }
   ],
   "source": [
    "# no need to make methods, do everything in constructor only\n",
    "class Bill():\n",
    "    def __init__(self):\n",
    "        self.total=0\n",
    "        rates={\"HDD\":5000,\"ram\":2000,\"printer\":6000,\"pendrive\":800}\n",
    "        d1={\"HDD\":0,\"ram\":0,\"printer\":0,\"pendrive\":0}\n",
    "\n",
    "        for i,j in rates.items():\n",
    "            a=input(i+\" do you want this item? (Y/N)\")\n",
    "            if(a==\"Y\" or a==\"y\"):\n",
    "                    q=int(input(\"Enter quantity:\"))\n",
    "                    d1[i]=q*rates[i]\n",
    "            else:\n",
    "                pass\n",
    "\n",
    "        for i,j in d1.items():\n",
    "            self.total=self.total+j\n",
    "        print(\"total=\",self.total)\n",
    "\n",
    "        choice=int(input(\"Do you want to do 1.cash payment 2.cheque payment\"))\n",
    "        if choice==1:\n",
    "            cash_pay(self.total)\n",
    "        elif choice==2:\n",
    "            chequeno=int(input(\"Enter cheque number.\"))\n",
    "            bankname=input(\"Enter bank name:\")\n",
    "            cheque_pay(chequeno,bankname,self.total)\n",
    "        else:\n",
    "            print(\"INVALID!!!\")\n",
    "#         print(d1)\n",
    "\n",
    "class cash_pay(Bill):\n",
    "    def __init__(self,total):\n",
    "        dic={\"2000rs notes\":2000,\"500 note\":500,\"200 note\":200,\"100 note\":100,\"50 note\":50}\n",
    "        for i,j in dic.items():\n",
    "            if total>=j:\n",
    "                print(i,\":\",total//j)\n",
    "                total=total%j\n",
    "                \n",
    "class cheque_pay(Bill):\n",
    "    def __init__(self,chequeno,bankname,total):\n",
    "        print(\"total amount=\",total,\"chequeno=\",chequeno,\"bank name=\",bankname)\n",
    "b1=Bill()"
   ]
  },
  {
   "cell_type": "code",
   "execution_count": null,
   "metadata": {},
   "outputs": [],
   "source": []
  },
  {
   "cell_type": "code",
   "execution_count": null,
   "metadata": {},
   "outputs": [],
   "source": []
  }
 ],
 "metadata": {
  "kernelspec": {
   "display_name": "Python 3",
   "language": "python",
   "name": "python3"
  },
  "language_info": {
   "codemirror_mode": {
    "name": "ipython",
    "version": 3
   },
   "file_extension": ".py",
   "mimetype": "text/x-python",
   "name": "python",
   "nbconvert_exporter": "python",
   "pygments_lexer": "ipython3",
   "version": "3.8.5"
  }
 },
 "nbformat": 4,
 "nbformat_minor": 4
}
