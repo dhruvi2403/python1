{
 "cells": [
  {
   "cell_type": "markdown",
   "metadata": {},
   "source": [
    "#                                  UNIT-9 ADVANCE OOP"
   ]
  },
  {
   "cell_type": "markdown",
   "metadata": {},
   "source": [
    "    PART-1 \n",
    "        POLYMORPHISM\n",
    "        INHERTANCE\n",
    "        ABSTRACT CLASSES\n",
    "    PART-2\n",
    "        NUMPY"
   ]
  },
  {
   "cell_type": "markdown",
   "metadata": {},
   "source": [
    "### POLYMORPHISM"
   ]
  },
  {
   "cell_type": "markdown",
   "metadata": {},
   "source": [
    "(MANY FORMS)"
   ]
  },
  {
   "cell_type": "markdown",
   "metadata": {},
   "source": [
    "    1.Method Overloading\n",
    "    2.Method Overriding\n",
    "    3.Operator overloading"
   ]
  },
  {
   "cell_type": "markdown",
   "metadata": {},
   "source": [
    "###### Method overloading:"
   ]
  },
  {
   "cell_type": "markdown",
   "metadata": {},
   "source": [
    "    1.compile time polymorphism\n",
    "    2.it occurs in the same class\n",
    "    3.mathods must have same name and different parameters\n",
    "    4.python does not support method overloading"
   ]
  },
  {
   "cell_type": "markdown",
   "metadata": {},
   "source": [
    "###### Method Overriding:"
   ]
  },
  {
   "cell_type": "markdown",
   "metadata": {},
   "source": [
    "    1.Run time polymorphism\n",
    "    2.it occurs in two classes via inheritance\n",
    "    3.methods must have same name and same parameters\n",
    "    4.python supports method overriding."
   ]
  },
  {
   "cell_type": "code",
   "execution_count": 1,
   "metadata": {},
   "outputs": [
    {
     "ename": "TypeError",
     "evalue": "add() missing 1 required positional argument: 'c'",
     "output_type": "error",
     "traceback": [
      "\u001b[1;31m---------------------------------------------------------------------------\u001b[0m",
      "\u001b[1;31mTypeError\u001b[0m                                 Traceback (most recent call last)",
      "\u001b[1;32m<ipython-input-1-8f37e416a7b8>\u001b[0m in \u001b[0;36m<module>\u001b[1;34m\u001b[0m\n\u001b[0;32m      5\u001b[0m         \u001b[0mprint\u001b[0m\u001b[1;33m(\u001b[0m\u001b[0ma\u001b[0m\u001b[1;33m+\u001b[0m\u001b[0mb\u001b[0m\u001b[1;33m+\u001b[0m\u001b[0mc\u001b[0m\u001b[1;33m)\u001b[0m\u001b[1;33m\u001b[0m\u001b[1;33m\u001b[0m\u001b[0m\n\u001b[0;32m      6\u001b[0m \u001b[0mobj\u001b[0m\u001b[1;33m=\u001b[0m\u001b[0mA\u001b[0m\u001b[1;33m(\u001b[0m\u001b[1;33m)\u001b[0m\u001b[1;33m\u001b[0m\u001b[1;33m\u001b[0m\u001b[0m\n\u001b[1;32m----> 7\u001b[1;33m \u001b[0mobj\u001b[0m\u001b[1;33m.\u001b[0m\u001b[0madd\u001b[0m\u001b[1;33m(\u001b[0m\u001b[1;36m10\u001b[0m\u001b[1;33m,\u001b[0m\u001b[1;36m20\u001b[0m\u001b[1;33m)\u001b[0m\u001b[1;33m\u001b[0m\u001b[1;33m\u001b[0m\u001b[0m\n\u001b[0m\u001b[0;32m      8\u001b[0m \u001b[0mobj\u001b[0m\u001b[1;33m.\u001b[0m\u001b[0madd\u001b[0m\u001b[1;33m(\u001b[0m\u001b[1;36m10\u001b[0m\u001b[1;33m,\u001b[0m\u001b[1;36m20\u001b[0m\u001b[1;33m,\u001b[0m\u001b[1;36m30\u001b[0m\u001b[1;33m)\u001b[0m\u001b[1;33m\u001b[0m\u001b[1;33m\u001b[0m\u001b[0m\n",
      "\u001b[1;31mTypeError\u001b[0m: add() missing 1 required positional argument: 'c'"
     ]
    }
   ],
   "source": [
    "class A:\n",
    "    def add(self,a,b):\n",
    "        print(a+b)\n",
    "    def add(self,a,b,c):\n",
    "        print(a+b+c)\n",
    "obj=A()\n",
    "obj.add(10,20)\n",
    "obj.add(10,20,30)"
   ]
  },
  {
   "cell_type": "code",
   "execution_count": 2,
   "metadata": {},
   "outputs": [
    {
     "name": "stdout",
     "output_type": "stream",
     "text": [
      "60\n"
     ]
    },
    {
     "ename": "TypeError",
     "evalue": "add() missing 1 required positional argument: 'c'",
     "output_type": "error",
     "traceback": [
      "\u001b[1;31m---------------------------------------------------------------------------\u001b[0m",
      "\u001b[1;31mTypeError\u001b[0m                                 Traceback (most recent call last)",
      "\u001b[1;32m<ipython-input-2-d142ac995af2>\u001b[0m in \u001b[0;36m<module>\u001b[1;34m\u001b[0m\n\u001b[0;32m      6\u001b[0m \u001b[0mobj\u001b[0m\u001b[1;33m=\u001b[0m\u001b[0mA\u001b[0m\u001b[1;33m(\u001b[0m\u001b[1;33m)\u001b[0m\u001b[1;33m\u001b[0m\u001b[1;33m\u001b[0m\u001b[0m\n\u001b[0;32m      7\u001b[0m \u001b[0mobj\u001b[0m\u001b[1;33m.\u001b[0m\u001b[0madd\u001b[0m\u001b[1;33m(\u001b[0m\u001b[1;36m10\u001b[0m\u001b[1;33m,\u001b[0m\u001b[1;36m20\u001b[0m\u001b[1;33m,\u001b[0m\u001b[1;36m30\u001b[0m\u001b[1;33m)\u001b[0m\u001b[1;33m\u001b[0m\u001b[1;33m\u001b[0m\u001b[0m\n\u001b[1;32m----> 8\u001b[1;33m \u001b[0mobj\u001b[0m\u001b[1;33m.\u001b[0m\u001b[0madd\u001b[0m\u001b[1;33m(\u001b[0m\u001b[1;36m10\u001b[0m\u001b[1;33m,\u001b[0m\u001b[1;36m20\u001b[0m\u001b[1;33m)\u001b[0m\u001b[1;33m\u001b[0m\u001b[1;33m\u001b[0m\u001b[0m\n\u001b[0m",
      "\u001b[1;31mTypeError\u001b[0m: add() missing 1 required positional argument: 'c'"
     ]
    }
   ],
   "source": [
    "class A:\n",
    "    def add(self,a,b):\n",
    "        print(a+b)\n",
    "    def add(self,a,b,c):\n",
    "        print(a+b+c)\n",
    "obj=A()\n",
    "obj.add(10,20,30)\n",
    "obj.add(10,20)\n"
   ]
  },
  {
   "cell_type": "code",
   "execution_count": 4,
   "metadata": {},
   "outputs": [
    {
     "name": "stdout",
     "output_type": "stream",
     "text": [
      "30\n",
      "60\n"
     ]
    }
   ],
   "source": [
    "class A:\n",
    "    def add(self,a,b):\n",
    "        print(a+b)\n",
    "    def add(self,a,b,c=0):\n",
    "        print(a+b+c)\n",
    "obj=A()\n",
    "obj.add(10,20)\n",
    "obj.add(10,20,30)"
   ]
  },
  {
   "cell_type": "code",
   "execution_count": 9,
   "metadata": {},
   "outputs": [],
   "source": [
    "class A:  #parent class or base class\n",
    "    def first(self):\n",
    "        print(\"first func of class A\")\n",
    "    def second(self):\n",
    "        print(\"second function of class A\")\n",
    "class B(A): #child class or derived class\n",
    "    def first(self): #overridden method\n",
    "         print(\"first func of class B\")\n",
    "    def display(self):\n",
    "        print(\"display function of class B\")\n",
    "        \n"
   ]
  },
  {
   "cell_type": "code",
   "execution_count": 10,
   "metadata": {},
   "outputs": [
    {
     "name": "stdout",
     "output_type": "stream",
     "text": [
      "first func of class B\n",
      "second function of class A\n",
      "display function of class B\n"
     ]
    }
   ],
   "source": [
    "obj=B()\n",
    "obj.first()\n",
    "obj.second()\n",
    "obj.display()"
   ]
  },
  {
   "cell_type": "code",
   "execution_count": 12,
   "metadata": {},
   "outputs": [
    {
     "name": "stdout",
     "output_type": "stream",
     "text": [
      "first func of class A\n",
      "second function of class A\n"
     ]
    },
    {
     "ename": "AttributeError",
     "evalue": "'A' object has no attribute 'display'",
     "output_type": "error",
     "traceback": [
      "\u001b[1;31m---------------------------------------------------------------------------\u001b[0m",
      "\u001b[1;31mAttributeError\u001b[0m                            Traceback (most recent call last)",
      "\u001b[1;32m<ipython-input-12-66d55a9c5653>\u001b[0m in \u001b[0;36m<module>\u001b[1;34m\u001b[0m\n\u001b[0;32m      2\u001b[0m \u001b[0mobj1\u001b[0m\u001b[1;33m.\u001b[0m\u001b[0mfirst\u001b[0m\u001b[1;33m(\u001b[0m\u001b[1;33m)\u001b[0m\u001b[1;33m\u001b[0m\u001b[1;33m\u001b[0m\u001b[0m\n\u001b[0;32m      3\u001b[0m \u001b[0mobj1\u001b[0m\u001b[1;33m.\u001b[0m\u001b[0msecond\u001b[0m\u001b[1;33m(\u001b[0m\u001b[1;33m)\u001b[0m\u001b[1;33m\u001b[0m\u001b[1;33m\u001b[0m\u001b[0m\n\u001b[1;32m----> 4\u001b[1;33m \u001b[0mobj1\u001b[0m\u001b[1;33m.\u001b[0m\u001b[0mdisplay\u001b[0m\u001b[1;33m(\u001b[0m\u001b[1;33m)\u001b[0m\u001b[1;33m\u001b[0m\u001b[1;33m\u001b[0m\u001b[0m\n\u001b[0m",
      "\u001b[1;31mAttributeError\u001b[0m: 'A' object has no attribute 'display'"
     ]
    }
   ],
   "source": [
    "obj1=A()\n",
    "obj1.first()\n",
    "obj1.second()\n",
    "obj1.display()"
   ]
  },
  {
   "cell_type": "code",
   "execution_count": 15,
   "metadata": {},
   "outputs": [
    {
     "ename": "AttributeError",
     "evalue": "'child' object has no attribute 'attr1'",
     "output_type": "error",
     "traceback": [
      "\u001b[1;31m---------------------------------------------------------------------------\u001b[0m",
      "\u001b[1;31mAttributeError\u001b[0m                            Traceback (most recent call last)",
      "\u001b[1;32m<ipython-input-15-c0f9ccf90822>\u001b[0m in \u001b[0;36m<module>\u001b[1;34m\u001b[0m\n\u001b[0;32m      8\u001b[0m         \u001b[0mself\u001b[0m\u001b[1;33m.\u001b[0m\u001b[0mattr3\u001b[0m\u001b[1;33m=\u001b[0m\u001b[1;36m70\u001b[0m\u001b[1;33m\u001b[0m\u001b[1;33m\u001b[0m\u001b[0m\n\u001b[0;32m      9\u001b[0m \u001b[0mobj\u001b[0m\u001b[1;33m=\u001b[0m\u001b[0mchild\u001b[0m\u001b[1;33m(\u001b[0m\u001b[1;33m)\u001b[0m\u001b[1;33m\u001b[0m\u001b[1;33m\u001b[0m\u001b[0m\n\u001b[1;32m---> 10\u001b[1;33m \u001b[0mprint\u001b[0m\u001b[1;33m(\u001b[0m\u001b[0mobj\u001b[0m\u001b[1;33m.\u001b[0m\u001b[0mattr1\u001b[0m\u001b[1;33m)\u001b[0m\u001b[1;33m\u001b[0m\u001b[1;33m\u001b[0m\u001b[0m\n\u001b[0m",
      "\u001b[1;31mAttributeError\u001b[0m: 'child' object has no attribute 'attr1'"
     ]
    }
   ],
   "source": [
    "class parent:\n",
    "    def __init__(self):\n",
    "        self.attr1=50\n",
    "        self.attr2=60\n",
    "        \n",
    "class child(parent):\n",
    "    def __init__(self):\n",
    "        self.attr3=70\n",
    "obj=child()\n",
    "print(obj.attr1)"
   ]
  },
  {
   "cell_type": "code",
   "execution_count": 18,
   "metadata": {},
   "outputs": [
    {
     "ename": "SyntaxError",
     "evalue": "invalid syntax (<ipython-input-18-1a4feb8cadda>, line 8)",
     "output_type": "error",
     "traceback": [
      "\u001b[1;36m  File \u001b[1;32m\"<ipython-input-18-1a4feb8cadda>\"\u001b[1;36m, line \u001b[1;32m8\u001b[0m\n\u001b[1;33m    super()__init()\u001b[0m\n\u001b[1;37m           ^\u001b[0m\n\u001b[1;31mSyntaxError\u001b[0m\u001b[1;31m:\u001b[0m invalid syntax\n"
     ]
    }
   ],
   "source": [
    "class parent:\n",
    "    def __init__(self):\n",
    "        self.attr1=50\n",
    "        self.attr2=60\n",
    "        \n",
    "class child(parent):\n",
    "    def __init__(self):\n",
    "        super()__init()\n",
    "        self.a__ttr3=70\n",
    "obj=child()\n",
    "print(obj.attr1)"
   ]
  },
  {
   "cell_type": "code",
   "execution_count": 22,
   "metadata": {},
   "outputs": [],
   "source": [
    "#super()\n",
    "class Add:\n",
    "    def result(self,a,b):\n",
    "        print(\"addition:\",a+b)\n",
    "class multi(Add):\n",
    "    def result(self,a,b):\n",
    "        print(\"multi:\",a*b)\n",
    "        super().result(10,20)\n",
    "        m=multi()\n",
    "        m.result(10,20)\n",
    "        m.Add()\n",
    "        m.result(10,20)"
   ]
  },
  {
   "cell_type": "code",
   "execution_count": null,
   "metadata": {},
   "outputs": [],
   "source": []
  },
  {
   "cell_type": "markdown",
   "metadata": {},
   "source": [
    "## Operator Overloading"
   ]
  },
  {
   "cell_type": "code",
   "execution_count": 23,
   "metadata": {},
   "outputs": [
    {
     "name": "stdout",
     "output_type": "stream",
     "text": [
      "5\n",
      "hihello\n"
     ]
    }
   ],
   "source": [
    "class A:\n",
    "    def __init__(self,a):\n",
    "        self.a=a\n",
    "    def __add__(self,other): # we do not need to call this method, it gets called automatically when we use the '+' operator\n",
    "        return self.a+other.a\n",
    "    \n",
    "o1=A(2)\n",
    "o2=A(3)\n",
    "o3=A(\"hi\")\n",
    "o4=A(\"hello\")\n",
    "print(o1+o2)\n",
    "print(o3+o4)"
   ]
  },
  {
   "cell_type": "code",
   "execution_count": 25,
   "metadata": {},
   "outputs": [
    {
     "name": "stdout",
     "output_type": "stream",
     "text": [
      "6\n",
      "hellohello\n"
     ]
    }
   ],
   "source": [
    "class A:\n",
    "    def __init__(self,a):\n",
    "        self.a=a\n",
    "    def __add__(self,other): # we do not need to call this method, it gets called automatically when we use the '+' operator\n",
    "        return self.a*other.a\n",
    "    \n",
    "o1=A(2)\n",
    "o2=A(3)\n",
    "o3=A(\"hi\")\n",
    "o4=A(\"hello\")\n",
    "print(o1+o2)\n",
    "print(o1+o4)"
   ]
  },
  {
   "cell_type": "code",
   "execution_count": 26,
   "metadata": {},
   "outputs": [
    {
     "name": "stdout",
     "output_type": "stream",
     "text": [
      "5\n",
      "hihello\n"
     ]
    }
   ],
   "source": [
    "class A:\n",
    "    def __init__(self,a):\n",
    "        self.a=a\n",
    "    def __add__(self,other): # we do not need to call this method, it gets called automatically when we use the '+' operator\n",
    "        return self.a+other.a\n",
    "    \n",
    "o1=A(2)\n",
    "o2=A(3)\n",
    "o3=A(\"hi\")\n",
    "o4=A(\"hello\")\n",
    "# print(o1+o2)\n",
    "# print(o3+o4)\n",
    "print(A.__add__(o1,o2))\n",
    "print(A.__add__(o3,o4))"
   ]
  },
  {
   "cell_type": "code",
   "execution_count": 28,
   "metadata": {},
   "outputs": [
    {
     "name": "stdout",
     "output_type": "stream",
     "text": [
      "6\n",
      "hellohello\n"
     ]
    }
   ],
   "source": [
    "class A:\n",
    "    def __init__(self,a):\n",
    "        self.a=a\n",
    "    def __add__(self,other): # we do not need to call this method, it gets called automatically when we use the '+' operator\n",
    "        return self.a*other.a\n",
    "    \n",
    "o1=A(2)\n",
    "o2=A(3)\n",
    "o3=A(\"hi\")\n",
    "o4=A(\"hello\")\n",
    "# print(o1+o2)\n",
    "# print(o1+o4)\n",
    "print(o1.__add__(o2))\n",
    "print(o1.__add__(o4))"
   ]
  },
  {
   "cell_type": "markdown",
   "metadata": {},
   "source": [
    "###### operator overloading"
   ]
  },
  {
   "cell_type": "code",
   "execution_count": 32,
   "metadata": {},
   "outputs": [
    {
     "name": "stdout",
     "output_type": "stream",
     "text": [
      "7\n",
      "-1\n",
      "12\n",
      "0.75\n",
      "0\n",
      "3\n",
      "81\n"
     ]
    }
   ],
   "source": [
    "class C:\n",
    "    def __init__(self,a):\n",
    "        self.a=a\n",
    "    def __add__(self,other):\n",
    "        return self.a+other.a\n",
    "    def __sub__(self,other):\n",
    "        return self.a-other.a\n",
    "    def __mul__(self,other):\n",
    "        return self.a*other.a\n",
    "    def __truediv__(self,other):\n",
    "        return self.a/other.a\n",
    "    def __floordiv__(self,other):\n",
    "        return self.a//other.a\n",
    "    def __mod__(self,other):\n",
    "        return self.a%other.a\n",
    "    def __pow__(self,other):\n",
    "        return self.a**other.a\n",
    "    \n",
    "a1=C(3)\n",
    "a2=C(4)\n",
    "print(a1+a2)\n",
    "print(a1-a2)\n",
    "print(a1*a2)\n",
    "print(a1/a2)\n",
    "print(a1//a2)\n",
    "print(a1%a2)\n",
    "print(a1**a2)"
   ]
  },
  {
   "cell_type": "markdown",
   "metadata": {},
   "source": [
    "###### comparision overloading:"
   ]
  },
  {
   "cell_type": "code",
   "execution_count": 36,
   "metadata": {
    "scrolled": true
   },
   "outputs": [
    {
     "name": "stdout",
     "output_type": "stream",
     "text": [
      "False\n",
      "True\n",
      "False\n",
      "True\n",
      "True\n",
      "False\n"
     ]
    }
   ],
   "source": [
    "class A:\n",
    "    def __init__(self,a):\n",
    "        self.a=a\n",
    "    def __gt__(self,other):\n",
    "        if self.a>other.a:\n",
    "            return True\n",
    "        else:\n",
    "            return False\n",
    "    def __lt__(self,other):\n",
    "        if self.a<other.a:\n",
    "            return True\n",
    "        else:\n",
    "            return False\n",
    "    def __ge__(self,other):\n",
    "        if self.a>=other.a:\n",
    "            return True\n",
    "        else:\n",
    "            return False\n",
    "    def __le__(self,other):\n",
    "        if self.a<=other.a:\n",
    "            return True\n",
    "        else:\n",
    "            return False\n",
    "    def __eq__(self,other):\n",
    "        if self.a==other.a:\n",
    "            return True\n",
    "        else:\n",
    "            return False\n",
    "    def __ne__(self,other):\n",
    "        if self.a!=other.a:\n",
    "            return True\n",
    "        else:\n",
    "            return False\n",
    "        \n",
    "o1=A(2)\n",
    "o2=A(3)\n",
    "o3=A(2)\n",
    "print(o1>o2)\n",
    "print(o1<o2)\n",
    "print(o1>=o2)\n",
    "print(o1<=o2)\n",
    "print(o1==o3)\n",
    "print(o1!=o3)"
   ]
  },
  {
   "cell_type": "markdown",
   "metadata": {},
   "source": [
    "## INHERITANCE:"
   ]
  },
  {
   "cell_type": "markdown",
   "metadata": {},
   "source": [
    "    -The ability to inherit features or attributes from already written classes into newer classes we make\n",
    "    -It promotes code reusability\n",
    "    -It makes codebases modular"
   ]
  },
  {
   "cell_type": "markdown",
   "metadata": {},
   "source": [
    "#### Types of Inheritance:\n",
    "    1.Single\n",
    "    2.Multiple\n",
    "    3.Multilevel\n",
    "    4.Hierarical\n",
    "    5.Hybrid"
   ]
  },
  {
   "cell_type": "markdown",
   "metadata": {},
   "source": [
    "### 1.Single Inheritance:\n"
   ]
  },
  {
   "cell_type": "code",
   "execution_count": 39,
   "metadata": {},
   "outputs": [
    {
     "name": "stdout",
     "output_type": "stream",
     "text": [
      "Hello parent\n",
      "Hello child\n"
     ]
    }
   ],
   "source": [
    "class parent:\n",
    "    def func1(self):\n",
    "        print(\"Hello parent\")\n",
    "class child(parent):\n",
    "    def func2(self):\n",
    "        print(\"Hello child\")\n",
    "        \n",
    "test=child()\n",
    "test.func1()\n",
    "test.func2()"
   ]
  },
  {
   "cell_type": "markdown",
   "metadata": {},
   "source": [
    "### 2.Multiple Inheritance:"
   ]
  },
  {
   "cell_type": "code",
   "execution_count": 43,
   "metadata": {},
   "outputs": [
    {
     "name": "stdout",
     "output_type": "stream",
     "text": [
      "hello parent1\n",
      "hello parent2\n",
      "hello child\n"
     ]
    }
   ],
   "source": [
    "class parent1:\n",
    "    def func1(self):\n",
    "        print(\"hello parent1\")\n",
    "class parent2:\n",
    "    def func2(self):\n",
    "        print(\"hello parent2\")\n",
    "class parent3:\n",
    "    def func2(self):\n",
    "        print(\"hello parent3\")\n",
    "class child(parent1,parent2,parent3):\n",
    "    def func3(self):\n",
    "        print(\"hello child\")\n",
    "        \n",
    "test=child()\n",
    "test.func1()\n",
    "test.func2()\n",
    "test.func3()"
   ]
  },
  {
   "cell_type": "code",
   "execution_count": 44,
   "metadata": {},
   "outputs": [
    {
     "name": "stdout",
     "output_type": "stream",
     "text": [
      "hello parent1\n",
      "hello parent3\n",
      "hello child\n"
     ]
    }
   ],
   "source": [
    "class parent1:\n",
    "    def func1(self):\n",
    "        print(\"hello parent1\")\n",
    "class parent2:\n",
    "    def func2(self):\n",
    "        print(\"hello parent2\")\n",
    "class parent3:\n",
    "    def func2(self):\n",
    "        print(\"hello parent3\")\n",
    "class child(parent1,parent3,parent2):\n",
    "    def func3(self):\n",
    "        print(\"hello child\")\n",
    "        \n",
    "test=child()\n",
    "test.func1()\n",
    "test.func2()\n",
    "test.func3()"
   ]
  },
  {
   "cell_type": "code",
   "execution_count": 45,
   "metadata": {},
   "outputs": [
    {
     "name": "stdout",
     "output_type": "stream",
     "text": [
      "hello parent1\n",
      "hello parent2\n",
      "hello child\n",
      "(<class '__main__.child'>, <class '__main__.parent1'>, <class '__main__.parent2'>, <class '__main__.parent3'>, <class 'object'>)\n",
      "[<class '__main__.child'>, <class '__main__.parent1'>, <class '__main__.parent2'>, <class '__main__.parent3'>, <class 'object'>]\n"
     ]
    }
   ],
   "source": [
    "class parent1:\n",
    "    def func1(self):\n",
    "        print(\"hello parent1\")\n",
    "class parent2:\n",
    "    def func2(self):\n",
    "        print(\"hello parent2\")\n",
    "class parent3:\n",
    "    def func2(self):\n",
    "        print(\"hello parent3\")\n",
    "class child(parent1,parent2,parent3):\n",
    "    def func3(self):\n",
    "        print(\"hello child\")\n",
    "        \n",
    "test=child()\n",
    "test.func1()\n",
    "test.func2()\n",
    "test.func3()\n",
    "print(child.__mro__)#mro=method resolution order\n",
    "# OR\n",
    "print(child.mro())"
   ]
  },
  {
   "cell_type": "code",
   "execution_count": 46,
   "metadata": {},
   "outputs": [
    {
     "name": "stdout",
     "output_type": "stream",
     "text": [
      "hello parent1\n",
      "hello parent3\n",
      "hello child\n",
      "(<class '__main__.child'>, <class '__main__.parent1'>, <class '__main__.parent3'>, <class '__main__.parent2'>, <class 'object'>)\n",
      "[<class '__main__.child'>, <class '__main__.parent1'>, <class '__main__.parent3'>, <class '__main__.parent2'>, <class 'object'>]\n"
     ]
    }
   ],
   "source": [
    "class parent1:\n",
    "    def func1(self):\n",
    "        print(\"hello parent1\")\n",
    "class parent2:\n",
    "    def func2(self):\n",
    "        print(\"hello parent2\")\n",
    "class parent3:\n",
    "    def func2(self):\n",
    "        print(\"hello parent3\")\n",
    "class child(parent1,parent3,parent2):\n",
    "    def func3(self):\n",
    "        print(\"hello child\")\n",
    "        \n",
    "test=child()\n",
    "test.func1()\n",
    "test.func2()\n",
    "test.func3()\n",
    "print(child.__mro__)\n",
    "# OR\n",
    "print(child.mro())"
   ]
  },
  {
   "cell_type": "markdown",
   "metadata": {},
   "source": [
    "### 3.MULTILEVEL INHERITANCE:"
   ]
  },
  {
   "cell_type": "markdown",
   "metadata": {},
   "source": [
    "    GRANDPARENT\n",
    "        |\n",
    "      PARENT\n",
    "        |\n",
    "      CHILD"
   ]
  },
  {
   "cell_type": "code",
   "execution_count": 48,
   "metadata": {},
   "outputs": [
    {
     "name": "stdout",
     "output_type": "stream",
     "text": [
      "grandparent\n",
      "parent\n",
      "child\n",
      "(<class '__main__.child'>, <class '__main__.parent'>, <class '__main__.grandparent'>, <class 'object'>)\n"
     ]
    }
   ],
   "source": [
    "class grandparent:\n",
    "    def f1(self):\n",
    "        print(\"grandparent\")\n",
    "        \n",
    "class parent(grandparent):\n",
    "    def f2(self):\n",
    "        print(\"parent\")\n",
    "        \n",
    "class child(parent):\n",
    "    def f3(self):\n",
    "        print(\"child\")\n",
    "        \n",
    "c1=child()\n",
    "c1.f1()\n",
    "c1.f2()\n",
    "c1.f3()\n",
    "print(child.__mro__)"
   ]
  },
  {
   "cell_type": "markdown",
   "metadata": {},
   "source": [
    "### 4.HIERARCHICAL INHERITANCE:"
   ]
  },
  {
   "cell_type": "code",
   "execution_count": 51,
   "metadata": {},
   "outputs": [
    {
     "name": "stdout",
     "output_type": "stream",
     "text": [
      "hello parent\n",
      "hello child 1\n",
      "hello parent\n",
      "hello child 2\n"
     ]
    }
   ],
   "source": [
    "class parent():\n",
    "    def func1(self):\n",
    "        print(\"hello parent\")\n",
    "class child1(parent):\n",
    "    def func2(self):\n",
    "        print(\"hello child 1\")\n",
    "class child2(parent):\n",
    "    def func3(self):\n",
    "        print(\"hello child 2\")\n",
    "        \n",
    "test1=child1()\n",
    "test2=child2()\n",
    "test1.func1()\n",
    "test1.func2()\n",
    "test2.func1()\n",
    "# test2.func2()\n",
    "test2.func3()"
   ]
  },
  {
   "cell_type": "markdown",
   "metadata": {},
   "source": [
    "### 5.HYBRID INHERITANCE:"
   ]
  },
  {
   "cell_type": "code",
   "execution_count": 55,
   "metadata": {},
   "outputs": [
    {
     "name": "stdout",
     "output_type": "stream",
     "text": [
      "hello parent1\n",
      "hello parent1\n",
      "hello parent2\n",
      "[<class '__main__.parent1'>, <class 'object'>]\n",
      "[<class '__main__.parent2'>, <class 'object'>]\n"
     ]
    }
   ],
   "source": [
    "class parent1:\n",
    "    def func1(self):\n",
    "        print(\"hello parent1\")\n",
    "        \n",
    "class parent2:\n",
    "    def func2(self):\n",
    "        print(\"hello parent2\")\n",
    "        \n",
    "class child1(parent1):\n",
    "    def func3(self):\n",
    "        print(\"hello child1\")\n",
    "        \n",
    "class child2(child1,parent2):\n",
    "    def func4(self):\n",
    "        print(\"hello child2\")\n",
    "        \n",
    "c1=child1()\n",
    "c2=child2()\n",
    "c1.func1()\n",
    "# c1.func2()\n",
    "c2.func1()\n",
    "c2.func2()\n",
    "print(parent1.mro())\n",
    "print(parent2.mro())\n"
   ]
  },
  {
   "cell_type": "markdown",
   "metadata": {},
   "source": [
    "    p1   p2\n",
    "    |     |\n",
    "    c1    |\n",
    "    |     |\n",
    "    -------\n",
    "       |\n",
    "    child2"
   ]
  }
 ],
 "metadata": {
  "kernelspec": {
   "display_name": "Python 3",
   "language": "python",
   "name": "python3"
  },
  "language_info": {
   "codemirror_mode": {
    "name": "ipython",
    "version": 3
   },
   "file_extension": ".py",
   "mimetype": "text/x-python",
   "name": "python",
   "nbconvert_exporter": "python",
   "pygments_lexer": "ipython3",
   "version": "3.8.5"
  }
 },
 "nbformat": 4,
 "nbformat_minor": 4
}
