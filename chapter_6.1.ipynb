{
 "cells": [
  {
   "cell_type": "markdown",
   "metadata": {},
   "source": [
    "# UNIT-6 WORKING WITH FILES"
   ]
  },
  {
   "cell_type": "markdown",
   "metadata": {},
   "source": [
    "    PYTHON INBUILD FUNCTIONS:\n",
    "        -CREATE\n",
    "        -READ\n",
    "        -WRITE\n",
    "    TYPES OF FILES\n",
    "        -TEXT FILE  ----termination for line '\\n'\n",
    "        -BINARY FILE ---machine understandable no terminator for a '\\n' line"
   ]
  },
  {
   "cell_type": "code",
   "execution_count": 4,
   "metadata": {},
   "outputs": [
    {
     "name": "stdout",
     "output_type": "stream",
     "text": [
      "demo file for chapter 6\n",
      "hello world\n",
      "good morning\n",
      "False\n"
     ]
    }
   ],
   "source": [
    "f=open(\"demo.txt\",\"r\")  #open karya vagar file ma edit thay na \n",
    "print(f.read())\n",
    "print(f.closed)  #returns true or false"
   ]
  },
  {
   "cell_type": "code",
   "execution_count": 5,
   "metadata": {},
   "outputs": [
    {
     "name": "stdout",
     "output_type": "stream",
     "text": [
      "demo file for chapter 6\n",
      "hello world\n",
      "good morning\n",
      "True\n"
     ]
    }
   ],
   "source": [
    "f=open(\"demo.txt\",\"r\")  \n",
    "print(f.read())\n",
    "f.close()\n",
    "print(f.closed) "
   ]
  },
  {
   "cell_type": "code",
   "execution_count": 6,
   "metadata": {},
   "outputs": [],
   "source": [
    "#if we open in the above way then the files never closes itself, we always have to do that manually "
   ]
  },
  {
   "cell_type": "code",
   "execution_count": 7,
   "metadata": {},
   "outputs": [
    {
     "name": "stdout",
     "output_type": "stream",
     "text": [
      "demo file for chapter 6\n",
      "hello world\n",
      "good morning\n",
      "False\n"
     ]
    }
   ],
   "source": [
    "with open(\"demo.txt\",\"r\") as f:  #used to close the files automatically\n",
    "    print(f.read())\n",
    "    print(f.closed)"
   ]
  },
  {
   "cell_type": "code",
   "execution_count": 8,
   "metadata": {},
   "outputs": [
    {
     "name": "stdout",
     "output_type": "stream",
     "text": [
      "demo file for chapter 6\n",
      "hello world\n",
      "good morning\n",
      "False\n",
      "True\n"
     ]
    }
   ],
   "source": [
    "with open(\"demo.txt\",\"r\") as f:\n",
    "    print(f.read())\n",
    "    print(f.closed)\n",
    "    \n",
    "print(f.closed)"
   ]
  },
  {
   "cell_type": "code",
   "execution_count": 9,
   "metadata": {},
   "outputs": [],
   "source": [
    "# here(above) when we come out of indentation, the file automatically closes itself."
   ]
  },
  {
   "cell_type": "markdown",
   "metadata": {},
   "source": [
    "    list of modes in files\n",
    "    -  r\n",
    "    -  w\n",
    "    -  a\n",
    "    -  r+\n",
    "    -  w+\n",
    "    -  a+\n",
    "\n",
    "    the last 3 are for both, reading and writing"
   ]
  },
  {
   "cell_type": "markdown",
   "metadata": {},
   "source": [
    "- if no mode is given then it consideres the 'r' mode \n",
    "- if a file is opened in read mode and the file does not exist then it will give an error\n",
    "- but if a non existing file is opened in 'w' or 'a' mode then then a new blank file is generated for the same name\n",
    "- if we open a pre-existing file in 'w' mode then all the pre-existing data will be over-ridden \n",
    "- if we open an existing file in 'a' mode then the new data will be appended after the old data"
   ]
  },
  {
   "cell_type": "markdown",
   "metadata": {},
   "source": [
    "    -read                 r r+ w+ a+\n",
    "    -wirte                r+ w w+ a a+\n",
    "    -create               w w+ a a+\n",
    "    -truncate             w w+\n",
    "    -position at begin    r r+ w w+ \n",
    "    -position at end      a a+\n"
   ]
  },
  {
   "cell_type": "code",
   "execution_count": 11,
   "metadata": {},
   "outputs": [],
   "source": [
    "# original data in demo.txt:  this is python\n",
    "f=open(\"demo.txt\",\"r+\")\n",
    "f.write(\"this is java\")\n",
    "f.close()\n",
    "\n",
    "#answer in demo.txt file :  this is javaon"
   ]
  },
  {
   "cell_type": "code",
   "execution_count": 12,
   "metadata": {},
   "outputs": [],
   "source": [
    "# original data in demo.txt: this is javaon\n",
    "f=open(\"demo.txt\",\"r+\")\n",
    "f.write(\"this is java xyz\")\n",
    "f.close()\n",
    "#answer in demo.txt file :  this is java xyz"
   ]
  },
  {
   "cell_type": "markdown",
   "metadata": {},
   "source": [
    "#### Reading the files:"
   ]
  },
  {
   "cell_type": "markdown",
   "metadata": {},
   "source": [
    "    read()\n",
    "    readline()\n",
    "    readlines()"
   ]
  },
  {
   "cell_type": "code",
   "execution_count": 18,
   "metadata": {},
   "outputs": [
    {
     "name": "stdout",
     "output_type": "stream",
     "text": [
      "this is python 1\n",
      "this is python 2\n",
      "this is python 3\n",
      "this is python 4\n",
      "\n"
     ]
    }
   ],
   "source": [
    "#original:\n",
    "'''\n",
    "this is python 1\n",
    "this is python 2\n",
    "this is python 3\n",
    "this is python 4\n",
    "\n",
    "'''\n",
    "f=open(\"demo.txt\",\"r+\")\n",
    "print(f.read()) ##\n",
    "print(f.read()) # read wont work for the sencond time as the cursor has reached the end of the file"
   ]
  },
  {
   "cell_type": "code",
   "execution_count": 19,
   "metadata": {},
   "outputs": [
    {
     "name": "stdout",
     "output_type": "stream",
     "text": [
      "this is python 1\n",
      "this is python 2\n",
      "this is python 3\n",
      "this is python 4\n",
      "this is python 1\n",
      "this is python 2\n",
      "this is python 3\n",
      "this is python 4\n"
     ]
    }
   ],
   "source": [
    "f=open(\"demo.txt\",\"r+\")\n",
    "print(f.read()) ##\n",
    "f.seek(0)  ##takes the cursor to the 0th position, hence here multi read will work.\n",
    "print(f.read())"
   ]
  },
  {
   "cell_type": "code",
   "execution_count": 20,
   "metadata": {},
   "outputs": [
    {
     "name": "stdout",
     "output_type": "stream",
     "text": [
      "this is python 1\n",
      "this is python 2\n",
      "this is python 3\n",
      "this is python 4\n",
      "is python 1\n",
      "this is python 2\n",
      "this is python 3\n",
      "this is python 4\n"
     ]
    }
   ],
   "source": [
    "f=open(\"demo.txt\",\"r+\")\n",
    "print(f.read()) ##\n",
    "f.seek(5)  ##takes the cursor to the 5th position, hence here multi read will work and give data from the 5th position\n",
    "print(f.read())"
   ]
  },
  {
   "cell_type": "code",
   "execution_count": 21,
   "metadata": {
    "scrolled": true
   },
   "outputs": [
    {
     "name": "stdout",
     "output_type": "stream",
     "text": [
      "67\n"
     ]
    }
   ],
   "source": [
    "print(f.tell()) # tells the current position of the cursor "
   ]
  },
  {
   "cell_type": "code",
   "execution_count": 22,
   "metadata": {},
   "outputs": [
    {
     "name": "stdout",
     "output_type": "stream",
     "text": [
      "\n"
     ]
    }
   ],
   "source": [
    "print(f.read())"
   ]
  },
  {
   "cell_type": "code",
   "execution_count": 23,
   "metadata": {},
   "outputs": [
    {
     "name": "stdout",
     "output_type": "stream",
     "text": [
      "0\n"
     ]
    }
   ],
   "source": [
    "f.seek(0)\n",
    "print(f.tell())"
   ]
  },
  {
   "cell_type": "code",
   "execution_count": 24,
   "metadata": {},
   "outputs": [
    {
     "name": "stdout",
     "output_type": "stream",
     "text": [
      "this is python 1\n",
      "this is python 2\n",
      "this is python 3\n",
      "this is python 4\n"
     ]
    }
   ],
   "source": [
    "print(f.read())"
   ]
  },
  {
   "cell_type": "code",
   "execution_count": 27,
   "metadata": {},
   "outputs": [
    {
     "name": "stdout",
     "output_type": "stream",
     "text": [
      "this \n",
      "is python \n",
      "1\n",
      "t\n",
      "his is python 2\n",
      "this\n"
     ]
    }
   ],
   "source": [
    "#original:\n",
    "'''\n",
    "this is python 1\n",
    "this is python 2\n",
    "this is python 3\n",
    "this is python 4\n",
    "\n",
    "'''\n",
    "#if we give value as a parameter in read then it reads the file from that particular position\n",
    "f=open(\"demo.txt\",\"r+\")\n",
    "print(f.read(5))\n",
    "#the next read with parameter will consider the nuber of letters from the current position of the cursor, in this case 5\n",
    "print(f.read(10))\n",
    "print(f.read(3))\n",
    "print(f.read(20))"
   ]
  },
  {
   "cell_type": "code",
   "execution_count": 28,
   "metadata": {},
   "outputs": [
    {
     "name": "stdout",
     "output_type": "stream",
     "text": [
      "this is python 1\n",
      "\n",
      "this is python 2\n",
      "\n"
     ]
    }
   ],
   "source": [
    "#if we want to read the data line by line then use readline():\n",
    "\n",
    "f=open(\"demo.txt\",\"r+\")\n",
    "print(f.readline())\n",
    "print(f.readline())"
   ]
  },
  {
   "cell_type": "code",
   "execution_count": 30,
   "metadata": {},
   "outputs": [
    {
     "name": "stdout",
     "output_type": "stream",
     "text": [
      "this is python 1\n",
      "\n",
      "this is python 2\n",
      "\n",
      "this is python 1\n",
      "\n",
      "this is python 2\n",
      "\n",
      "this is python 3\n",
      "\n"
     ]
    }
   ],
   "source": [
    "f=open(\"demo.txt\",\"r+\")\n",
    "print(f.readline())\n",
    "print(f.readline())\n",
    "f.seek(0)\n",
    "print(f.readline())\n",
    "print(f.readline())\n",
    "print(f.readline())\n"
   ]
  },
  {
   "cell_type": "code",
   "execution_count": 32,
   "metadata": {},
   "outputs": [
    {
     "name": "stdout",
     "output_type": "stream",
     "text": [
      "this \n",
      "is pytho\n",
      "n 1\n",
      "\n",
      "this is python 2\n",
      "\n",
      "this \n",
      "is python 3\n",
      "\n"
     ]
    }
   ],
   "source": [
    "f=open(\"demo.txt\",\"r+\")\n",
    "print(f.readline(5))\n",
    "print(f.readline(8))\n",
    "print(f.readline(10))  #line ni baar jay che to e linene complete karse \n",
    "print(f.readline(20))# value > actual length of the line hence full line is printed\n",
    "print(f.readline(5))\n",
    "print(f.readline(50))\n"
   ]
  },
  {
   "cell_type": "code",
   "execution_count": 33,
   "metadata": {},
   "outputs": [],
   "source": [
    "#read and readline output is given in string\n",
    "#readlines() output given in list\n",
    "#the value in the bracket is the position and the position starts from 0 so count accordingly "
   ]
  },
  {
   "cell_type": "code",
   "execution_count": 35,
   "metadata": {},
   "outputs": [
    {
     "name": "stdout",
     "output_type": "stream",
     "text": [
      "['this is python 1\\n', 'this is python 2\\n', 'this is python 3\\n', 'this is python 4']\n"
     ]
    }
   ],
   "source": [
    "f=open(\"demo.txt\",\"r+\")\n",
    "print(f.readlines())"
   ]
  },
  {
   "cell_type": "code",
   "execution_count": 36,
   "metadata": {},
   "outputs": [
    {
     "name": "stdout",
     "output_type": "stream",
     "text": [
      "['this is python 1\\n', 'this is python 2\\n']\n"
     ]
    }
   ],
   "source": [
    "f=open(\"demo.txt\",\"r+\")\n",
    "print(f.readlines(30))"
   ]
  },
  {
   "cell_type": "code",
   "execution_count": 37,
   "metadata": {},
   "outputs": [
    {
     "name": "stdout",
     "output_type": "stream",
     "text": [
      "['this is python 1\\n', 'this is python 2\\n', 'this is python 3\\n']\n"
     ]
    }
   ],
   "source": [
    "f=open(\"demo.txt\",\"r+\")\n",
    "print(f.readlines(36))"
   ]
  },
  {
   "cell_type": "code",
   "execution_count": 38,
   "metadata": {},
   "outputs": [],
   "source": [
    "# here,if the number of character crosses the 2nd line then the whole 3rd line will also be printed"
   ]
  },
  {
   "cell_type": "code",
   "execution_count": 39,
   "metadata": {},
   "outputs": [
    {
     "name": "stdout",
     "output_type": "stream",
     "text": [
      "['this is python 1\\n', 'this is python 2\\n']\n"
     ]
    }
   ],
   "source": [
    "f=open(\"demo.txt\",\"r+\")\n",
    "print(f.readlines(17))\n",
    "#17th position is the position of \\n so it crosses the line hence the 2nd line is also being printed"
   ]
  },
  {
   "cell_type": "code",
   "execution_count": 40,
   "metadata": {},
   "outputs": [
    {
     "name": "stdout",
     "output_type": "stream",
     "text": [
      "['this is python 1\\n']\n"
     ]
    }
   ],
   "source": [
    "f=open(\"demo.txt\",\"r+\")\n",
    "print(f.readlines(16))"
   ]
  },
  {
   "cell_type": "code",
   "execution_count": 41,
   "metadata": {},
   "outputs": [
    {
     "name": "stdout",
     "output_type": "stream",
     "text": [
      "['this is python 1\\n', 'this is python 2\\n', 'this is python 3\\n', 'this is python 4']\n",
      "67\n"
     ]
    }
   ],
   "source": [
    "f=open(\"demo.txt\",\"r+\")\n",
    "print(f.readlines())\n",
    "print(f.tell())"
   ]
  },
  {
   "cell_type": "code",
   "execution_count": 43,
   "metadata": {},
   "outputs": [
    {
     "name": "stdout",
     "output_type": "stream",
     "text": [
      "['this is python 1\\n', 'this is python 2\\n']\n"
     ]
    },
    {
     "ename": "OSError",
     "evalue": "telling position disabled by next() call",
     "output_type": "error",
     "traceback": [
      "\u001b[1;31m---------------------------------------------------------------------------\u001b[0m",
      "\u001b[1;31mOSError\u001b[0m                                   Traceback (most recent call last)",
      "\u001b[1;32m<ipython-input-43-9bd226b1ddb7>\u001b[0m in \u001b[0;36m<module>\u001b[1;34m\u001b[0m\n\u001b[0;32m      1\u001b[0m \u001b[0mf\u001b[0m\u001b[1;33m=\u001b[0m\u001b[0mopen\u001b[0m\u001b[1;33m(\u001b[0m\u001b[1;34m\"demo.txt\"\u001b[0m\u001b[1;33m,\u001b[0m\u001b[1;34m\"r+\"\u001b[0m\u001b[1;33m)\u001b[0m\u001b[1;33m\u001b[0m\u001b[1;33m\u001b[0m\u001b[0m\n\u001b[0;32m      2\u001b[0m \u001b[0mprint\u001b[0m\u001b[1;33m(\u001b[0m\u001b[0mf\u001b[0m\u001b[1;33m.\u001b[0m\u001b[0mreadlines\u001b[0m\u001b[1;33m(\u001b[0m\u001b[1;36m20\u001b[0m\u001b[1;33m)\u001b[0m\u001b[1;33m)\u001b[0m\u001b[1;33m\u001b[0m\u001b[1;33m\u001b[0m\u001b[0m\n\u001b[1;32m----> 3\u001b[1;33m \u001b[0mprint\u001b[0m\u001b[1;33m(\u001b[0m\u001b[0mf\u001b[0m\u001b[1;33m.\u001b[0m\u001b[0mtell\u001b[0m\u001b[1;33m(\u001b[0m\u001b[1;33m)\u001b[0m\u001b[1;33m)\u001b[0m\u001b[1;33m\u001b[0m\u001b[1;33m\u001b[0m\u001b[0m\n\u001b[0m\u001b[0;32m      4\u001b[0m \u001b[1;33m\u001b[0m\u001b[0m\n\u001b[0;32m      5\u001b[0m \u001b[1;31m#tell method wont work if we have passed a parameter in the readlines.\u001b[0m\u001b[1;33m\u001b[0m\u001b[1;33m\u001b[0m\u001b[1;33m\u001b[0m\u001b[0m\n",
      "\u001b[1;31mOSError\u001b[0m: telling position disabled by next() call"
     ]
    }
   ],
   "source": [
    "f=open(\"demo.txt\",\"r+\")\n",
    "print(f.readlines(20))\n",
    "print(f.tell())\n",
    "\n",
    "#tell method wont work if we have passed a parameter in the readlines.\n",
    "#because the result is stored in list. so it wont be able to tell"
   ]
  },
  {
   "cell_type": "markdown",
   "metadata": {},
   "source": [
    "### writing in files"
   ]
  },
  {
   "cell_type": "code",
   "execution_count": 45,
   "metadata": {},
   "outputs": [
    {
     "data": {
      "text/plain": [
       "17"
      ]
     },
     "execution_count": 45,
     "metadata": {},
     "output_type": "execute_result"
    }
   ],
   "source": [
    "f=open(\"b2.txt\",\"w\")\n",
    "f.write(\"this is test file\")"
   ]
  },
  {
   "cell_type": "code",
   "execution_count": 46,
   "metadata": {},
   "outputs": [],
   "source": [
    "#when it is run single time then the file is created but it is not getting written\n",
    "#when we run twice it gets written"
   ]
  },
  {
   "cell_type": "code",
   "execution_count": 48,
   "metadata": {},
   "outputs": [],
   "source": [
    "f=open(\"b2.txt\",\"w\")\n",
    "f.write(\"this is test file number 1 \")\n",
    "f.close()\n",
    "\n",
    "#the benefit of using close is to we dont have to double run the file "
   ]
  },
  {
   "cell_type": "code",
   "execution_count": 50,
   "metadata": {},
   "outputs": [],
   "source": [
    "with open(\"b2.txt\",\"w\") as f:\n",
    "    f.write(\"this is alternamter method\")\n",
    "    \n",
    "#this method gives written file in a single run even without mentioning f.close()"
   ]
  },
  {
   "cell_type": "code",
   "execution_count": 51,
   "metadata": {},
   "outputs": [],
   "source": [
    "with open(\"b2.txt\",\"w\") as f:\n",
    "    f.write(\"these are ammendements1\\nthese are ammendements2\\nthese are ammendements3\")"
   ]
  },
  {
   "cell_type": "code",
   "execution_count": 54,
   "metadata": {},
   "outputs": [
    {
     "name": "stdout",
     "output_type": "stream",
     "text": [
      "Enter value:wqdaer\n",
      "Enter value:efrht\n",
      "Enter value:juktj\n",
      "Enter value:htuir6uy\n"
     ]
    }
   ],
   "source": [
    "#take input from user and write it in the file \n",
    "f1=open(\"user1.txt\",\"w\")\n",
    "for i in range (0,4):\n",
    "    x=input(\"Enter value:\")\n",
    "    f1.write(x+\"\\n\")\n",
    "f1.close()"
   ]
  },
  {
   "cell_type": "code",
   "execution_count": 55,
   "metadata": {},
   "outputs": [],
   "source": [
    "f=open(\"b2.txt\",\"w\")\n",
    "l=[\"a\",\"b\",\"c\",\"d\"]\n",
    "f.writelines(l)\n",
    "f.close()\n",
    "#output:abcd"
   ]
  },
  {
   "cell_type": "code",
   "execution_count": 58,
   "metadata": {},
   "outputs": [],
   "source": [
    "f=open(\"b2.txt\",\"w\")\n",
    "l=[\"a\\n\",\"b\\n\",\"c\\n\",\"d\\n\"]\n",
    "f.writelines(l)\n",
    "f.close()\n",
    "#output:\n",
    "# a\n",
    "# b\n",
    "# c\n",
    "# d\n"
   ]
  },
  {
   "cell_type": "code",
   "execution_count": 60,
   "metadata": {},
   "outputs": [
    {
     "name": "stdout",
     "output_type": "stream",
     "text": [
      "Enter value:qwe\n",
      "Enter value:fwe\n",
      "Enter value:rhte\n",
      "Enter value:thh\n"
     ]
    }
   ],
   "source": [
    "f1=open(\"user1.txt\",\"w\")\n",
    "l=[]\n",
    "for i in range (0,4):\n",
    "    x=input(\"Enter value:\")\n",
    "    l+=[x+\"\\n\"]\n",
    "f1.writelines(l)\n",
    "f1.close()"
   ]
  },
  {
   "cell_type": "code",
   "execution_count": 61,
   "metadata": {},
   "outputs": [],
   "source": [
    "#write a program to copy content of one file to another\n",
    "f1=open(\"b2.txt\",\"r\")\n",
    "f2=open(\"user1.txt\",\"w\")\n",
    "l1=f1.readlines()\n",
    "for i in l1:\n",
    "    f2.write(i)\n",
    "f2.close()"
   ]
  },
  {
   "cell_type": "code",
   "execution_count": null,
   "metadata": {},
   "outputs": [],
   "source": []
  }
 ],
 "metadata": {
  "kernelspec": {
   "display_name": "Python 3",
   "language": "python",
   "name": "python3"
  },
  "language_info": {
   "codemirror_mode": {
    "name": "ipython",
    "version": 3
   },
   "file_extension": ".py",
   "mimetype": "text/x-python",
   "name": "python",
   "nbconvert_exporter": "python",
   "pygments_lexer": "ipython3",
   "version": "3.8.5"
  }
 },
 "nbformat": 4,
 "nbformat_minor": 4
}
