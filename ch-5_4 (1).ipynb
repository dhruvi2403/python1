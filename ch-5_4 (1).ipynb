{
 "cells": [
  {
   "cell_type": "markdown",
   "metadata": {},
   "source": [
    "## Lambda Function\n",
    "   #### SYNTAX: LAMBDA ARGUMENT_LIST : EXPRESSION"
   ]
  },
  {
   "cell_type": "markdown",
   "metadata": {},
   "source": [
    "    -function without any name\n",
    "    -nameless function,anonymous function,Lambda function"
   ]
  },
  {
   "cell_type": "code",
   "execution_count": 3,
   "metadata": {},
   "outputs": [
    {
     "name": "stdout",
     "output_type": "stream",
     "text": [
      "25\n"
     ]
    }
   ],
   "source": [
    "#Normal Function:\n",
    "def square(n):\n",
    "    return n*n\n",
    "print(square(5))"
   ]
  },
  {
   "cell_type": "code",
   "execution_count": 4,
   "metadata": {},
   "outputs": [
    {
     "name": "stdout",
     "output_type": "stream",
     "text": [
      "16\n",
      "25\n"
     ]
    }
   ],
   "source": [
    "#Lambda Function:\n",
    "s=lambda n:n*n\n",
    "print(s(4))\n",
    "print(s(5))"
   ]
  },
  {
   "cell_type": "code",
   "execution_count": 6,
   "metadata": {},
   "outputs": [
    {
     "name": "stdout",
     "output_type": "stream",
     "text": [
      "5\n"
     ]
    }
   ],
   "source": [
    "#Lambda Function to find sum of two numbers:\n",
    "s=lambda a,b:a+b\n",
    "print(s(2,3))"
   ]
  },
  {
   "cell_type": "code",
   "execution_count": 7,
   "metadata": {},
   "outputs": [
    {
     "name": "stdout",
     "output_type": "stream",
     "text": [
      "<function <lambda> at 0x000001D7D4DAE8B0>\n"
     ]
    }
   ],
   "source": [
    "print(s)"
   ]
  },
  {
   "cell_type": "markdown",
   "metadata": {},
   "source": [
    "#### 1. map() function:\n"
   ]
  },
  {
   "cell_type": "markdown",
   "metadata": {},
   "source": [
    "for every element present in given sequence,apply same functionality and generate new element with required modification"
   ]
  },
  {
   "cell_type": "markdown",
   "metadata": {},
   "source": [
    "**Syntax**: map(function,sequence)"
   ]
  },
  {
   "cell_type": "code",
   "execution_count": 10,
   "metadata": {},
   "outputs": [
    {
     "name": "stdout",
     "output_type": "stream",
     "text": [
      "[2, 4, 6, 8, 10]\n"
     ]
    }
   ],
   "source": [
    "l=[1,2,3,4,5]\n",
    "def double(x):\n",
    "    return 2*x\n",
    "l1=list(map(double,l))\n",
    "print(l1)"
   ]
  },
  {
   "cell_type": "code",
   "execution_count": 12,
   "metadata": {},
   "outputs": [
    {
     "name": "stdout",
     "output_type": "stream",
     "text": [
      "[2, 4, 6, 8, 10, 12]\n"
     ]
    }
   ],
   "source": [
    "l=[1,2,3,4,5,6]\n",
    "l1=list(map(lambda x:2*x,l))\n",
    "print(l1)\n"
   ]
  },
  {
   "cell_type": "code",
   "execution_count": 13,
   "metadata": {},
   "outputs": [
    {
     "name": "stdout",
     "output_type": "stream",
     "text": [
      "[4, 6, 8, 10]\n"
     ]
    }
   ],
   "source": [
    "l1=[1,2,3,4]\n",
    "l2=[3,4,5,6]\n",
    "l3=list(map(lambda x,y:x+y,l1,l2))\n",
    "print(l3)"
   ]
  },
  {
   "cell_type": "markdown",
   "metadata": {},
   "source": [
    "#### 2. Reduced Function:"
   ]
  },
  {
   "cell_type": "markdown",
   "metadata": {},
   "source": [
    "-reduces sequence of elements into a single element by applying the specified function"
   ]
  },
  {
   "cell_type": "markdown",
   "metadata": {},
   "source": [
    "**Syntax:** reduce(function,sequence)\n",
    "\n"
   ]
  },
  {
   "cell_type": "markdown",
   "metadata": {},
   "source": [
    "-present in functools module so need to import that module to use the reduce() function\n"
   ]
  },
  {
   "cell_type": "code",
   "execution_count": 17,
   "metadata": {},
   "outputs": [
    {
     "name": "stdout",
     "output_type": "stream",
     "text": [
      "24\n",
      "10\n"
     ]
    }
   ],
   "source": [
    "from functools import *\n",
    "#OR\n",
    "#import functools     # but if we write then we will hae to specify functools.reduce everytime we need to call the function\n",
    "l=[1,2,3,4,5]\n",
    "mul=reduce(lambda x,y:x*y,l1)\n",
    "print(mul)\n",
    "sum=reduce(lambda x,y:x+y,l1)\n",
    "print(sum)"
   ]
  },
  {
   "cell_type": "markdown",
   "metadata": {},
   "source": [
    "#### 3. filter() function:"
   ]
  },
  {
   "cell_type": "markdown",
   "metadata": {},
   "source": [
    "    -filer values from given sequence based on some condition\n",
    "    -function argument is responsible to check condition"
   ]
  },
  {
   "cell_type": "code",
   "execution_count": 18,
   "metadata": {},
   "outputs": [
    {
     "name": "stdout",
     "output_type": "stream",
     "text": [
      "[0, 2, 4, 6, 8, 10]\n"
     ]
    }
   ],
   "source": [
    "def isEven(x):\n",
    "    if x%2==0:\n",
    "        return True\n",
    "    else:\n",
    "        return False\n",
    "    \n",
    "l=[0,1,2,3,4,5,6,7,8,9,10]\n",
    "l1=list(filter(isEven,l))\n",
    "print(l1)"
   ]
  },
  {
   "cell_type": "code",
   "execution_count": 19,
   "metadata": {},
   "outputs": [
    {
     "name": "stdout",
     "output_type": "stream",
     "text": [
      "[0, 2, 4, 6, 8, 10]\n"
     ]
    }
   ],
   "source": [
    "#by using lambda function:\n",
    "l1=list(filter(lambda x:x%2==0,l))\n",
    "print(l1)"
   ]
  },
  {
   "cell_type": "code",
   "execution_count": 22,
   "metadata": {},
   "outputs": [
    {
     "name": "stdout",
     "output_type": "stream",
     "text": [
      "[4, 6, 8]\n"
     ]
    }
   ],
   "source": [
    "#if the length of 2 lists are different, the, it wont give any error \n",
    "#but instead the function will work till the length of smallest list\n",
    "l1=[1,2,3,4,5]\n",
    "l2=[3,4,5]\n",
    "s=list(map(lambda x,y:x+y,l1,l2))\n",
    "print(s)"
   ]
  },
  {
   "cell_type": "code",
   "execution_count": 23,
   "metadata": {},
   "outputs": [
    {
     "name": "stdout",
     "output_type": "stream",
     "text": [
      "['APPLE', 'BANANA', 'CHERRY']\n"
     ]
    }
   ],
   "source": [
    "words=[\"apple\",\"banana\",\"cherry\"]\n",
    "l=list(map(str.upper,words))\n",
    "print(l)"
   ]
  },
  {
   "cell_type": "code",
   "execution_count": 30,
   "metadata": {},
   "outputs": [
    {
     "name": "stdout",
     "output_type": "stream",
     "text": [
      "['APPLE', 'BANANA', 'CHERRY', 'DATE', 'KIWI', 'ORANGE']\n"
     ]
    }
   ],
   "source": [
    "l1=list(map(lambda x:x.upper(),l))\n",
    "print(l1)"
   ]
  },
  {
   "cell_type": "code",
   "execution_count": 29,
   "metadata": {},
   "outputs": [
    {
     "name": "stdout",
     "output_type": "stream",
     "text": [
      "['banana', 'cherry', 'orange']\n"
     ]
    }
   ],
   "source": [
    "l=['apple','banana','cherry','date','kiwi','orange']\n",
    "l1=list(filter(lambda x:len(x)>5,l))\n",
    "print(l1)"
   ]
  },
  {
   "cell_type": "code",
   "execution_count": 31,
   "metadata": {},
   "outputs": [
    {
     "name": "stdout",
     "output_type": "stream",
     "text": [
      "9996\n"
     ]
    }
   ],
   "source": [
    "min=(lambda x,y:x if x<y else y )\n",
    "print(min(101*99,102*98))"
   ]
  },
  {
   "cell_type": "code",
   "execution_count": 35,
   "metadata": {},
   "outputs": [
    {
     "name": "stdout",
     "output_type": "stream",
     "text": [
      "[13, 26, 39, 38]\n"
     ]
    }
   ],
   "source": [
    "#wap to find numbers divisible by 19 or 13 from a list of numbers using lambda functions\n",
    "l=[13,26,39,18,29,38,5,20,27]\n",
    "divi=list(filter(lambda x:x%13==0 or x%19==0,l))\n",
    "print(divi)"
   ]
  },
  {
   "cell_type": "code",
   "execution_count": 36,
   "metadata": {},
   "outputs": [
    {
     "name": "stdout",
     "output_type": "stream",
     "text": [
      "['date', 'apple', 'banana', 'cherry']\n"
     ]
    }
   ],
   "source": [
    "l=['apple','banana','cherry','date']\n",
    "l1=sorted(l,key=len)  #sorts by length in ascending order\n",
    "print(l1)"
   ]
  },
  {
   "cell_type": "code",
   "execution_count": 84,
   "metadata": {},
   "outputs": [
    {
     "name": "stdout",
     "output_type": "stream",
     "text": [
      "['cherry', 'kiwi', 'apple', 'pineapple']\n"
     ]
    }
   ],
   "source": [
    "##############\n",
    "a=['apple','kiwi','cherry','pineapple']\n",
    "l=sorted(a,key=lambda words:words[-1],reverse=True)\n",
    "print(l)"
   ]
  },
  {
   "cell_type": "code",
   "execution_count": 39,
   "metadata": {},
   "outputs": [
    {
     "name": "stdout",
     "output_type": "stream",
     "text": [
      "['apple', 'kiwi', 'cherry', 'pineapple']\n"
     ]
    }
   ],
   "source": [
    "def fun(word):\n",
    "    return words[-1]\n",
    "\n",
    "l=sorted(a,key=fun)\n",
    "print(l)"
   ]
  },
  {
   "cell_type": "code",
   "execution_count": 40,
   "metadata": {},
   "outputs": [
    {
     "name": "stdout",
     "output_type": "stream",
     "text": [
      "['pineapple', 'kiwi', 'cherry', 'apple']\n"
     ]
    }
   ],
   "source": [
    "a=['pineapple','kiwi','cherry','apple']\n",
    "l=sorted(a,key=lambda word:words[-1])\n",
    "print(l)"
   ]
  },
  {
   "cell_type": "code",
   "execution_count": 41,
   "metadata": {},
   "outputs": [
    {
     "name": "stdout",
     "output_type": "stream",
     "text": [
      "[(4, 1), (2, 3), (1, 5), (3, 8)]\n"
     ]
    }
   ],
   "source": [
    "l=[(1,5),(2,3),(3,8),(4,1)]\n",
    "l1=sorted(l,key=lambda x:x[1])\n",
    "print(l1)\n"
   ]
  },
  {
   "cell_type": "code",
   "execution_count": 42,
   "metadata": {},
   "outputs": [
    {
     "name": "stdout",
     "output_type": "stream",
     "text": [
      "['kiwi', 'apple', 'banana', 'cherry']\n"
     ]
    }
   ],
   "source": [
    "#sort is used only for list\n",
    "a=['apple','banana','kiwi','cherry']\n",
    "a.sort(key=len)\n",
    "print(a)"
   ]
  },
  {
   "cell_type": "code",
   "execution_count": 43,
   "metadata": {},
   "outputs": [
    {
     "name": "stdout",
     "output_type": "stream",
     "text": [
      "[(3, 1), (2, 2), (1, 3)]\n"
     ]
    }
   ],
   "source": [
    "a=[(1,3),(2,2),(3,1)]\n",
    "def fun(val):\n",
    "    return val[1]\n",
    "a.sort(key=fun)\n",
    "print(a)"
   ]
  },
  {
   "cell_type": "code",
   "execution_count": 44,
   "metadata": {},
   "outputs": [
    {
     "name": "stdout",
     "output_type": "stream",
     "text": [
      "['banana', 'apple', 'pineapple', 'kiwi']\n"
     ]
    }
   ],
   "source": [
    "a=['apple','banana','kiwi','pineapple']\n",
    "a.sort(key=lambda x:x[-1])\n",
    "print(a)"
   ]
  },
  {
   "cell_type": "code",
   "execution_count": 47,
   "metadata": {},
   "outputs": [
    {
     "name": "stdout",
     "output_type": "stream",
     "text": [
      "['apple', 'banana#cherry#orange']\n",
      "['apple', 'banana', 'cherry#orange']\n",
      "['apple', 'banana', 'cherry', 'orange']\n",
      "['apple', 'banana', 'cherry', 'orange']\n"
     ]
    }
   ],
   "source": [
    "t=\"apple#banana#cherry#orange\"\n",
    "x=t.split('#',1)  #here after comma value is the maxsplit prameter\n",
    "print(x)\n",
    "y=t.split(\"#\",2)\n",
    "print(y)\n",
    "z=t.split(\"#\",3)\n",
    "print(z)\n",
    "w=t.split(\"#\")\n",
    "print(w)"
   ]
  },
  {
   "cell_type": "code",
   "execution_count": 79,
   "metadata": {},
   "outputs": [
    {
     "ename": "IndexError",
     "evalue": "pop index out of range",
     "output_type": "error",
     "traceback": [
      "\u001b[1;31m---------------------------------------------------------------------------\u001b[0m",
      "\u001b[1;31mIndexError\u001b[0m                                Traceback (most recent call last)",
      "\u001b[1;32m<ipython-input-79-134484300618>\u001b[0m in \u001b[0;36m<module>\u001b[1;34m\u001b[0m\n\u001b[0;32m     10\u001b[0m \u001b[0mx\u001b[0m\u001b[1;33m=\u001b[0m\u001b[0ml\u001b[0m\u001b[1;33m.\u001b[0m\u001b[0mcopy\u001b[0m\u001b[1;33m(\u001b[0m\u001b[1;33m)\u001b[0m\u001b[1;33m\u001b[0m\u001b[1;33m\u001b[0m\u001b[0m\n\u001b[0;32m     11\u001b[0m \u001b[1;32mfor\u001b[0m \u001b[0mi\u001b[0m \u001b[1;32min\u001b[0m \u001b[0mrange\u001b[0m\u001b[1;33m(\u001b[0m\u001b[0mlen\u001b[0m\u001b[1;33m(\u001b[0m\u001b[0ml\u001b[0m\u001b[1;33m)\u001b[0m\u001b[1;33m)\u001b[0m\u001b[1;33m:\u001b[0m\u001b[1;33m\u001b[0m\u001b[1;33m\u001b[0m\u001b[0m\n\u001b[1;32m---> 12\u001b[1;33m     \u001b[0mx\u001b[0m\u001b[1;33m.\u001b[0m\u001b[0mpop\u001b[0m\u001b[1;33m(\u001b[0m\u001b[0mi\u001b[0m\u001b[1;33m)\u001b[0m\u001b[1;33m\u001b[0m\u001b[1;33m\u001b[0m\u001b[0m\n\u001b[0m\u001b[0;32m     13\u001b[0m     \u001b[0mpopid\u001b[0m\u001b[1;33m+=\u001b[0m\u001b[1;36m1\u001b[0m\u001b[1;33m\u001b[0m\u001b[1;33m\u001b[0m\u001b[0m\n\u001b[0;32m     14\u001b[0m     \u001b[1;32mfor\u001b[0m \u001b[0mj\u001b[0m \u001b[1;32min\u001b[0m \u001b[0mrange\u001b[0m\u001b[1;33m(\u001b[0m\u001b[0mlen\u001b[0m\u001b[1;33m(\u001b[0m\u001b[0mx\u001b[0m\u001b[1;33m)\u001b[0m\u001b[1;33m)\u001b[0m\u001b[1;33m:\u001b[0m\u001b[1;33m\u001b[0m\u001b[1;33m\u001b[0m\u001b[0m\n",
      "\u001b[1;31mIndexError\u001b[0m: pop index out of range"
     ]
    }
   ],
   "source": [
    "#given a list l of size n you need to count the number of special elements in the given list and element is special  \n",
    "#if removal of that element makes the list balanced the list will be balanced if sum of even index elements is \n",
    "#equal to sum of odd index elements also print the updated list after removal of special elements\n",
    "\n",
    "l=[5,2,6,5,8]\n",
    "count=0\n",
    "sum_e=0\n",
    "sum_o=0\n",
    "popid=0\n",
    "x=l.copy()\n",
    "for i in range(len(l)):\n",
    "    x.pop(i)\n",
    "    popid+=1\n",
    "    for j in range(len(x)):\n",
    "        if i%2==0:\n",
    "            sum_e=sum_e+x[j]#x[j]\n",
    "        else:\n",
    "            sum_o=sum_o+x[j]#x[j-1]\n",
    "    if sum_o==sum_e:\n",
    "        count+=1\n",
    "        print(\"balanced\")\n",
    "print(sum_o)\n",
    "print(sum_e)"
   ]
  },
  {
   "cell_type": "code",
   "execution_count": 86,
   "metadata": {},
   "outputs": [
    {
     "name": "stdout",
     "output_type": "stream",
     "text": [
      "Enter list:[5,5,2,5,8]\n",
      "original list: [5, 5, 2, 5, 8]\n",
      "index to be removed: 0\n",
      "list after removal of index 0 is: [5, 2, 5, 8]\n",
      "total count of special elements is: 1\n",
      "index to be removed: 1\n",
      "list after removal of index 1 is: [5, 2, 5, 8]\n",
      "total count of special elements is: 2\n"
     ]
    }
   ],
   "source": [
    "l=eval(input(\"Enter list:\"))  #eval\n",
    "print(\"original list:\",l)\n",
    "count=0\n",
    "\n",
    "for i in range(len(l)):\n",
    "    c=l.copy()\n",
    "    c.pop(i)\n",
    "    sum1=sum2=0\n",
    "    for k in c[::2]:\n",
    "        sum1+=k\n",
    "    for k in c[1::2]:\n",
    "        sum2+=k\n",
    "    if sum1==sum2:\n",
    "        print(\"index to be removed:\",i)\n",
    "        count+=1\n",
    "        print('list after removal of index', i ,'is:',l[:i]+l[i+1:])\n",
    "        print(\"total count of special elements is:\",count)\n",
    "#5,5,2,5,8\n"
   ]
  },
  {
   "cell_type": "code",
   "execution_count": 76,
   "metadata": {},
   "outputs": [
    {
     "name": "stdout",
     "output_type": "stream",
     "text": [
      "(1, 2, 3, True, False)\n",
      "12\n"
     ]
    }
   ],
   "source": [
    "# answer =12\n",
    "def f1(*m):\n",
    "    print(m)\n",
    "    sum1=len(m)\n",
    "    for i in m:\n",
    "        sum1+=i\n",
    "    return sum1\n",
    "\n",
    "x=f1(1,2,3,(4,)==(4,),(5,)==(5))\n",
    "print(x)"
   ]
  },
  {
   "cell_type": "code",
   "execution_count": 80,
   "metadata": {},
   "outputs": [
    {
     "name": "stdout",
     "output_type": "stream",
     "text": [
      "<class 'tuple'>\n"
     ]
    }
   ],
   "source": [
    "x=5,5,2,5,8\n",
    "print(type(x))"
   ]
  }
 ],
 "metadata": {
  "kernelspec": {
   "display_name": "Python 3",
   "language": "python",
   "name": "python3"
  },
  "language_info": {
   "codemirror_mode": {
    "name": "ipython",
    "version": 3
   },
   "file_extension": ".py",
   "mimetype": "text/x-python",
   "name": "python",
   "nbconvert_exporter": "python",
   "pygments_lexer": "ipython3",
   "version": "3.8.5"
  }
 },
 "nbformat": 4,
 "nbformat_minor": 4
}
