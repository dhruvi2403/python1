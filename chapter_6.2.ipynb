{
 "cells": [
  {
   "cell_type": "code",
   "execution_count": 7,
   "metadata": {},
   "outputs": [],
   "source": [
    "# write a dictionary to a file in python\n",
    "x={'name':'alice','age':20,'degree':'cse','university':'stanford university'}\n",
    "with open(\"var_to_dict.txt\",\"w\") as f:\n",
    "    for i in x:\n",
    "        f.write(i+':'+str(x.get(i))+'\\n')\n",
    "#OR"
   ]
  },
  {
   "cell_type": "code",
   "execution_count": 17,
   "metadata": {},
   "outputs": [],
   "source": [
    "x={'name':'alice','age':20,'degree':'cse','university':'stanford university'}\n",
    "with open(\"var_to_dict.txt\",\"w\") as f:\n",
    "    for key,value in x.items():\n",
    "        f.write(str(key)+\":\"+str(value)+\"\\n\")"
   ]
  },
  {
   "cell_type": "code",
   "execution_count": 9,
   "metadata": {},
   "outputs": [],
   "source": [
    "#wap to copy the content of one file to another file in uppercase:\n",
    "f1=open(\"demo.txt\",\"r\")\n",
    "f2=open(\"b2.txt\",\"w\")\n",
    "l1=f1.readlines()\n",
    "for i in l1:\n",
    "    f2.write(i.upper())\n",
    "f2.close()"
   ]
  },
  {
   "cell_type": "code",
   "execution_count": null,
   "metadata": {},
   "outputs": [],
   "source": [
    "#write a program to copy content of one file to another\n",
    "#input:\n",
    "# demo.txt:\n",
    "# this is python 1\n",
    "# this is python 2\n",
    "# this is python 3\n",
    "# this is python 4\n",
    "\n",
    "# b2.txt:\n",
    "# THIS IS PYTHON 1\n",
    "# THIS IS PYTHON 2\n",
    "# THIS IS PYTHON 3\n",
    "# THIS IS PYTHON 4    \n",
    "f1=open(\"b2.txt\",\"r\")\n",
    "f2=open(\"user1.txt\",\"w\")\n",
    "l1=f1.readlines()\n",
    "for i in l1:\n",
    "    f2.write(i)\n",
    "f2.close()"
   ]
  },
  {
   "cell_type": "code",
   "execution_count": 18,
   "metadata": {},
   "outputs": [],
   "source": [
    "#wap to revesrse the content of a file and store it in another file \n",
    "f1=open(\"b2.txt\",\"r\")\n",
    "f2=open(\"demo.txt\",'w')\n",
    "l1=f1.readlines()\n",
    "data=l1[::-1]\n",
    "for i in data:\n",
    "    f2.write(i[::-1])\n",
    "f2.close()\n",
    "f1.close()\n",
    "\n",
    "# b2.txt:\n",
    "# THIS IS PYTHON 1\n",
    "# THIS IS PYTHON 2\n",
    "# THIS IS PYTHON 3\n",
    "# THIS IS PYTHON 4\n",
    "\n",
    "# demo.txt\n",
    "# 4 NOHTYP SI SIHT\n",
    "# 3 NOHTYP SI SIHT\n",
    "# 2 NOHTYP SI SIHT\n",
    "# 1 NOHTYP SI SIHT"
   ]
  },
  {
   "cell_type": "code",
   "execution_count": 13,
   "metadata": {},
   "outputs": [],
   "source": [
    "f1=open(\"b2.txt\",\"r\")\n",
    "f2=open(\"linerev.txt\",'w')\n",
    "l1=f1.readlines()\n",
    "data=l1[::-1]\n",
    "for i in data:\n",
    "    f2.write(i)\n",
    "f2.close()\n",
    "f1.close()\n",
    "\n",
    "# #b2.txt:\n",
    "# THIS IS PYTHON 1\n",
    "# THIS IS PYTHON 2\n",
    "# THIS IS PYTHON 3\n",
    "# THIS IS PYTHON 4\n",
    "# #linerev.txt:\n",
    "# THIS IS PYTHON 4\n",
    "# THIS IS PYTHON 3\n",
    "# THIS IS PYTHON 2\n",
    "# THIS IS PYTHON 1"
   ]
  },
  {
   "cell_type": "code",
   "execution_count": 21,
   "metadata": {},
   "outputs": [],
   "source": [
    "#wap to copy odd lines from one file to another line\n",
    "f1=open('lines.txt','r')\n",
    "f2=open('oddlines.txt','w')\n",
    "f3=open('evenlines.txt','w')\n",
    "l=f1.readlines()\n",
    "count=1\n",
    "for i in l:\n",
    "    if count%2==0:\n",
    "        f3.write(i)\n",
    "    else:\n",
    "        f2.write(i)\n",
    "    count+=1\n",
    "f1.close()\n",
    "f2.close()\n",
    "f3.close()\n",
    "\n",
    "# #lines.txt:\n",
    "# line-1\n",
    "# line-2\n",
    "# line-3\n",
    "# line-4\n",
    "# line-5\n",
    "# line-6\n",
    "# line-7\n",
    "# line-8\n",
    "# line-9\n",
    "# line-10\n",
    "# line-11\n",
    "# line-12\n",
    "# line-13\n",
    "\n",
    "# #oddlines.txt:\n",
    "# line-1\n",
    "# line-3\n",
    "# line-5\n",
    "# line-7\n",
    "# line-9\n",
    "# line-11\n",
    "# line-13\n",
    "\n",
    "# #evenlines.txt:\n",
    "# line-2\n",
    "# line-4\n",
    "# line-6\n",
    "# line-8\n",
    "# line-10\n",
    "# line-12\n"
   ]
  },
  {
   "cell_type": "code",
   "execution_count": 1,
   "metadata": {},
   "outputs": [
    {
     "name": "stdout",
     "output_type": "stream",
     "text": [
      "Enter file name:lines\n",
      "l\n",
      "i\n",
      "n\n",
      "e\n",
      "-\n",
      "do you want to continue??t\n",
      "-\n",
      "1\n",
      "\n",
      "\n"
     ]
    },
    {
     "ename": "IndexError",
     "evalue": "string index out of range",
     "output_type": "error",
     "traceback": [
      "\u001b[1;31m---------------------------------------------------------------------------\u001b[0m",
      "\u001b[1;31mIndexError\u001b[0m                                Traceback (most recent call last)",
      "\u001b[1;32m<ipython-input-1-b18c231a74c0>\u001b[0m in \u001b[0;36m<module>\u001b[1;34m\u001b[0m\n\u001b[0;32m      7\u001b[0m \u001b[1;32mfor\u001b[0m \u001b[0mi\u001b[0m \u001b[1;32min\u001b[0m \u001b[0ml1\u001b[0m\u001b[1;33m:\u001b[0m\u001b[1;33m\u001b[0m\u001b[1;33m\u001b[0m\u001b[0m\n\u001b[0;32m      8\u001b[0m     \u001b[1;32mfor\u001b[0m \u001b[0mj\u001b[0m \u001b[1;32min\u001b[0m \u001b[0mrange\u001b[0m\u001b[1;33m(\u001b[0m\u001b[0mj\u001b[0m\u001b[1;33m,\u001b[0m\u001b[0mj\u001b[0m\u001b[1;33m+\u001b[0m\u001b[1;36m5\u001b[0m\u001b[1;33m)\u001b[0m\u001b[1;33m:\u001b[0m\u001b[1;33m\u001b[0m\u001b[1;33m\u001b[0m\u001b[0m\n\u001b[1;32m----> 9\u001b[1;33m         \u001b[0mprint\u001b[0m\u001b[1;33m(\u001b[0m\u001b[0ml1\u001b[0m\u001b[1;33m[\u001b[0m\u001b[0mj\u001b[0m\u001b[1;33m]\u001b[0m\u001b[1;33m)\u001b[0m\u001b[1;33m\u001b[0m\u001b[1;33m\u001b[0m\u001b[0m\n\u001b[0m\u001b[0;32m     10\u001b[0m \u001b[1;31m#         j+=1\u001b[0m\u001b[1;33m\u001b[0m\u001b[1;33m\u001b[0m\u001b[1;33m\u001b[0m\u001b[0m\n\u001b[0;32m     11\u001b[0m     \u001b[0my\u001b[0m\u001b[1;33m=\u001b[0m\u001b[0minput\u001b[0m\u001b[1;33m(\u001b[0m\u001b[1;34m\"do you want to continue??\"\u001b[0m\u001b[1;33m)\u001b[0m\u001b[1;33m\u001b[0m\u001b[1;33m\u001b[0m\u001b[0m\n",
      "\u001b[1;31mIndexError\u001b[0m: string index out of range"
     ]
    }
   ],
   "source": [
    "#write a pager program , your solution should prompt for a file name and display the text file 5 lines at a time \n",
    "#pausing each time to ask the user to press any key to continue and press Q to quit.\n",
    "x=input(\"Enter file name:\")\n",
    "f1=open(x+'.txt','r')\n",
    "j=0\n",
    "l1=f1.readlines()\n",
    "for i in l1:\n",
    "    for j in range(j,j+5):\n",
    "        print(l1[j])\n",
    "#         j+=1\n",
    "    y=input(\"do you want to continue??\")\n",
    "    if(y!='Q' or y!='q'):\n",
    "        continue\n",
    "    else:\n",
    "        break"
   ]
  },
  {
   "cell_type": "code",
   "execution_count": 8,
   "metadata": {},
   "outputs": [
    {
     "name": "stdout",
     "output_type": "stream",
     "text": [
      "Enter file name:lines\n",
      "line-1\n",
      "line-2\n",
      "line-3\n",
      "line-4\n",
      "line-5\n",
      "do you want to continue??w\n",
      "line-6\n",
      "line-7\n",
      "line-8\n",
      "line-9\n",
      "line-10\n",
      "do you want to continue??u\n",
      "line-11\n",
      "line-12\n",
      "line-13\n",
      "do you want to continue??Q\n"
     ]
    }
   ],
   "source": [
    "x=input(\"Enter file name:\")\n",
    "f1=open(x+'.txt','r')\n",
    "y=\" \"\n",
    "while y not in \"qQ\":\n",
    "    if(f.read)\n",
    "    for i in range(0,5):\n",
    "        print(f1.readline(),end=\"\")\n",
    "    y=input(\"do you want to continue??\")"
   ]
  },
  {
   "cell_type": "code",
   "execution_count": 9,
   "metadata": {},
   "outputs": [],
   "source": [
    "#wap to copy contents of 2 files into a single file:\n",
    "f1=open(\"oddlines.txt\",'r')\n",
    "f2=open(\"evenlines.txt\",'r')\n",
    "f3=open(\"combined.txt\",'w')\n",
    "l=f1.readlines()+f2.readlines()\n",
    "for i in l:\n",
    "    f3.write(i)\n",
    "f1.close()\n",
    "f2.close()\n",
    "f3.close()\n",
    "\n",
    "# #output:\n",
    "# line-1\n",
    "# line-3\n",
    "# line-5\n",
    "# line-7\n",
    "# line-9\n",
    "# line-11\n",
    "# line-13\n",
    "# line-2\n",
    "# line-4\n",
    "# line-6\n",
    "# line-8\n",
    "# line-10\n",
    "# line-12\n"
   ]
  },
  {
   "cell_type": "code",
   "execution_count": 31,
   "metadata": {},
   "outputs": [
    {
     "name": "stdout",
     "output_type": "stream",
     "text": [
      "\n",
      "def sum(a,b):  \n",
      "    c=a+b\n",
      "    print(c)  \n"
     ]
    }
   ],
   "source": [
    "#wap to display all lines of a file except those with comments \n",
    "f=open(\"withcomment.txt\",'r')\n",
    "x=f.readlines()\n",
    "for i in x:\n",
    "    if \"#\" in i:\n",
    "        y=i.index('#')\n",
    "#         if(y!=0):\n",
    "        print(i[0:y])\n",
    "    else:\n",
    "        print(i,end=\"\")\n",
    "f.close()\n",
    "\n",
    "# #input:\n",
    "# withcomment.txt:\n",
    "# #program for addition\n",
    "# def sum(a,b):  #function definition\n",
    "#     c=a+b\n",
    "#     print(c)  #printing the output\n",
    "\n"
   ]
  },
  {
   "cell_type": "code",
   "execution_count": null,
   "metadata": {},
   "outputs": [],
   "source": []
  }
 ],
 "metadata": {
  "kernelspec": {
   "display_name": "Python 3",
   "language": "python",
   "name": "python3"
  },
  "language_info": {
   "codemirror_mode": {
    "name": "ipython",
    "version": 3
   },
   "file_extension": ".py",
   "mimetype": "text/x-python",
   "name": "python",
   "nbconvert_exporter": "python",
   "pygments_lexer": "ipython3",
   "version": "3.8.5"
  }
 },
 "nbformat": 4,
 "nbformat_minor": 4
}
