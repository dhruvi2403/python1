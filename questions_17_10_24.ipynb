{
 "cells": [
  {
   "cell_type": "code",
   "execution_count": 14,
   "metadata": {},
   "outputs": [
    {
     "name": "stdout",
     "output_type": "stream",
     "text": [
      "Enter grade level:A\n",
      "Enter city level 1,2 or 3: 2\n",
      "gross= 104100.0\n",
      "annual pay= 1249200.0\n",
      "income tax to be payed= 124840.0\n"
     ]
    }
   ],
   "source": [
    "#QB.180\n",
    "grade=input(\"Enter grade level:\")\n",
    "city=int(input(\"Enter city level 1,2 or 3: \"))\n",
    "proff=200\n",
    "transport=900\n",
    "basic=0\n",
    "other=0\n",
    "hra=0\n",
    "\n",
    "if grade=='A':\n",
    "    basic=60000\n",
    "    other=8000\n",
    "elif grade=='B':\n",
    "    basic=50000\n",
    "    other=7000\n",
    "elif grade=='C':\n",
    "    basic=40000\n",
    "    other=6000\n",
    "elif grade=='D':\n",
    "    basic=30000\n",
    "    other=5000\n",
    "elif grade=='E':\n",
    "    basic=20000\n",
    "    other=4000\n",
    "elif grade=='F':\n",
    "    basic=10000\n",
    "    other=3000\n",
    "else:\n",
    "    print(\"Enter valid grade.\")\n",
    "\n",
    "if city==1:\n",
    "    hra=0.3*basic\n",
    "elif city==2:\n",
    "    hra=0.2*basic\n",
    "elif city==3:\n",
    "    hra=0.1*basic\n",
    "else:\n",
    "    print(\"Enter valid city\")\n",
    "    \n",
    "da=0.5*basic\n",
    "prov=0.11*basic\n",
    "\n",
    "gross=basic+hra+da+other+transport-proff-prov\n",
    "annual=gross*12\n",
    "\n",
    "if annual<=250000:\n",
    "    inc_tax=0\n",
    "elif annual>=250001 and annual<=500000:\n",
    "    inc_tax=0.05*(annual-250000)\n",
    "elif annual>=500001 and annual<=750000:\n",
    "    inc_tax=0.10*(annual-500000)+12500\n",
    "elif annual>=750001 and annual<=1000000:\n",
    "    inc_tax=0.15*(annual-750000)+37500\n",
    "elif annual>=100001 and annual<=1250000:\n",
    "    inc_tax=0.20*(annual-1000000)+75000\n",
    "elif annual>=1250001 and annual<=1500000:\n",
    "    inc_tax=0.25*(annual-1250000)+125000\n",
    "else:\n",
    "    inc_tax=0.30*(annual-1500000)+187000\n",
    "    \n",
    "print(\"gross=\",gross)\n",
    "print(\"annual pay=\",annual)\n",
    "print(\"income tax to be payed=\",inc_tax)"
   ]
  },
  {
   "cell_type": "code",
   "execution_count": 29,
   "metadata": {},
   "outputs": [
    {
     "name": "stdout",
     "output_type": "stream",
     "text": [
      "Enter year: 2024\n",
      "Enter month: 2\n",
      "Enter day: 29\n",
      "2024 - 3 - 1\n"
     ]
    }
   ],
   "source": [
    "#wap to get date of a given date\n",
    "year=int(input(\"Enter year: \"))\n",
    "month=int(input(\"Enter month: \"))\n",
    "day=int(input(\"Enter day: \"))\n",
    "max_days=0\n",
    "nextdate=0\n",
    "if month<1 or month>12 or day<1 or day>31:\n",
    "    print(\"Enter correct values..\")\n",
    "if month==2:\n",
    "    if (year%4==0 and year%100!=0) or year%400==0:\n",
    "        max_days=29\n",
    "    else:\n",
    "        max_days=28\n",
    "elif month in(1,3,5,7,8,10,12):\n",
    "    max_days=31\n",
    "else:\n",
    "    max_days=30\n",
    "\n",
    "if(day==max_days):\n",
    "    if month==12:\n",
    "        month=1\n",
    "        year+=1\n",
    "        nextdate=1\n",
    "    else:\n",
    "        nextdate=1\n",
    "        month+=1\n",
    "else:\n",
    "    nextdate=day+1\n",
    "print(year,\"-\",month,\"-\",nextdate)"
   ]
  },
  {
   "cell_type": "code",
   "execution_count": 58,
   "metadata": {},
   "outputs": [
    {
     "name": "stdout",
     "output_type": "stream",
     "text": [
      "Enter number:0912\n",
      "1023\n"
     ]
    }
   ],
   "source": [
    "#input:  123456789\n",
    "#output: 234567890\n",
    "# import sys\n",
    "m=(input(\"Enter number:\"))\n",
    "# m=str(m)\n",
    "# print(m)\n",
    "out=\"\"\n",
    "\n",
    "for i in (m):\n",
    "#     if ord(i)>9:\n",
    "#         sys.exit()\n",
    "    a=int(i)\n",
    "    if a==9:\n",
    "        a=0\n",
    "    else:\n",
    "        a+=1\n",
    "    out=out+str(a)\n",
    "print(out)"
   ]
  },
  {
   "cell_type": "code",
   "execution_count": 53,
   "metadata": {},
   "outputs": [
    {
     "name": "stdout",
     "output_type": "stream",
     "text": [
      "97\n"
     ]
    }
   ],
   "source": [
    "print((ord('a')))"
   ]
  },
  {
   "cell_type": "code",
   "execution_count": 55,
   "metadata": {},
   "outputs": [
    {
     "ename": "TypeError",
     "evalue": "ord() expected string of length 1, but int found",
     "output_type": "error",
     "traceback": [
      "\u001b[1;31m---------------------------------------------------------------------------\u001b[0m",
      "\u001b[1;31mTypeError\u001b[0m                                 Traceback (most recent call last)",
      "\u001b[1;32m<ipython-input-55-77e5aeef42fb>\u001b[0m in \u001b[0;36m<module>\u001b[1;34m\u001b[0m\n\u001b[1;32m----> 1\u001b[1;33m \u001b[0mord\u001b[0m\u001b[1;33m(\u001b[0m\u001b[1;36m1\u001b[0m\u001b[1;33m)\u001b[0m\u001b[1;33m\u001b[0m\u001b[1;33m\u001b[0m\u001b[0m\n\u001b[0m",
      "\u001b[1;31mTypeError\u001b[0m: ord() expected string of length 1, but int found"
     ]
    }
   ],
   "source": [
    "ord(1)"
   ]
  },
  {
   "cell_type": "code",
   "execution_count": null,
   "metadata": {},
   "outputs": [],
   "source": []
  }
 ],
 "metadata": {
  "kernelspec": {
   "display_name": "Python 3",
   "language": "python",
   "name": "python3"
  },
  "language_info": {
   "codemirror_mode": {
    "name": "ipython",
    "version": 3
   },
   "file_extension": ".py",
   "mimetype": "text/x-python",
   "name": "python",
   "nbconvert_exporter": "python",
   "pygments_lexer": "ipython3",
   "version": "3.8.5"
  }
 },
 "nbformat": 4,
 "nbformat_minor": 4
}
