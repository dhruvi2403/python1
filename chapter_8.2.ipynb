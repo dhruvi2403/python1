{
 "cells": [
  {
   "cell_type": "code",
   "execution_count": 5,
   "metadata": {},
   "outputs": [
    {
     "name": "stdout",
     "output_type": "stream",
     "text": [
      "Emp name: abc\n",
      "Emp age: 34\n",
      "Emp salary: 50000\n",
      "Emp name: def\n",
      "Emp age: 36\n",
      "Emp salary: 60000\n"
     ]
    }
   ],
   "source": [
    "class Employee:\n",
    "    def __init__(self,name,age,salary):\n",
    "        self.name=name\n",
    "        self.age=age\n",
    "        self.salary=salary\n",
    "    def display(self):\n",
    "        print(\"Emp name:\",self.name)\n",
    "        print(\"Emp age:\",self.age)\n",
    "        print(\"Emp salary:\",self.salary)\n",
    "    @staticmethod\n",
    "    def add(a,b):\n",
    "        print(a+b)\n",
    "        \n",
    "emp1=Employee(\"abc\",34,50000)\n",
    "emp1.display()\n",
    "emp2=Employee(\"def\",36,60000)\n",
    "emp2.display()\n",
    "# emp1.add(20,30)\n",
    "# emp2.add(\"abc\",\"def\")"
   ]
  },
  {
   "cell_type": "code",
   "execution_count": 6,
   "metadata": {},
   "outputs": [
    {
     "ename": "TypeError",
     "evalue": "display() takes 1 positional argument but 2 were given",
     "output_type": "error",
     "traceback": [
      "\u001b[1;31m---------------------------------------------------------------------------\u001b[0m",
      "\u001b[1;31mTypeError\u001b[0m                                 Traceback (most recent call last)",
      "\u001b[1;32m<ipython-input-6-a8569a044466>\u001b[0m in \u001b[0;36m<module>\u001b[1;34m\u001b[0m\n\u001b[0;32m     13\u001b[0m \u001b[1;33m\u001b[0m\u001b[0m\n\u001b[0;32m     14\u001b[0m \u001b[0memp1\u001b[0m\u001b[1;33m=\u001b[0m\u001b[0mEmployee\u001b[0m\u001b[1;33m(\u001b[0m\u001b[1;34m\"abc\"\u001b[0m\u001b[1;33m,\u001b[0m\u001b[1;36m34\u001b[0m\u001b[1;33m,\u001b[0m\u001b[1;36m50000\u001b[0m\u001b[1;33m)\u001b[0m\u001b[1;33m\u001b[0m\u001b[1;33m\u001b[0m\u001b[0m\n\u001b[1;32m---> 15\u001b[1;33m \u001b[0memp1\u001b[0m\u001b[1;33m.\u001b[0m\u001b[0mdisplay\u001b[0m\u001b[1;33m(\u001b[0m\u001b[0memp1\u001b[0m\u001b[1;33m)\u001b[0m\u001b[1;33m\u001b[0m\u001b[1;33m\u001b[0m\u001b[0m\n\u001b[0m\u001b[0;32m     16\u001b[0m \u001b[0memp2\u001b[0m\u001b[1;33m=\u001b[0m\u001b[0mEmployee\u001b[0m\u001b[1;33m(\u001b[0m\u001b[1;34m\"def\"\u001b[0m\u001b[1;33m,\u001b[0m\u001b[1;36m36\u001b[0m\u001b[1;33m,\u001b[0m\u001b[1;36m60000\u001b[0m\u001b[1;33m)\u001b[0m\u001b[1;33m\u001b[0m\u001b[1;33m\u001b[0m\u001b[0m\n\u001b[0;32m     17\u001b[0m \u001b[0memp2\u001b[0m\u001b[1;33m.\u001b[0m\u001b[0mdisplay\u001b[0m\u001b[1;33m(\u001b[0m\u001b[0memp2\u001b[0m\u001b[1;33m)\u001b[0m\u001b[1;33m\u001b[0m\u001b[1;33m\u001b[0m\u001b[0m\n",
      "\u001b[1;31mTypeError\u001b[0m: display() takes 1 positional argument but 2 were given"
     ]
    }
   ],
   "source": [
    "class Employee:\n",
    "    def __init__(self,name,age,salary):\n",
    "        self.name=name\n",
    "        self.age=age\n",
    "        self.salary=salary\n",
    "    def display(self):\n",
    "        print(\"Emp name:\",self.name)\n",
    "        print(\"Emp age:\",self.age)\n",
    "        print(\"Emp salary:\",self.salary)\n",
    "    @staticmethod\n",
    "    def add(a,b):\n",
    "        print(a+b)\n",
    "        \n",
    "emp1=Employee(\"abc\",34,50000)\n",
    "emp1.display(emp1)\n",
    "emp2=Employee(\"def\",36,60000)\n",
    "emp2.display(emp2)\n",
    "# emp1.add(20,30)\n",
    "# emp2.add(\"abc\",\"def\")"
   ]
  },
  {
   "cell_type": "code",
   "execution_count": 9,
   "metadata": {},
   "outputs": [
    {
     "ename": "NameError",
     "evalue": "name 'self' is not defined",
     "output_type": "error",
     "traceback": [
      "\u001b[1;31m---------------------------------------------------------------------------\u001b[0m",
      "\u001b[1;31mNameError\u001b[0m                                 Traceback (most recent call last)",
      "\u001b[1;32m<ipython-input-9-64b6296239de>\u001b[0m in \u001b[0;36m<module>\u001b[1;34m\u001b[0m\n\u001b[0;32m     14\u001b[0m \u001b[1;33m\u001b[0m\u001b[0m\n\u001b[0;32m     15\u001b[0m \u001b[0memp1\u001b[0m\u001b[1;33m=\u001b[0m\u001b[0mEmployee\u001b[0m\u001b[1;33m(\u001b[0m\u001b[1;34m\"abc\"\u001b[0m\u001b[1;33m,\u001b[0m\u001b[1;36m34\u001b[0m\u001b[1;33m,\u001b[0m\u001b[1;36m50000\u001b[0m\u001b[1;33m)\u001b[0m\u001b[1;33m\u001b[0m\u001b[1;33m\u001b[0m\u001b[0m\n\u001b[1;32m---> 16\u001b[1;33m \u001b[0memp1\u001b[0m\u001b[1;33m.\u001b[0m\u001b[0mdisplay\u001b[0m\u001b[1;33m(\u001b[0m\u001b[1;33m)\u001b[0m\u001b[1;33m\u001b[0m\u001b[1;33m\u001b[0m\u001b[0m\n\u001b[0m\u001b[0;32m     17\u001b[0m \u001b[0memp2\u001b[0m\u001b[1;33m=\u001b[0m\u001b[0mEmployee\u001b[0m\u001b[1;33m(\u001b[0m\u001b[1;34m\"def\"\u001b[0m\u001b[1;33m,\u001b[0m\u001b[1;36m36\u001b[0m\u001b[1;33m,\u001b[0m\u001b[1;36m60000\u001b[0m\u001b[1;33m)\u001b[0m\u001b[1;33m\u001b[0m\u001b[1;33m\u001b[0m\u001b[0m\n\u001b[0;32m     18\u001b[0m \u001b[0memp2\u001b[0m\u001b[1;33m.\u001b[0m\u001b[0mdisplay\u001b[0m\u001b[1;33m(\u001b[0m\u001b[1;33m)\u001b[0m\u001b[1;33m\u001b[0m\u001b[1;33m\u001b[0m\u001b[0m\n",
      "\u001b[1;32m<ipython-input-9-64b6296239de>\u001b[0m in \u001b[0;36mdisplay\u001b[1;34m()\u001b[0m\n\u001b[0;32m      6\u001b[0m     \u001b[1;33m@\u001b[0m\u001b[0mstaticmethod\u001b[0m\u001b[1;33m\u001b[0m\u001b[1;33m\u001b[0m\u001b[0m\n\u001b[0;32m      7\u001b[0m     \u001b[1;32mdef\u001b[0m \u001b[0mdisplay\u001b[0m\u001b[1;33m(\u001b[0m\u001b[1;33m)\u001b[0m\u001b[1;33m:\u001b[0m\u001b[1;33m\u001b[0m\u001b[1;33m\u001b[0m\u001b[0m\n\u001b[1;32m----> 8\u001b[1;33m         \u001b[0mprint\u001b[0m\u001b[1;33m(\u001b[0m\u001b[1;34m\"Emp name:\"\u001b[0m\u001b[1;33m,\u001b[0m\u001b[0mself\u001b[0m\u001b[1;33m.\u001b[0m\u001b[0mname\u001b[0m\u001b[1;33m)\u001b[0m\u001b[1;33m\u001b[0m\u001b[1;33m\u001b[0m\u001b[0m\n\u001b[0m\u001b[0;32m      9\u001b[0m         \u001b[0mprint\u001b[0m\u001b[1;33m(\u001b[0m\u001b[1;34m\"Emp age:\"\u001b[0m\u001b[1;33m,\u001b[0m\u001b[0mself\u001b[0m\u001b[1;33m.\u001b[0m\u001b[0mage\u001b[0m\u001b[1;33m)\u001b[0m\u001b[1;33m\u001b[0m\u001b[1;33m\u001b[0m\u001b[0m\n\u001b[0;32m     10\u001b[0m         \u001b[0mprint\u001b[0m\u001b[1;33m(\u001b[0m\u001b[1;34m\"Emp salary:\"\u001b[0m\u001b[1;33m,\u001b[0m\u001b[0mself\u001b[0m\u001b[1;33m.\u001b[0m\u001b[0msalary\u001b[0m\u001b[1;33m)\u001b[0m\u001b[1;33m\u001b[0m\u001b[1;33m\u001b[0m\u001b[0m\n",
      "\u001b[1;31mNameError\u001b[0m: name 'self' is not defined"
     ]
    }
   ],
   "source": [
    "class Employee:\n",
    "    def __init__(self,name,age,salary):\n",
    "        self.name=name\n",
    "        self.age=age\n",
    "        self.salary=salary\n",
    "    @staticmethod\n",
    "    def display():\n",
    "        print(\"Emp name:\",self.name)\n",
    "        print(\"Emp age:\",self.age)\n",
    "        print(\"Emp salary:\",self.salary)\n",
    "    \n",
    "#     def add(a,b):\n",
    "#         print(a+b)\n",
    "        \n",
    "emp1=Employee(\"abc\",34,50000)\n",
    "emp1.display()\n",
    "emp2=Employee(\"def\",36,60000)\n",
    "emp2.display()\n",
    "# emp1.add(20,30)\n",
    "# emp2.add(\"abc\",\"def\")"
   ]
  },
  {
   "cell_type": "code",
   "execution_count": 12,
   "metadata": {},
   "outputs": [
    {
     "name": "stdout",
     "output_type": "stream",
     "text": [
      "Enter model:abcd\n",
      "Enter col:blue\n",
      "Enter year:2020\n",
      "model: abcd\n",
      "color: blue\n",
      "year: 2020\n"
     ]
    }
   ],
   "source": [
    "#create class car with model,color,year\n",
    "\n",
    "class car:\n",
    "    def __init__(self,model,color,year):\n",
    "        self.model=model\n",
    "        self.color=color\n",
    "        self.year=year\n",
    "    def displaydet(self):\n",
    "        print(\"model:\",self.model)\n",
    "        print(\"color:\",self.color)\n",
    "        print(\"year:\",self.year)\n",
    "\n",
    "mod=input(\"Enter model:\")\n",
    "col=input(\"Enter col:\")\n",
    "yr=input(\"Enter year:\")\n",
    "c1=car(mod,col,yr)\n",
    "c1.displaydet()"
   ]
  },
  {
   "cell_type": "code",
   "execution_count": 13,
   "metadata": {},
   "outputs": [
    {
     "name": "stdout",
     "output_type": "stream",
     "text": [
      "name: harry\n",
      "salary: 40000\n",
      "role: engineer\n",
      "name: rohan\n",
      "salary: 30000\n",
      "role: developer\n"
     ]
    }
   ],
   "source": [
    "class Employee:\n",
    "    no_of_leaves=5\n",
    "    def printdetails(self):\n",
    "        print(\"name:\",self.name)\n",
    "        print(\"salary:\",self.salary)\n",
    "        print(\"role:\",self.role)\n",
    "harry=Employee()\n",
    "rohan=Employee()\n",
    "harry.name=\"harry\"\n",
    "harry.salary=40000\n",
    "harry.role=\"engineer\"\n",
    "rohan.name=\"rohan\"\n",
    "rohan.salary=30000\n",
    "rohan.role=\"developer\"\n",
    "harry.printdetails()\n",
    "rohan.printdetails()\n"
   ]
  },
  {
   "cell_type": "code",
   "execution_count": 15,
   "metadata": {},
   "outputs": [
    {
     "name": "stdout",
     "output_type": "stream",
     "text": [
      "name: harry\n",
      "salary: 30000\n",
      "role: manager\n",
      "name: rohan\n",
      "salary: 4000\n",
      "role: developer\n"
     ]
    }
   ],
   "source": [
    "class Employee:\n",
    "    no_of_leaves=5\n",
    "    def __init__(self,name,salary,role):\n",
    "        self.name=name\n",
    "        self.role=role\n",
    "        self.salary=salary\n",
    "    def printdetails(self):\n",
    "        print(\"name:\",self.name)\n",
    "        print(\"salary:\",self.salary)\n",
    "        print(\"role:\",self.role)\n",
    "harry=Employee(\"harry\",30000,\"manager\")\n",
    "rohan=Employee(\"rohan\",4000,\"developer\")\n",
    "harry.printdetails()\n",
    "rohan.printdetails()\n"
   ]
  },
  {
   "cell_type": "code",
   "execution_count": 19,
   "metadata": {},
   "outputs": [
    {
     "name": "stdout",
     "output_type": "stream",
     "text": [
      "Enter name:xyz\n",
      "Enter role:werty\n",
      "Enter salary:2344\n",
      "Enter name:rty\n",
      "Enter role:hhhhhh\n",
      "Enter salary:567\n"
     ]
    }
   ],
   "source": [
    "class Employee:\n",
    "    no_of_leaves=5\n",
    "    def __init__(self):\n",
    "        self.name=input(\"Enter name:\")\n",
    "        self.role=input(\"Enter role:\")\n",
    "        self.salary=input(\"Enter salary:\")\n",
    "    def printdetails(self):\n",
    "        print(\"name:\",self.name)\n",
    "        print(\"salary:\",self.salary)\n",
    "        print(\"role:\",self.role)\n",
    "# harry=Employee(\"harry\",30000,\"manager\")\n",
    "# rohan=Employee(\"rohan\",4000,\"developer\")\n",
    "# harry.printdetails()\n",
    "# rohan.printdetails()\n",
    "a1=Employee()\n",
    "a2=Employee()"
   ]
  },
  {
   "cell_type": "code",
   "execution_count": 20,
   "metadata": {},
   "outputs": [
    {
     "ename": "TypeError",
     "evalue": "Employee() takes no arguments",
     "output_type": "error",
     "traceback": [
      "\u001b[1;31m---------------------------------------------------------------------------\u001b[0m",
      "\u001b[1;31mTypeError\u001b[0m                                 Traceback (most recent call last)",
      "\u001b[1;32m<ipython-input-20-cd66a059a0d6>\u001b[0m in \u001b[0;36m<module>\u001b[1;34m\u001b[0m\n\u001b[0;32m     10\u001b[0m         \u001b[0mprint\u001b[0m\u001b[1;33m(\u001b[0m\u001b[1;34m\"salary:\"\u001b[0m\u001b[1;33m,\u001b[0m\u001b[0mself\u001b[0m\u001b[1;33m.\u001b[0m\u001b[0msalary\u001b[0m\u001b[1;33m)\u001b[0m\u001b[1;33m\u001b[0m\u001b[1;33m\u001b[0m\u001b[0m\n\u001b[0;32m     11\u001b[0m         \u001b[0mprint\u001b[0m\u001b[1;33m(\u001b[0m\u001b[1;34m\"role:\"\u001b[0m\u001b[1;33m,\u001b[0m\u001b[0mself\u001b[0m\u001b[1;33m.\u001b[0m\u001b[0mrole\u001b[0m\u001b[1;33m)\u001b[0m\u001b[1;33m\u001b[0m\u001b[1;33m\u001b[0m\u001b[0m\n\u001b[1;32m---> 12\u001b[1;33m \u001b[0mharry\u001b[0m\u001b[1;33m=\u001b[0m\u001b[0mEmployee\u001b[0m\u001b[1;33m(\u001b[0m\u001b[1;34m\"harry\"\u001b[0m\u001b[1;33m,\u001b[0m\u001b[1;36m30000\u001b[0m\u001b[1;33m,\u001b[0m\u001b[1;34m\"manager\"\u001b[0m\u001b[1;33m)\u001b[0m\u001b[1;33m\u001b[0m\u001b[1;33m\u001b[0m\u001b[0m\n\u001b[0m\u001b[0;32m     13\u001b[0m \u001b[0mrohan\u001b[0m\u001b[1;33m=\u001b[0m\u001b[0mEmployee\u001b[0m\u001b[1;33m(\u001b[0m\u001b[1;34m\"rohan\"\u001b[0m\u001b[1;33m,\u001b[0m\u001b[1;36m4000\u001b[0m\u001b[1;33m,\u001b[0m\u001b[1;34m\"developer\"\u001b[0m\u001b[1;33m)\u001b[0m\u001b[1;33m\u001b[0m\u001b[1;33m\u001b[0m\u001b[0m\n\u001b[0;32m     14\u001b[0m \u001b[0mharry\u001b[0m\u001b[1;33m.\u001b[0m\u001b[0mprintdetails\u001b[0m\u001b[1;33m(\u001b[0m\u001b[1;33m)\u001b[0m\u001b[1;33m\u001b[0m\u001b[1;33m\u001b[0m\u001b[0m\n",
      "\u001b[1;31mTypeError\u001b[0m: Employee() takes no arguments"
     ]
    }
   ],
   "source": [
    "#default constructor:\n",
    "class Employee:\n",
    "    no_of_leaves=5\n",
    "#     def __init__(self,name,salary,role):\n",
    "#         self.name=name\n",
    "#         self.role=role\n",
    "#         self.salary=salary\n",
    "    def printdetails(self):\n",
    "        print(\"name:\",self.name)\n",
    "        print(\"salary:\",self.salary)\n",
    "        print(\"role:\",self.role)\n",
    "harry=Employee(\"harry\",30000,\"manager\")\n",
    "rohan=Employee(\"rohan\",4000,\"developer\")\n",
    "harry.printdetails()\n",
    "rohan.printdetails()"
   ]
  },
  {
   "cell_type": "code",
   "execution_count": 23,
   "metadata": {},
   "outputs": [
    {
     "ename": "NameError",
     "evalue": "name 'show' is not defined",
     "output_type": "error",
     "traceback": [
      "\u001b[1;31m---------------------------------------------------------------------------\u001b[0m",
      "\u001b[1;31mNameError\u001b[0m                                 Traceback (most recent call last)",
      "\u001b[1;32m<ipython-input-23-389310836902>\u001b[0m in \u001b[0;36m<module>\u001b[1;34m\u001b[0m\n\u001b[0;32m      6\u001b[0m         \u001b[0mprint\u001b[0m\u001b[1;33m(\u001b[0m\u001b[0mself\u001b[0m\u001b[1;33m.\u001b[0m\u001b[0mvalue\u001b[0m\u001b[1;33m)\u001b[0m\u001b[1;33m\u001b[0m\u001b[1;33m\u001b[0m\u001b[0m\n\u001b[0;32m      7\u001b[0m \u001b[1;33m\u001b[0m\u001b[0m\n\u001b[1;32m----> 8\u001b[1;33m \u001b[0ma\u001b[0m\u001b[1;33m=\u001b[0m\u001b[0mtest\u001b[0m\u001b[1;33m(\u001b[0m\u001b[1;33m)\u001b[0m\u001b[1;33m\u001b[0m\u001b[1;33m\u001b[0m\u001b[0m\n\u001b[0m",
      "\u001b[1;32m<ipython-input-23-389310836902>\u001b[0m in \u001b[0;36m__init__\u001b[1;34m(self)\u001b[0m\n\u001b[0;32m      2\u001b[0m     \u001b[1;32mdef\u001b[0m \u001b[0m__init__\u001b[0m\u001b[1;33m(\u001b[0m\u001b[0mself\u001b[0m\u001b[1;33m)\u001b[0m\u001b[1;33m:\u001b[0m\u001b[1;33m\u001b[0m\u001b[1;33m\u001b[0m\u001b[0m\n\u001b[0;32m      3\u001b[0m         \u001b[0mself\u001b[0m\u001b[1;33m.\u001b[0m\u001b[0mvalue\u001b[0m\u001b[1;33m=\u001b[0m\u001b[1;36m50\u001b[0m\u001b[1;33m\u001b[0m\u001b[1;33m\u001b[0m\u001b[0m\n\u001b[1;32m----> 4\u001b[1;33m         \u001b[0mshow\u001b[0m\u001b[1;33m(\u001b[0m\u001b[1;33m)\u001b[0m\u001b[1;33m\u001b[0m\u001b[1;33m\u001b[0m\u001b[0m\n\u001b[0m\u001b[0;32m      5\u001b[0m     \u001b[1;32mdef\u001b[0m \u001b[0mshow\u001b[0m\u001b[1;33m(\u001b[0m\u001b[0mself\u001b[0m\u001b[1;33m)\u001b[0m\u001b[1;33m:\u001b[0m\u001b[1;33m\u001b[0m\u001b[1;33m\u001b[0m\u001b[0m\n\u001b[0;32m      6\u001b[0m         \u001b[0mprint\u001b[0m\u001b[1;33m(\u001b[0m\u001b[0mself\u001b[0m\u001b[1;33m.\u001b[0m\u001b[0mvalue\u001b[0m\u001b[1;33m)\u001b[0m\u001b[1;33m\u001b[0m\u001b[1;33m\u001b[0m\u001b[0m\n",
      "\u001b[1;31mNameError\u001b[0m: name 'show' is not defined"
     ]
    }
   ],
   "source": [
    "class test:\n",
    "    def __init__(self):\n",
    "        self.value=50\n",
    "        show()\n",
    "    def show(self):\n",
    "        print(self.value)\n",
    "        \n",
    "a=test()"
   ]
  },
  {
   "cell_type": "code",
   "execution_count": 24,
   "metadata": {},
   "outputs": [
    {
     "name": "stdout",
     "output_type": "stream",
     "text": [
      "50\n"
     ]
    }
   ],
   "source": [
    "class test:\n",
    "    def __init__(self):\n",
    "        self.value=50\n",
    "        self.show()\n",
    "    def show(self):\n",
    "        print(self.value)\n",
    "        \n",
    "a=test()"
   ]
  },
  {
   "cell_type": "code",
   "execution_count": 26,
   "metadata": {},
   "outputs": [
    {
     "name": "stdout",
     "output_type": "stream",
     "text": [
      "Address of self: 2048630728928\n",
      "Address of obj= 2048630728928\n",
      "5\n",
      "Address of self: 2048630729264\n",
      "Address of obj= 2048630728928\n",
      "10\n"
     ]
    }
   ],
   "source": [
    "class check:\n",
    "    def __init__(self,m):\n",
    "        print(\"Address of self:\",id(self))\n",
    "        self.m=m\n",
    "obj=check(5)\n",
    "print(\"Address of obj=\",id(obj))\n",
    "print(obj.m)\n",
    "obj1=check(10)\n",
    "print(\"Address of obj=\",id(obj))\n",
    "print(obj1.m)"
   ]
  },
  {
   "cell_type": "code",
   "execution_count": 28,
   "metadata": {},
   "outputs": [
    {
     "name": "stdout",
     "output_type": "stream",
     "text": [
      "Address of self: 2048630912192\n",
      "Address of obj= 2048630912192\n",
      "5\n",
      "Address of self: 2048631779536\n"
     ]
    },
    {
     "ename": "NameError",
     "evalue": "name 'self' is not defined",
     "output_type": "error",
     "traceback": [
      "\u001b[1;31m---------------------------------------------------------------------------\u001b[0m",
      "\u001b[1;31mNameError\u001b[0m                                 Traceback (most recent call last)",
      "\u001b[1;32m<ipython-input-28-4fb477401cd7>\u001b[0m in \u001b[0;36m<module>\u001b[1;34m\u001b[0m\n\u001b[0;32m      7\u001b[0m \u001b[0mprint\u001b[0m\u001b[1;33m(\u001b[0m\u001b[0mobj\u001b[0m\u001b[1;33m.\u001b[0m\u001b[0mm\u001b[0m\u001b[1;33m)\u001b[0m\u001b[1;33m\u001b[0m\u001b[1;33m\u001b[0m\u001b[0m\n\u001b[0;32m      8\u001b[0m \u001b[0mobj1\u001b[0m\u001b[1;33m=\u001b[0m\u001b[0mcheck\u001b[0m\u001b[1;33m(\u001b[0m\u001b[1;36m10\u001b[0m\u001b[1;33m)\u001b[0m\u001b[1;33m\u001b[0m\u001b[1;33m\u001b[0m\u001b[0m\n\u001b[1;32m----> 9\u001b[1;33m \u001b[0mprint\u001b[0m\u001b[1;33m(\u001b[0m\u001b[1;34m\"Address of obj=\"\u001b[0m\u001b[1;33m,\u001b[0m\u001b[0mid\u001b[0m\u001b[1;33m(\u001b[0m\u001b[0mself\u001b[0m\u001b[1;33m)\u001b[0m\u001b[1;33m)\u001b[0m\u001b[1;33m\u001b[0m\u001b[1;33m\u001b[0m\u001b[0m\n\u001b[0m\u001b[0;32m     10\u001b[0m \u001b[0mprint\u001b[0m\u001b[1;33m(\u001b[0m\u001b[0mobj1\u001b[0m\u001b[1;33m.\u001b[0m\u001b[0mm\u001b[0m\u001b[1;33m)\u001b[0m\u001b[1;33m\u001b[0m\u001b[1;33m\u001b[0m\u001b[0m\n",
      "\u001b[1;31mNameError\u001b[0m: name 'self' is not defined"
     ]
    }
   ],
   "source": [
    "class check:\n",
    "    def __init__(self,m):\n",
    "        print(\"Address of self:\",id(self))\n",
    "        self.m=m\n",
    "obj=check(5)\n",
    "print(\"Address of obj=\",id(obj))\n",
    "print(obj.m)\n",
    "obj1=check(10)\n",
    "print(\"Address of obj=\",id(self))\n",
    "print(obj1.m)"
   ]
  },
  {
   "cell_type": "code",
   "execution_count": 31,
   "metadata": {},
   "outputs": [
    {
     "name": "stdout",
     "output_type": "stream",
     "text": [
      "5 5 140715419117472 140715419117472\n",
      "10 5 140715419117632 140715419117472\n"
     ]
    }
   ],
   "source": [
    "class account():\n",
    "    rate=5\n",
    "    def some_method(self):\n",
    "        print(self.rate,account.rate,id(self.rate),id(account.rate))\n",
    "        self.rate=10\n",
    "        print(self.rate,account.rate,id(self.rate),id(account.rate))\n",
    "a1=account()\n",
    "a2=account()\n",
    "a1.some_method()"
   ]
  },
  {
   "cell_type": "markdown",
   "metadata": {},
   "source": [
    "### Concept of self and other:"
   ]
  },
  {
   "cell_type": "code",
   "execution_count": 33,
   "metadata": {},
   "outputs": [
    {
     "name": "stdout",
     "output_type": "stream",
     "text": [
      "30 30\n",
      "35 30\n",
      "35 30 --\n",
      "age is different\n"
     ]
    }
   ],
   "source": [
    "class person:\n",
    "    def __init__(self):\n",
    "        self.name=\"john\"\n",
    "        self.age=30\n",
    "    def update(self):\n",
    "        self.age=35\n",
    "    def compare(self,other):\n",
    "        print(self.age,other.age,\"--\")\n",
    "        if self.age==other.age:\n",
    "            print(\"age is same\")\n",
    "        else:\n",
    "            print(\"age is different\")\n",
    "\n",
    "p1=person()\n",
    "p2=person()\n",
    "print(p1.age,p2.age)\n",
    "p1.update()\n",
    "print(p1.age,p2.age)\n",
    "p1.compare(p2)"
   ]
  },
  {
   "cell_type": "markdown",
   "metadata": {},
   "source": [
    "### Destructor:"
   ]
  },
  {
   "cell_type": "markdown",
   "metadata": {},
   "source": [
    "    --used to perform the cleanup activity before destroying an object such as closing databse connections or file handle\n",
    "    --python has a garbage collection that handles memory management automatically\n",
    "    --it cleans up the memory when an object goes out of scope"
   ]
  },
  {
   "cell_type": "code",
   "execution_count": 38,
   "metadata": {},
   "outputs": [
    {
     "name": "stdout",
     "output_type": "stream",
     "text": [
      "harry 30 50000\n",
      "rohan 40 40000\n"
     ]
    },
    {
     "ename": "NameError",
     "evalue": "name 'emp2' is not defined",
     "output_type": "error",
     "traceback": [
      "\u001b[1;31m---------------------------------------------------------------------------\u001b[0m",
      "\u001b[1;31mNameError\u001b[0m                                 Traceback (most recent call last)",
      "\u001b[1;32m<ipython-input-38-08592973bb52>\u001b[0m in \u001b[0;36m<module>\u001b[1;34m\u001b[0m\n\u001b[0;32m     15\u001b[0m \u001b[1;33m\u001b[0m\u001b[0m\n\u001b[0;32m     16\u001b[0m \u001b[1;32mdel\u001b[0m \u001b[0memp2\u001b[0m\u001b[1;33m\u001b[0m\u001b[1;33m\u001b[0m\u001b[0m\n\u001b[1;32m---> 17\u001b[1;33m \u001b[0memp2\u001b[0m\u001b[1;33m.\u001b[0m\u001b[0mdisplay\u001b[0m\u001b[1;33m(\u001b[0m\u001b[1;33m)\u001b[0m\u001b[1;33m\u001b[0m\u001b[1;33m\u001b[0m\u001b[0m\n\u001b[0m",
      "\u001b[1;31mNameError\u001b[0m: name 'emp2' is not defined"
     ]
    }
   ],
   "source": [
    "class employee:\n",
    "    def __init__(self,name,age,salary):\n",
    "        self.name=name\n",
    "        self.age=age\n",
    "        self.salary=salary\n",
    "    \n",
    "#     def __del__(self):\n",
    "#         print(\"object destroyed\")\n",
    "    def display(self):\n",
    "        print(self.name,self.age,self.salary)\n",
    "emp1=employee(\"harry\",30,50000)\n",
    "emp2=employee(\"rohan\",40,40000)\n",
    "emp1.display()\n",
    "emp2.display()\n",
    "\n",
    "del emp2\n",
    "emp2.display()"
   ]
  },
  {
   "cell_type": "code",
   "execution_count": 41,
   "metadata": {},
   "outputs": [
    {
     "name": "stdout",
     "output_type": "stream",
     "text": [
      "object destroyed\n",
      "harry 30 50000\n",
      "rohan 40 40000\n",
      "object destroyed\n"
     ]
    },
    {
     "ename": "NameError",
     "evalue": "name 'emp2' is not defined",
     "output_type": "error",
     "traceback": [
      "\u001b[1;31m---------------------------------------------------------------------------\u001b[0m",
      "\u001b[1;31mNameError\u001b[0m                                 Traceback (most recent call last)",
      "\u001b[1;32m<ipython-input-41-fc0bab56e02f>\u001b[0m in \u001b[0;36m<module>\u001b[1;34m\u001b[0m\n\u001b[0;32m     15\u001b[0m \u001b[1;33m\u001b[0m\u001b[0m\n\u001b[0;32m     16\u001b[0m \u001b[1;32mdel\u001b[0m \u001b[0memp2\u001b[0m\u001b[1;33m\u001b[0m\u001b[1;33m\u001b[0m\u001b[0m\n\u001b[1;32m---> 17\u001b[1;33m \u001b[0memp2\u001b[0m\u001b[1;33m.\u001b[0m\u001b[0mdisplay\u001b[0m\u001b[1;33m(\u001b[0m\u001b[1;33m)\u001b[0m\u001b[1;33m\u001b[0m\u001b[1;33m\u001b[0m\u001b[0m\n\u001b[0m",
      "\u001b[1;31mNameError\u001b[0m: name 'emp2' is not defined"
     ]
    }
   ],
   "source": [
    "class employee:\n",
    "    def __init__(self,name,age,salary):\n",
    "        self.name=name\n",
    "        self.age=age\n",
    "        self.salary=salary\n",
    "    \n",
    "    def __del__(self):\n",
    "        print(\"object destroyed\")\n",
    "    def display(self):\n",
    "        print(self.name,self.age,self.salary)\n",
    "emp1=employee(\"harry\",30,50000)\n",
    "emp2=employee(\"rohan\",40,40000)\n",
    "emp1.display()\n",
    "emp2.display()\n",
    "\n",
    "del emp2\n",
    "emp2.display()"
   ]
  },
  {
   "cell_type": "markdown",
   "metadata": {},
   "source": [
    "### Class variable v/s Instance variable:"
   ]
  },
  {
   "cell_type": "code",
   "execution_count": 45,
   "metadata": {},
   "outputs": [
    {
     "name": "stdout",
     "output_type": "stream",
     "text": [
      "yes\n",
      "yes\n"
     ]
    }
   ],
   "source": [
    "class mobile:\n",
    "    fp=\"yes\" #class variable\n",
    "    @classmethod\n",
    "    def show(cls): #class method\n",
    "        print(cls.fp)  #accessing class variable inside class method\n",
    "realme=mobile()\n",
    "print(mobile.fp)  #accessing class variable outside class\n",
    "mobile.show()  ##own"
   ]
  },
  {
   "cell_type": "code",
   "execution_count": 44,
   "metadata": {},
   "outputs": [],
   "source": [
    "class mobile:\n",
    "    def __init__(self):\n",
    "        self.model=\"realme x\" #instance variable\n",
    "    def show_model(self): #instance method\n",
    "        print(self.model)#accesing instance variable inside instance method\n",
    "        \n",
    "realme=mobile()\n",
    "print(realme.model) #accessing instance variable outside class"
   ]
  },
  {
   "cell_type": "code",
   "execution_count": 48,
   "metadata": {},
   "outputs": [
    {
     "name": "stdout",
     "output_type": "stream",
     "text": [
      "yes\n",
      "realme x\n",
      "yes\n"
     ]
    },
    {
     "ename": "TypeError",
     "evalue": "show_model() missing 1 required positional argument: 'self'",
     "output_type": "error",
     "traceback": [
      "\u001b[1;31m---------------------------------------------------------------------------\u001b[0m",
      "\u001b[1;31mTypeError\u001b[0m                                 Traceback (most recent call last)",
      "\u001b[1;32m<ipython-input-48-41b47dbea28c>\u001b[0m in \u001b[0;36m<module>\u001b[1;34m\u001b[0m\n\u001b[0;32m     13\u001b[0m \u001b[0mrealme\u001b[0m\u001b[1;33m.\u001b[0m\u001b[0mshow_model\u001b[0m\u001b[1;33m(\u001b[0m\u001b[1;33m)\u001b[0m\u001b[1;33m\u001b[0m\u001b[1;33m\u001b[0m\u001b[0m\n\u001b[0;32m     14\u001b[0m \u001b[0mmobile\u001b[0m\u001b[1;33m.\u001b[0m\u001b[0mshow\u001b[0m\u001b[1;33m(\u001b[0m\u001b[1;33m)\u001b[0m\u001b[1;33m\u001b[0m\u001b[1;33m\u001b[0m\u001b[0m\n\u001b[1;32m---> 15\u001b[1;33m \u001b[0mmobile\u001b[0m\u001b[1;33m.\u001b[0m\u001b[0mshow_model\u001b[0m\u001b[1;33m(\u001b[0m\u001b[1;33m)\u001b[0m\u001b[1;33m\u001b[0m\u001b[1;33m\u001b[0m\u001b[0m\n\u001b[0m",
      "\u001b[1;31mTypeError\u001b[0m: show_model() missing 1 required positional argument: 'self'"
     ]
    }
   ],
   "source": [
    "class mobile:\n",
    "    fp=\"yes\" #class variable\n",
    "    def __init__(self):\n",
    "        self.model=\"realme x\" #instance variable\n",
    "    def show_model(self): #instance method\n",
    "        print(self.model)#accesing instance variable inside instance method\n",
    "    @classmethod\n",
    "    def show(cls): #class method\n",
    "        print(cls.fp)  #accessing class variable inside class method\n",
    "realme=mobile()\n",
    "# print(mobile.fp)  #accessing class variable outside class\n",
    "realme.show()\n",
    "realme.show_model()\n",
    "mobile.show()\n",
    "mobile.show_model()"
   ]
  },
  {
   "cell_type": "code",
   "execution_count": 50,
   "metadata": {},
   "outputs": [
    {
     "name": "stdout",
     "output_type": "stream",
     "text": [
      "the naem is : orange\n",
      "the naem is : banana\n",
      "the naem is : banana\n"
     ]
    }
   ],
   "source": [
    "class fruit:\n",
    "    name=\"orange\"\n",
    "    @classmethod\n",
    "    def printname(cls):\n",
    "        print(\"the naem is :\",cls.name)\n",
    "        \n",
    "fruit.printname()\n",
    "apple=fruit()\n",
    "fruit.name=\"banana\"\n",
    "fruit.printname()\n",
    "apple.name=\"strawbwrry\"  #object thi class variable change na thay, to change that we need to write classname.variablename\n",
    "apple.printname()"
   ]
  },
  {
   "cell_type": "code",
   "execution_count": 51,
   "metadata": {},
   "outputs": [
    {
     "name": "stdout",
     "output_type": "stream",
     "text": [
      "bmw 8 5\n",
      "bmw 10 4\n"
     ]
    }
   ],
   "source": [
    "class car:\n",
    "    wheels=4\n",
    "    def __init__(self):\n",
    "        self.milage=10\n",
    "        self.model=\"bmw\"\n",
    "c1=car()\n",
    "c2=car()\n",
    "c1.milage=8\n",
    "c1.wheels=5\n",
    "print(c1.model,c1.milage,c1.wheels)\n",
    "print(c2.model,c2.milage,c2.wheels)"
   ]
  },
  {
   "cell_type": "code",
   "execution_count": null,
   "metadata": {},
   "outputs": [],
   "source": []
  }
 ],
 "metadata": {
  "kernelspec": {
   "display_name": "Python 3",
   "language": "python",
   "name": "python3"
  },
  "language_info": {
   "codemirror_mode": {
    "name": "ipython",
    "version": 3
   },
   "file_extension": ".py",
   "mimetype": "text/x-python",
   "name": "python",
   "nbconvert_exporter": "python",
   "pygments_lexer": "ipython3",
   "version": "3.8.5"
  }
 },
 "nbformat": 4,
 "nbformat_minor": 4
}
