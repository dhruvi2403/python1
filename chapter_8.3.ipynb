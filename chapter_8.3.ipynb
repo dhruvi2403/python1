{
 "cells": [
  {
   "cell_type": "markdown",
   "metadata": {},
   "source": [
    "### Encapsulation"
   ]
  },
  {
   "cell_type": "markdown",
   "metadata": {},
   "source": [
    "* process of binding data and corresponding moethods together into a single unit is called Encapsulation in python\n",
    "* programming technniques which binds the class methods(variables and methods) together and prevents them from being accessed by other classes\n",
    "* way to ensure security\n",
    "* it hides the data from the access of outsiders by encapsulating it."
   ]
  },
  {
   "cell_type": "markdown",
   "metadata": {},
   "source": [
    "    -->public \n",
    "\n",
    "        name\n",
    "        freely used inside and outside class definition\n",
    "\n",
    "    -->protected\n",
    "        _name\n",
    "        should not be used outside the class unless substring definition\n",
    "        \n",
    "    -->private\n",
    "        __name\n",
    "        inaccessible\n",
    "        does not read or write\n",
    "        works inside class definition only"
   ]
  },
  {
   "cell_type": "markdown",
   "metadata": {},
   "source": [
    "### Getters and Setters"
   ]
  },
  {
   "cell_type": "code",
   "execution_count": 2,
   "metadata": {},
   "outputs": [],
   "source": [
    "class library:\n",
    "    def __init__(self,id,name):\n",
    "        self.bookid=id\n",
    "        self.bookname=name\n",
    "    def getbookname(self):  #getter\n",
    "        print(\"the book is:\",self.bookname)\n",
    "    def setbookname(self,newbookname):  #setter\n",
    "        self.bookname=newbookname"
   ]
  },
  {
   "cell_type": "code",
   "execution_count": 4,
   "metadata": {},
   "outputs": [
    {
     "name": "stdout",
     "output_type": "stream",
     "text": [
      "the book is:  the witchers\n",
      "the book is: the witchers returns\n"
     ]
    }
   ],
   "source": [
    "book = library(1,\" the witchers\")\n",
    "book.getbookname()\n",
    "book.setbookname(\"the witchers returns\")\n",
    "book.getbookname()"
   ]
  },
  {
   "cell_type": "markdown",
   "metadata": {},
   "source": [
    "### Abstraction"
   ]
  },
  {
   "cell_type": "markdown",
   "metadata": {},
   "source": [
    "* abstraction is  a way that just shows us the functionality anything holds,hiding all the implementation or inner details\n",
    "* Main goal of abstraction is to hide background details or any unnecessary implementation about the data so that the users only the required information\n",
    "* it helps in handling the complexity of the codes"
   ]
  },
  {
   "cell_type": "markdown",
   "metadata": {},
   "source": [
    "### Python Generators"
   ]
  },
  {
   "cell_type": "markdown",
   "metadata": {},
   "source": [
    "* it is used to create iterators\n",
    "* generator can also be an expression in which syntax is similar to the list comprehension\n",
    "* next() method to keep the track of internal states\n",
    "* if no value is found in iteration then it raises \" stop iteration \"exception"
   ]
  },
  {
   "cell_type": "code",
   "execution_count": 9,
   "metadata": {},
   "outputs": [
    {
     "name": "stdout",
     "output_type": "stream",
     "text": [
      "0\n"
     ]
    }
   ],
   "source": [
    "def simple():\n",
    "    for i in range(10):\n",
    "        if i%2==0:\n",
    "            return i       \n",
    "        \n",
    "x=simple()\n",
    "print(x)"
   ]
  },
  {
   "cell_type": "code",
   "execution_count": 7,
   "metadata": {},
   "outputs": [
    {
     "name": "stdout",
     "output_type": "stream",
     "text": [
      "<generator object simple at 0x0000017C2411F2E0>\n",
      "[0, 2, 4, 6, 8]\n"
     ]
    }
   ],
   "source": [
    "def simple():\n",
    "    for i in range(10):\n",
    "        if i%2==0:\n",
    "            yield i       \n",
    "        \n",
    "x=simple()\n",
    "print(x)\n",
    "print(list(x))"
   ]
  },
  {
   "cell_type": "code",
   "execution_count": 10,
   "metadata": {},
   "outputs": [],
   "source": [
    "def add(a,b):\n",
    "    return a+b"
   ]
  },
  {
   "cell_type": "code",
   "execution_count": 12,
   "metadata": {},
   "outputs": [
    {
     "name": "stdout",
     "output_type": "stream",
     "text": [
      "10\n",
      "20\n",
      "30\n",
      "40\n",
      "50\n"
     ]
    }
   ],
   "source": [
    "def fan():\n",
    "    yield(10)\n",
    "    yield(20)\n",
    "    yield(30)\n",
    "    yield(40)\n",
    "    yield(50)\n",
    "for i in fan():\n",
    "    print(i)"
   ]
  },
  {
   "cell_type": "code",
   "execution_count": 13,
   "metadata": {},
   "outputs": [
    {
     "ename": "TypeError",
     "evalue": "'int' object is not iterable",
     "output_type": "error",
     "traceback": [
      "\u001b[1;31m---------------------------------------------------------------------------\u001b[0m",
      "\u001b[1;31mTypeError\u001b[0m                                 Traceback (most recent call last)",
      "\u001b[1;32m<ipython-input-13-4c10d9e690c4>\u001b[0m in \u001b[0;36m<module>\u001b[1;34m\u001b[0m\n\u001b[0;32m      5\u001b[0m     \u001b[1;32mreturn\u001b[0m\u001b[1;33m(\u001b[0m\u001b[1;36m40\u001b[0m\u001b[1;33m)\u001b[0m\u001b[1;33m\u001b[0m\u001b[1;33m\u001b[0m\u001b[0m\n\u001b[0;32m      6\u001b[0m     \u001b[1;32mreturn\u001b[0m\u001b[1;33m(\u001b[0m\u001b[1;36m50\u001b[0m\u001b[1;33m)\u001b[0m\u001b[1;33m\u001b[0m\u001b[1;33m\u001b[0m\u001b[0m\n\u001b[1;32m----> 7\u001b[1;33m \u001b[1;32mfor\u001b[0m \u001b[0mi\u001b[0m \u001b[1;32min\u001b[0m \u001b[0mfan\u001b[0m\u001b[1;33m(\u001b[0m\u001b[1;33m)\u001b[0m\u001b[1;33m:\u001b[0m\u001b[1;33m\u001b[0m\u001b[1;33m\u001b[0m\u001b[0m\n\u001b[0m\u001b[0;32m      8\u001b[0m     \u001b[0mprint\u001b[0m\u001b[1;33m(\u001b[0m\u001b[0mi\u001b[0m\u001b[1;33m)\u001b[0m\u001b[1;33m\u001b[0m\u001b[1;33m\u001b[0m\u001b[0m\n",
      "\u001b[1;31mTypeError\u001b[0m: 'int' object is not iterable"
     ]
    }
   ],
   "source": [
    "def fan():\n",
    "    return(10)\n",
    "    return(20)\n",
    "    return(30)\n",
    "    return(40)\n",
    "    return(50)\n",
    "for i in fan():\n",
    "    print(i)"
   ]
  },
  {
   "cell_type": "code",
   "execution_count": 16,
   "metadata": {},
   "outputs": [
    {
     "name": "stdout",
     "output_type": "stream",
     "text": [
      "1\n",
      "0\n"
     ]
    }
   ],
   "source": [
    "def fan():\n",
    "    return('10')\n",
    "    return('20')\n",
    "    return('30')\n",
    "    return('40')\n",
    "    return('50')\n",
    "for i in fan():\n",
    "    print(i)"
   ]
  },
  {
   "cell_type": "code",
   "execution_count": 17,
   "metadata": {},
   "outputs": [
    {
     "name": "stdout",
     "output_type": "stream",
     "text": [
      "10\n",
      "20\n",
      "30\n",
      "40\n"
     ]
    }
   ],
   "source": [
    "def fun():\n",
    "    return 10,20,30,40\n",
    "for i in fun():\n",
    "    print(i)"
   ]
  },
  {
   "cell_type": "code",
   "execution_count": 20,
   "metadata": {},
   "outputs": [
    {
     "name": "stdout",
     "output_type": "stream",
     "text": [
      "(10, 20, 30, 40)\n"
     ]
    }
   ],
   "source": [
    "def fun():\n",
    "    yield 10,20,30,40  #by default list ma store thay\n",
    "for i in fun():\n",
    "    print(i)"
   ]
  },
  {
   "cell_type": "code",
   "execution_count": 21,
   "metadata": {},
   "outputs": [
    {
     "name": "stdout",
     "output_type": "stream",
     "text": [
      "[10, 20, 30, 40]\n"
     ]
    }
   ],
   "source": [
    "def fun():\n",
    "    yield [10,20,30,40] \n",
    "for i in fun():\n",
    "    print(i)"
   ]
  },
  {
   "cell_type": "code",
   "execution_count": 24,
   "metadata": {},
   "outputs": [
    {
     "name": "stdout",
     "output_type": "stream",
     "text": [
      "delhi\n",
      "mumbai\n",
      "chennai\n",
      "loop: kolkata\n",
      "loop: banglore\n",
      "loop: hydrabad\n"
     ]
    }
   ],
   "source": [
    "def city_generator():\n",
    "    yield \"delhi\"\n",
    "    yield \"mumbai\"\n",
    "    yield \"chennai\"\n",
    "    yield \"kolkata\"\n",
    "    yield \"banglore\"\n",
    "    yield \"hydrabad\"\n",
    "    \n",
    "city=city_generator()\n",
    "print(next (city))\n",
    "print(next (city))\n",
    "print(next (city))\n",
    "for i in city:\n",
    "    print(\"loop:\",i)"
   ]
  },
  {
   "cell_type": "code",
   "execution_count": 25,
   "metadata": {},
   "outputs": [
    {
     "name": "stdout",
     "output_type": "stream",
     "text": [
      "delhi\n",
      "mumbai\n",
      "chennai\n",
      "kolkata\n",
      "banglore\n",
      "hydrabad\n"
     ]
    },
    {
     "ename": "StopIteration",
     "evalue": "",
     "output_type": "error",
     "traceback": [
      "\u001b[1;31m---------------------------------------------------------------------------\u001b[0m",
      "\u001b[1;31mStopIteration\u001b[0m                             Traceback (most recent call last)",
      "\u001b[1;32m<ipython-input-25-b38de9934f2f>\u001b[0m in \u001b[0;36m<module>\u001b[1;34m\u001b[0m\n\u001b[0;32m     14\u001b[0m \u001b[0mprint\u001b[0m\u001b[1;33m(\u001b[0m\u001b[0mnext\u001b[0m \u001b[1;33m(\u001b[0m\u001b[0mcity\u001b[0m\u001b[1;33m)\u001b[0m\u001b[1;33m)\u001b[0m\u001b[1;33m\u001b[0m\u001b[1;33m\u001b[0m\u001b[0m\n\u001b[0;32m     15\u001b[0m \u001b[0mprint\u001b[0m\u001b[1;33m(\u001b[0m\u001b[0mnext\u001b[0m \u001b[1;33m(\u001b[0m\u001b[0mcity\u001b[0m\u001b[1;33m)\u001b[0m\u001b[1;33m)\u001b[0m\u001b[1;33m\u001b[0m\u001b[1;33m\u001b[0m\u001b[0m\n\u001b[1;32m---> 16\u001b[1;33m \u001b[0mprint\u001b[0m\u001b[1;33m(\u001b[0m\u001b[0mnext\u001b[0m \u001b[1;33m(\u001b[0m\u001b[0mcity\u001b[0m\u001b[1;33m)\u001b[0m\u001b[1;33m)\u001b[0m\u001b[1;33m\u001b[0m\u001b[1;33m\u001b[0m\u001b[0m\n\u001b[0m\u001b[0;32m     17\u001b[0m \u001b[1;33m\u001b[0m\u001b[0m\n\u001b[0;32m     18\u001b[0m \u001b[1;32mfor\u001b[0m \u001b[0mi\u001b[0m \u001b[1;32min\u001b[0m \u001b[0mcity\u001b[0m\u001b[1;33m:\u001b[0m\u001b[1;33m\u001b[0m\u001b[1;33m\u001b[0m\u001b[0m\n",
      "\u001b[1;31mStopIteration\u001b[0m: "
     ]
    }
   ],
   "source": [
    "def city_generator():\n",
    "    yield \"delhi\"\n",
    "    yield \"mumbai\"\n",
    "    yield \"chennai\"\n",
    "    yield \"kolkata\"\n",
    "    yield \"banglore\"\n",
    "    yield \"hydrabad\"\n",
    "    \n",
    "city=city_generator()\n",
    "print(next (city))\n",
    "print(next (city))\n",
    "print(next (city))\n",
    "print(next (city))\n",
    "print(next (city))\n",
    "print(next (city))\n",
    "print(next (city))\n",
    "\n",
    "for i in city:\n",
    "    print(\"loop:\",i)"
   ]
  },
  {
   "cell_type": "markdown",
   "metadata": {},
   "source": [
    "<!-- wap to create a class student there will be three attributes name,roolno,branch\n",
    "consider branch as a class variable make 3 methods given as below\n",
    "1.enter marks take 5 marks\n",
    "2.display display details of students and also marks if available\n",
    "\n",
    "\n",
    " -->"
   ]
  },
  {
   "cell_type": "markdown",
   "metadata": {},
   "source": [
    "<!-- wap to create student class there will bethree attributed name,rollno,banch consider branch as a class variable make 3 methods given below\n",
    "1 enter marks   do 5 subjects for 3 studnets \n",
    "2 display details and marks if available\n",
    "3 for calculting average of all marks -->"
   ]
  },
  {
   "cell_type": "code",
   "execution_count": 3,
   "metadata": {},
   "outputs": [
    {
     "name": "stdout",
     "output_type": "stream",
     "text": [
      "Enter name:abcd\n",
      "Enter roll no:124\n",
      "do you want to enter mRKS?\n",
      "y\n",
      "Enter marks for sub1:78\n",
      "Enter marks for sub2:76\n",
      "Enter marks for sub3:78\n",
      "Enter marks for sub4:76\n",
      "Enter marks for sub5:77\n",
      "display details??\n",
      "y\n",
      "name= abcd\n",
      "roll no= 124\n",
      "branch= cse\n",
      "s1: 78 s2: 76 s3: 78 s4: 76 s5: 77\n",
      "calculate marks??\n",
      "y\n",
      "77.0\n"
     ]
    }
   ],
   "source": [
    "class student():\n",
    "    branch=\"cse\"\n",
    "    def __init__(self):\n",
    "        self.name=input(\"Enter name:\")\n",
    "        self.rn=input(\"Enter roll no:\")\n",
    "    def marks(self): \n",
    "        self.s1=int(input(\"Enter marks for sub1:\"))\n",
    "        self.s2=int(input(\"Enter marks for sub2:\"))\n",
    "        self.s3=int(input(\"Enter marks for sub3:\"))\n",
    "        self.s4=int(input(\"Enter marks for sub4:\"))\n",
    "        self.s5=int(input(\"Enter marks for sub5:\"))\n",
    "    def details(self):\n",
    "        print(\"name=\",self.name)\n",
    "        print(\"roll no=\",self.rn)\n",
    "        print(\"branch=\",self.branch)\n",
    "        try:\n",
    "            print(\"s1:\",self.s1,\"s2:\",self.s2,\"s3:\",self.s3,\"s4:\",self.s4,\"s5:\",self.s5)\n",
    "        except Exception as e:\n",
    "            print(e)\n",
    "    def calculate(self):\n",
    "        try:\n",
    "            self.avg=(self.s1+self.s2+self.s3+self.s4+self.s5)/5\n",
    "            print(self.avg)\n",
    "        except Exception as e:\n",
    "            print(e)\n",
    "stud1=student()\n",
    "print(\"do you want to enter mRKS?\")\n",
    "x=input()\n",
    "if x==\"y\":\n",
    "    stud1.marks()\n",
    "print(\"display details??\")\n",
    "y=input()\n",
    "if y==\"y\":\n",
    "    stud1.details()\n",
    "print(\"calculate marks??\")\n",
    "z=input()\n",
    "if z==\"y\":\n",
    "    stud1.calculate()"
   ]
  },
  {
   "cell_type": "code",
   "execution_count": null,
   "metadata": {},
   "outputs": [],
   "source": [
    "def __init__(self):\n",
    "        self.name=input(\"Enter name:\")\n",
    "        self.rn=input(\"Enter roll no:\")\n",
    "        self.marks()\n",
    "        self.details()\n",
    "        self.calculate()\n",
    "    def ..."
   ]
  },
  {
   "cell_type": "code",
   "execution_count": 7,
   "metadata": {},
   "outputs": [
    {
     "name": "stdout",
     "output_type": "stream",
     "text": [
      "Enter string:AbcdEf34m6 io\n",
      "lower= 7\n",
      "upper= 2\n",
      "vowel= 4\n",
      "consonants= 5\n",
      "digit= 3\n",
      "space= 1\n"
     ]
    }
   ],
   "source": [
    "#wap to create class string and make methods to count uppercase lowercase vowels consonants digits and spaces\n",
    "#in the string entered by user.\n",
    "\n",
    "class string():\n",
    "    def __init__(self,str):\n",
    "        self.str=str\n",
    "        self.lower()\n",
    "        self.upper()\n",
    "        self.vowel()\n",
    "        self.consonant()\n",
    "        self.digit()\n",
    "        self.space()\n",
    "    def lower(self):\n",
    "        count=0\n",
    "        for i in self.str:\n",
    "            if i.islower():\n",
    "                count+=1\n",
    "        print(\"lower=\",count)\n",
    "    def upper(self):\n",
    "        count=0\n",
    "        for i in self.str:\n",
    "            if i.isupper():\n",
    "                count+=1\n",
    "        print(\"upper=\",count)\n",
    "    def vowel(self):\n",
    "        count=0\n",
    "        for i in self.str:\n",
    "            if i in 'aeiouAEIOU':\n",
    "                count+=1\n",
    "        print(\"vowel=\",count)\n",
    "    def consonant(self):\n",
    "        count=0\n",
    "        for i in self.str:\n",
    "            if i.isalpha():\n",
    "                if i not in 'aeiouAEIOU':\n",
    "                    count+=1\n",
    "        print(\"consonants=\",count)    \n",
    "    def digit(self):\n",
    "        count=0\n",
    "        for i in self.str:\n",
    "            if i.isdigit():\n",
    "                count+=1\n",
    "        print(\"digit=\",count)\n",
    "    def space(self):\n",
    "        count=0\n",
    "        for i in self.str:\n",
    "            if i.isspace():\n",
    "                count+=1\n",
    "        print(\"space=\",count)\n",
    "str=string(input(\"Enter string:\"))"
   ]
  },
  {
   "cell_type": "code",
   "execution_count": null,
   "metadata": {},
   "outputs": [],
   "source": []
  }
 ],
 "metadata": {
  "kernelspec": {
   "display_name": "Python 3",
   "language": "python",
   "name": "python3"
  },
  "language_info": {
   "codemirror_mode": {
    "name": "ipython",
    "version": 3
   },
   "file_extension": ".py",
   "mimetype": "text/x-python",
   "name": "python",
   "nbconvert_exporter": "python",
   "pygments_lexer": "ipython3",
   "version": "3.8.5"
  }
 },
 "nbformat": 4,
 "nbformat_minor": 4
}
