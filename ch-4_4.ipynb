{
 "cells": [
  {
   "cell_type": "code",
   "execution_count": 22,
   "metadata": {},
   "outputs": [
    {
     "name": "stdout",
     "output_type": "stream",
     "text": [
      "found at position: -1\n",
      "found at position: 0\n",
      "found at position: 4\n",
      "total occurance: 3\n"
     ]
    }
   ],
   "source": [
    "#wap to display all position of a substring in a given string\n",
    "s=\"abcdabcioabe\"# 026  3\n",
    "sub=\"ab\"\n",
    "count=0\n",
    "temp=-1\n",
    "for i in range(0,len(s)):\n",
    "    x=s.find(sub,i,len(s))\n",
    "    if x!=temp and x>=0:\n",
    "        print(\"found at position:\",temp)\n",
    "        count+=1\n",
    "    temp=x\n",
    "print(\"total occurance:\",count)        "
   ]
  },
  {
   "cell_type": "code",
   "execution_count": 9,
   "metadata": {},
   "outputs": [
    {
     "name": "stdout",
     "output_type": "stream",
     "text": [
      "found at position: 0\n",
      "found at position: 2\n",
      "found at position: 7\n",
      "total occurance: 3\n"
     ]
    }
   ],
   "source": [
    "#wap to display all position of a substring in a given string\n",
    "s=\"ababcioabefe\"# 027  3\n",
    "sub=\"a\"\n",
    "count=0\n",
    "pos=-1\n",
    "for i in s:\n",
    "    pos+=1\n",
    "    if i==sub:\n",
    "        count+=1\n",
    "        print(\"found at position:\",pos)\n",
    "print(\"total occurance:\",count)        "
   ]
  },
  {
   "cell_type": "code",
   "execution_count": 30,
   "metadata": {},
   "outputs": [
    {
     "name": "stdout",
     "output_type": "stream",
     "text": [
      "found at position: 0\n",
      "found at position: 5\n",
      "found at position: 8\n",
      "sub found 3 times\n"
     ]
    }
   ],
   "source": [
    "s=\"abcdfabcab\"\n",
    "sub=\"ab\"\n",
    "count=0\n",
    "temp=0\n",
    "for i in range(len(s)):\n",
    "    a=s.find(sub,temp,len(s))    \n",
    "    if a==-1:\n",
    "        break\n",
    "    else:\n",
    "        count+=1\n",
    "        temp=a+1\n",
    "        print(\"found at position:\",a)\n",
    "if count==0:\n",
    "    print(\"sub not found\")\n",
    "else:\n",
    "    print(\"sub found\",str(count),\"times\")"
   ]
  },
  {
   "cell_type": "code",
   "execution_count": 32,
   "metadata": {},
   "outputs": [
    {
     "name": "stdout",
     "output_type": "stream",
     "text": [
      "found at pos: 0\n",
      "found at pos: 5\n",
      "found at pos: 8\n",
      "total occurances: 3\n"
     ]
    }
   ],
   "source": [
    "#sir\n",
    "s=\"abcdfabcab\"\n",
    "sub=\"ab\"\n",
    "flag=False\n",
    "pos=-1\n",
    "n=len(s)\n",
    "c=0\n",
    "while True:\n",
    "    pos=s.find(sub,pos+1,n)\n",
    "    if pos==-1:\n",
    "        break\n",
    "    c=c+1\n",
    "    print(\"found at pos:\",pos)\n",
    "    flag=True\n",
    "if flag==False:\n",
    "    print(\"not found\")\n",
    "print(\"total occurances:\",c)"
   ]
  },
  {
   "cell_type": "code",
   "execution_count": 37,
   "metadata": {},
   "outputs": [
    {
     "name": "stdout",
     "output_type": "stream",
     "text": [
      "BDa134\n"
     ]
    }
   ],
   "source": [
    "#wap to sort the characters of the string and first alphabet symbols followed by numerical value\n",
    "#i/o: B4A1D3\n",
    "#o/p: ABD134\n",
    "s=\"B4a1D3\"\n",
    "s1=s2=output=\"\"\n",
    "for x in s:\n",
    "    if x.isalpha():\n",
    "        s1=s1+x\n",
    "    if x.isdigit():\n",
    "        s2=s2+x\n",
    "for i in sorted(s1):\n",
    "    output+=i\n",
    "for i in sorted(s2):\n",
    "    output+=i\n",
    "print(output)"
   ]
  },
  {
   "cell_type": "code",
   "execution_count": 43,
   "metadata": {},
   "outputs": [
    {
     "name": "stdout",
     "output_type": "stream",
     "text": [
      "aaaabbbcc"
     ]
    }
   ],
   "source": [
    "#ip:a4b3c2\n",
    "#op:aaaabbbcc\n",
    "\n",
    "s=\"a4b3c2\"\n",
    "for i in range(0,len(s),2):\n",
    "    a=s[i]\n",
    "    b=int(s[i+1])\n",
    "    print(a*b,end=\"\")"
   ]
  },
  {
   "cell_type": "code",
   "execution_count": 48,
   "metadata": {},
   "outputs": [
    {
     "name": "stdout",
     "output_type": "stream",
     "text": [
      "aba\n",
      "2112\n",
      "123451\n",
      "3\n"
     ]
    }
   ],
   "source": [
    "#wap to count no.of strings where the string length is 3 or more and the \n",
    "#first and last characters are same from the given list of strings\n",
    "\n",
    "l=[\"abc\",\"xyz\",\"aba\",\"2112\",\"123451\",\"12345\"]\n",
    "count=0\n",
    "for i in l:\n",
    "    if len(i)>=3 and i[0]==i[-1]:\n",
    "        count+=1\n",
    "        print(i)\n",
    "print(count)"
   ]
  },
  {
   "cell_type": "code",
   "execution_count": null,
   "metadata": {},
   "outputs": [],
   "source": []
  }
 ],
 "metadata": {
  "kernelspec": {
   "display_name": "Python 3",
   "language": "python",
   "name": "python3"
  },
  "language_info": {
   "codemirror_mode": {
    "name": "ipython",
    "version": 3
   },
   "file_extension": ".py",
   "mimetype": "text/x-python",
   "name": "python",
   "nbconvert_exporter": "python",
   "pygments_lexer": "ipython3",
   "version": "3.8.5"
  }
 },
 "nbformat": 4,
 "nbformat_minor": 4
}
