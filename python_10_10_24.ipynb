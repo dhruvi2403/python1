{
 "cells": [
  {
   "cell_type": "code",
   "execution_count": 1,
   "metadata": {},
   "outputs": [
    {
     "name": "stdout",
     "output_type": "stream",
     "text": [
      "Enter num1:1\n",
      "Enter num2:20\n",
      "Enter num3:3\n",
      "6\n"
     ]
    }
   ],
   "source": [
    "#wap to read 3 numbers and check how many numbers available between first 2 numbers are divisible by 3rd number.\n",
    "\n",
    "a=int(input(\"Enter num1:\"))\n",
    "b=int(input(\"Enter num2:\"))\n",
    "c=int(input(\"Enter num3:\"))\n",
    "\n",
    "count=0\n",
    "for i in range(a,b):    #if we want to include the end point then we will do (a,b+1)\n",
    "    if(i%c==0):\n",
    "        count+=1\n",
    "\n",
    "print(count)"
   ]
  },
  {
   "cell_type": "code",
   "execution_count": 4,
   "metadata": {},
   "outputs": [
    {
     "name": "stdout",
     "output_type": "stream",
     "text": [
      "Enter n:10\n",
      "sum= 55\n",
      "average= 5.5\n"
     ]
    }
   ],
   "source": [
    "#wap to find sum of first n numbers also find the average of that\n",
    "\n",
    "a=int(input(\"Enter n:\"))\n",
    "sum=0\n",
    "for i in range(1,a+1):\n",
    "    sum=sum+i\n",
    "print(\"sum=\",sum)\n",
    "print(\"average=\",sum/a)"
   ]
  },
  {
   "cell_type": "code",
   "execution_count": 5,
   "metadata": {},
   "outputs": [
    {
     "name": "stdout",
     "output_type": "stream",
     "text": [
      "Enter n:6\n",
      "6 * 1 = 6\n",
      "6 * 2 = 12\n",
      "6 * 3 = 18\n",
      "6 * 4 = 24\n",
      "6 * 5 = 30\n",
      "6 * 6 = 36\n",
      "6 * 7 = 42\n",
      "6 * 8 = 48\n",
      "6 * 9 = 54\n",
      "6 * 10 = 60\n"
     ]
    }
   ],
   "source": [
    "#wap to input a number from user and print its table\n",
    "\n",
    "n=int(input(\"Enter n:\"))\n",
    "for i in range(1,11):\n",
    "    print(n,\"*\",i,\"=\",n*i)"
   ]
  },
  {
   "cell_type": "code",
   "execution_count": 30,
   "metadata": {},
   "outputs": [
    {
     "name": "stdout",
     "output_type": "stream",
     "text": [
      "Enter a:3\n",
      "Enter n:3072\n"
     ]
    }
   ],
   "source": [
    "#wap to find an integer exponent x such that a^x=n input a and n \n",
    "\n",
    "a=int(input(\"Enter a:\"))\n",
    "n=int(input(\"Enter n:\"))\n",
    "\n",
    "ans=0\n",
    "for i in range(1,n+1):\n",
    "    ans=a**i\n",
    "    if(ans==n):\n",
    "        print(i)\n",
    "        break"
   ]
  },
  {
   "cell_type": "code",
   "execution_count": 15,
   "metadata": {},
   "outputs": [
    {
     "name": "stdout",
     "output_type": "stream",
     "text": [
      "Enter a:1\n",
      "1\n"
     ]
    }
   ],
   "source": [
    "#wap to find the factorial of a given number:\n",
    "\n",
    "a=int(input(\"Enter a:\"))\n",
    "if(a<0):\n",
    "    print(\"factorial is valid for only for positive numbers\")\n",
    "elif(a==0):\n",
    "    fac=1\n",
    "else:\n",
    "    fac=1\n",
    "    for i in range (1,a+1):\n",
    "        fac=fac*i\n",
    "    \n",
    "print(fac)"
   ]
  },
  {
   "cell_type": "code",
   "execution_count": 24,
   "metadata": {},
   "outputs": [
    {
     "name": "stdout",
     "output_type": "stream",
     "text": [
      "Enter a:10\n",
      "0 1 1 2 3 5 8 13 21 34 "
     ]
    }
   ],
   "source": [
    "#wap to diaplay fibonacci sequence upto n terms\n",
    "# 0 1 1 2 3 5 8 13 21 34 \n",
    "\n",
    "a=int(input(\"Enter a:\"))\n",
    "if(a<=0):\n",
    "    pirnt(\"cant work for 0 or -ve numbers.\")\n",
    "n1=0\n",
    "n2=1\n",
    "n3=1\n",
    "fib=0\n",
    "for i in range (a):\n",
    "    print(n1,end=\" \")\n",
    "    n3=n1+n2\n",
    "    n1=n2\n",
    "    n2=n3\n",
    "    \n",
    "    \n"
   ]
  },
  {
   "cell_type": "code",
   "execution_count": 1,
   "metadata": {},
   "outputs": [
    {
     "name": "stdout",
     "output_type": "stream",
     "text": [
      "Enter number 1:1\n",
      "Enter number 2:2\n",
      "Enter number 3:4\n",
      "Enter number 4:56\n",
      "Enter number 5:9779\n",
      "Enter number 6:3\n",
      "Enter number 7:4\n",
      "Enter number 8:4\n",
      "Enter number 9:2\n",
      "Enter number 10:12\n",
      "sum= 9867\n",
      "average= 986.7\n"
     ]
    }
   ],
   "source": [
    "#wap to take 10 numbers from user and display their sum and average\n",
    "sum=0\n",
    "for i in range(1,11):\n",
    "    a=int(input(f'Enter number {i}:'))\n",
    "    sum=sum+a\n",
    "print(\"sum=\",sum)\n",
    "print(\"average=\",sum/10)"
   ]
  },
  {
   "cell_type": "code",
   "execution_count": null,
   "metadata": {},
   "outputs": [],
   "source": [
    "#wap to count total odd and even numbers and also do the sum of them \n",
    "sum=0\n",
    "o=0\n",
    "e=0\n",
    "esum=0\n",
    "osum=0\n",
    "for i in range(1,11):\n",
    "    a=int(input(f'Enter number {i}:'))\n",
    "   \n",
    "    if(a%2==0):\n",
    "        e+=1\n",
    "        esum=esum+a\n",
    "    else:\n",
    "        o+=1\n",
    "        osum=osum+a\n",
    "\n",
    "print(\"odd =\",o)\n",
    "print(\"even =\",e)\n",
    "print(\"odd sum=\",osum)\n",
    "print(\"even sum=\",esum)"
   ]
  },
  {
   "cell_type": "code",
   "execution_count": 1,
   "metadata": {},
   "outputs": [
    {
     "name": "stdout",
     "output_type": "stream",
     "text": [
      "Enter number 1:2\n",
      "Enter number 2:-1\n",
      "Enter number 3:5\n",
      "Enter number 4:-3\n",
      "Enter number 5:6\n",
      "Enter number 6:1\n",
      "Enter number 7:1\n",
      "Enter number 8:1\n",
      "Enter number 9:1\n",
      "Enter number 10:-1\n",
      "+ve = 7\n",
      "-ve = 3\n",
      "+ve sum= 17\n"
     ]
    }
   ],
   "source": [
    "#do same as above for positive and negative:\n",
    "sum=0\n",
    "p=0\n",
    "n=0\n",
    "psum=0\n",
    "#osum=0\n",
    "for i in range(1,11):\n",
    "    a=int(input(f'Enter number {i}:'))\n",
    "   \n",
    "    if(a<=0):\n",
    "        n+=1\n",
    "        continue\n",
    "    else:\n",
    "        p+=1\n",
    "        psum=psum+a\n",
    "print(\"+ve =\",p)\n",
    "print(\"-ve =\",n)\n",
    "print(\"+ve sum=\",psum)"
   ]
  },
  {
   "cell_type": "code",
   "execution_count": 5,
   "metadata": {},
   "outputs": [
    {
     "name": "stdout",
     "output_type": "stream",
     "text": [
      "Enter string:12321\n",
      "reverse number: 12321\n",
      "palindrome\n"
     ]
    }
   ],
   "source": [
    "#wap to find reverse number of the number provided by user\n",
    "\n",
    "n=int(input(\"Enter string:\"))\n",
    "temp=n\n",
    "rev_num=0\n",
    "while n!=0:\n",
    "    digit=n%10\n",
    "    rev_num=rev_num*10+digit\n",
    "    n=n//10\n",
    "print(\"reverse number:\",rev_num)\n",
    "if(rev_num==temp):\n",
    "    print(\"palindrome\")"
   ]
  },
  {
   "cell_type": "code",
   "execution_count": 10,
   "metadata": {},
   "outputs": [
    {
     "name": "stdout",
     "output_type": "stream",
     "text": [
      "Enter number:11234\n",
      "not armstrong\n"
     ]
    }
   ],
   "source": [
    "# #wap to check given number is armstrong or not:\n",
    "\n",
    "# n=int(input(\"Enter number:\"))\n",
    "# count=0\n",
    "# temp=n\n",
    "# rev_num=0\n",
    "# while n!=0:\n",
    "#     count+=1\n",
    "#     digit=n%10\n",
    "#     rev_num=rev_num*10+digit\n",
    "#     n=n//10\n",
    "# print(count)\n",
    "# print(\"reverse number:\",rev_num)\n",
    "# if(rev_num==temp):\n",
    "#     print(\"palindrome\")\n",
    "\n",
    "m=int(input(\"Enter number:\"))\n",
    "n=m\n",
    "a=m\n",
    "count=0\n",
    "sum=0\n",
    "while a>0:\n",
    "    a=a//10\n",
    "    count+=1\n",
    "while n>0:\n",
    "    c=n%10\n",
    "    sum=sum+(c**count)\n",
    "    n=n//10\n",
    "if sum==m:\n",
    "    print(\"armstrong\")\n",
    "else:\n",
    "    print(\"not armstrong\")"
   ]
  },
  {
   "cell_type": "code",
   "execution_count": 21,
   "metadata": {},
   "outputs": [
    {
     "name": "stdout",
     "output_type": "stream",
     "text": [
      "Enter number:2\n",
      "prime\n"
     ]
    }
   ],
   "source": [
    "#wap to check whether the given number is prime or not\n",
    "\n",
    "n=int(input(\"Enter number:\"))\n",
    "counter=0\n",
    "if(n<=0 or n==1):\n",
    "    print(\"non-prime\")    \n",
    "else:\n",
    "    for i in range(2,n):\n",
    "        if(n%i==0):\n",
    "            counter+=1\n",
    "\n",
    "    if counter==0:\n",
    "        print(\"prime\")\n",
    "    else:\n",
    "        print(\"non-prime\")"
   ]
  },
  {
   "cell_type": "code",
   "execution_count": 29,
   "metadata": {},
   "outputs": [
    {
     "name": "stdout",
     "output_type": "stream",
     "text": [
      "Enter start number:1\n",
      "Enter end number:100\n",
      "prime number are 1\n",
      "prime number are 2\n",
      "prime number are 3\n",
      "prime number are 5\n",
      "prime number are 7\n",
      "prime number are 11\n",
      "prime number are 13\n",
      "prime number are 17\n",
      "prime number are 19\n",
      "prime number are 23\n",
      "prime number are 29\n",
      "prime number are 31\n",
      "prime number are 37\n",
      "prime number are 41\n",
      "prime number are 43\n",
      "prime number are 47\n",
      "prime number are 53\n",
      "prime number are 59\n",
      "prime number are 61\n",
      "prime number are 67\n",
      "prime number are 71\n",
      "prime number are 73\n",
      "prime number are 79\n",
      "prime number are 83\n",
      "prime number are 89\n",
      "prime number are 97\n"
     ]
    }
   ],
   "source": [
    "#wap to check whether the given number is prime or not in the range given by te user:\n",
    "\n",
    "n1=int(input(\"Enter start number:\"))\n",
    "n2=int(input(\"Enter end number:\"))\n",
    "#counter=0\n",
    "for i in range (n1,n2+1):\n",
    "    counter=0\n",
    "    for j in range(2,i):\n",
    "        if(i%j==0):\n",
    "            counter+=1\n",
    "            break\n",
    "            \n",
    "    if counter==0:\n",
    "        print(\"prime number are\",i)\n",
    "    "
   ]
  },
  {
   "cell_type": "code",
   "execution_count": null,
   "metadata": {},
   "outputs": [],
   "source": []
  }
 ],
 "metadata": {
  "kernelspec": {
   "display_name": "Python 3",
   "language": "python",
   "name": "python3"
  },
  "language_info": {
   "codemirror_mode": {
    "name": "ipython",
    "version": 3
   },
   "file_extension": ".py",
   "mimetype": "text/x-python",
   "name": "python",
   "nbconvert_exporter": "python",
   "pygments_lexer": "ipython3",
   "version": "3.8.5"
  }
 },
 "nbformat": 4,
 "nbformat_minor": 4
}
