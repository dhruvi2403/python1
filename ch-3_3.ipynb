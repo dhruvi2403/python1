{
 "cells": [
  {
   "cell_type": "code",
   "execution_count": 2,
   "metadata": {},
   "outputs": [
    {
     "name": "stdout",
     "output_type": "stream",
     "text": [
      "Enter string:usa is awsome Usain is from Usa\n",
      "Enter the substring:usa\n",
      "3\n"
     ]
    }
   ],
   "source": [
    "#wap to find all occurances of a substirng in a given stringby ignoring the case.\n",
    "x=input(\"Enter string:\")\n",
    "y=input(\"Enter the substring:\")\n",
    "y=y.lower()\n",
    "x=x.lower()\n",
    "# for i in range(x.len()):\n",
    "t=x.count(y)\n",
    "print(t)"
   ]
  },
  {
   "cell_type": "code",
   "execution_count": 13,
   "metadata": {},
   "outputs": [
    {
     "name": "stdout",
     "output_type": "stream",
     "text": [
      "pyt##hon is very# easy##\n"
     ]
    }
   ],
   "source": [
    "#wap to replace each special symbol with # in the string:\n",
    "import string\n",
    "t=\"pyt@$hon is very$ easy!!\"\n",
    "# x=str.maketrans(\"\",\"\",string.punctuation)\n",
    "# for a,b in enumerate(t):\n",
    "    #print(b)\n",
    "for b in (string.punctuation):\n",
    "    t=t.replace(b,\"#\")\n",
    "\n",
    "print(t)\n",
    "            "
   ]
  },
  {
   "cell_type": "code",
   "execution_count": 22,
   "metadata": {},
   "outputs": [
    {
     "name": "stdout",
     "output_type": "stream",
     "text": [
      "max= 7\n",
      "min= -8\n"
     ]
    }
   ],
   "source": [
    "# write a program to print minimum and maximum element in given tuple without use of min,max,sorting\n",
    "t=1,2,3,4,5,6,7,-8\n",
    "#print(t)\n",
    "min=t[0]\n",
    "max=t[0]\n",
    "for i in range(len(t)):\n",
    "    if t[i]>max:\n",
    "        max=t[i]\n",
    "    if t[i]<min:\n",
    "        min=t[i]\n",
    "print(\"max=\",max)\n",
    "print(\"min=\",min)\n"
   ]
  },
  {
   "cell_type": "code",
   "execution_count": 25,
   "metadata": {},
   "outputs": [
    {
     "name": "stdout",
     "output_type": "stream",
     "text": [
      "Enter string:o on one onon onoon\n",
      "on\n",
      "onon\n"
     ]
    }
   ],
   "source": [
    "#wap to print even length words ina given string\n",
    "s=input(\"Enter string:\")\n",
    "s1=s.split()\n",
    "for i in s1:\n",
    "    if(len(i)%2==0):\n",
    "        print(i)"
   ]
  },
  {
   "cell_type": "code",
   "execution_count": 6,
   "metadata": {},
   "outputs": [
    {
     "name": "stdout",
     "output_type": "stream",
     "text": [
      "Enter string:today is a good day\n",
      "todaY iS A gooD daY\n"
     ]
    }
   ],
   "source": [
    "#wap to capitalise first and last letter of each word\n",
    "s1=input(\"Enter string:\")\n",
    "s1=s1.title()\n",
    "t=s1[::-1]\n",
    "t=t.title()\n",
    "t=t[::-1]\n",
    "print(t)"
   ]
  },
  {
   "cell_type": "code",
   "execution_count": 9,
   "metadata": {},
   "outputs": [
    {
     "name": "stdout",
     "output_type": "stream",
     "text": [
      "WelcomE TO LJ UniversitY\n"
     ]
    }
   ],
   "source": [
    "s=\"Welcome to lj university\"\n",
    "s=s.title()\n",
    "result=\"\"\n",
    "for word in s.split():\n",
    "    result+=word[:-1]+word[-1].upper()+\" \"\n",
    "print(result.rstrip())"
   ]
  },
  {
   "cell_type": "code",
   "execution_count": 15,
   "metadata": {},
   "outputs": [
    {
     "name": "stdout",
     "output_type": "stream",
     "text": [
      "yes balanced\n"
     ]
    }
   ],
   "source": [
    "# #wap to check if 2 strings sre balanced or not \n",
    "# --if all the characters of s1 are present in s2\n",
    "# --the character's position does not matter\n",
    "s1=\"jeetxy\"\n",
    "s2=\"jetsdxy\"\n",
    "f1=0\n",
    "for i in s1:\n",
    "    if(i in s2):\n",
    "        f1=1\n",
    "        continue\n",
    "    else:\n",
    "        f1=0\n",
    "if(f1==1):\n",
    "    print(\"yes balanced\")\n",
    "else:\n",
    "    print(\"not balanced\")"
   ]
  },
  {
   "cell_type": "code",
   "execution_count": 32,
   "metadata": {},
   "outputs": [
    {
     "name": "stdout",
     "output_type": "stream",
     "text": [
      "12345\n"
     ]
    }
   ],
   "source": [
    "#wap to shift the decimal digits n places towards the left wrapping the extra digits around.\n",
    "#if shift is greater than the number of digits, then reverse the digits\n",
    "\n",
    "x=12345\n",
    "y=5\n",
    "x=str(x)\n",
    "if y>len(x):\n",
    "    x=x[::-1]\n",
    "    print(x)\n",
    "else:\n",
    "    x1=x[y:]+x[0:y]\n",
    "    print(x1)"
   ]
  },
  {
   "cell_type": "code",
   "execution_count": 43,
   "metadata": {},
   "outputs": [
    {
     "name": "stdout",
     "output_type": "stream",
     "text": [
      "Enter password:Qwser$12s_\n",
      "valid\n"
     ]
    }
   ],
   "source": [
    "# #wap to check validity of password:\n",
    "# --min 8 characters\n",
    "# --alphabets b/w a-z\n",
    "# --atleast one alpabet in uppercase\n",
    "# --atleast 1 number b/w 0-9\n",
    "# atleast 1 character from _,@,$\n",
    "s=input(\"Enter password:\")\n",
    "l=0\n",
    "u=0\n",
    "sp=0\n",
    "d=0\n",
    "special=\"$@_\"\n",
    "if len(s)<8:\n",
    "    print(\"invalid\")\n",
    "else:\n",
    "    #if(s.find('_')!=1 or s.find())\n",
    "    for i in s:\n",
    "        if(i.isalpha()):\n",
    "            if(i.islower()):\n",
    "                l+=1\n",
    "            if(i.isupper()):\n",
    "                u+=1\n",
    "        if(i.isdigit()):\n",
    "            d+=1\n",
    "        if(i in special):\n",
    "            sp+=1\n",
    "    if(l>0 and u>0 and d>0 and sp>0 and l+u+d+sp==len(s)):\n",
    "        print(\"valid\")\n",
    "    else:\n",
    "        print(\"invalid\")"
   ]
  },
  {
   "cell_type": "code",
   "execution_count": null,
   "metadata": {},
   "outputs": [],
   "source": []
  }
 ],
 "metadata": {
  "kernelspec": {
   "display_name": "Python 3",
   "language": "python",
   "name": "python3"
  },
  "language_info": {
   "codemirror_mode": {
    "name": "ipython",
    "version": 3
   },
   "file_extension": ".py",
   "mimetype": "text/x-python",
   "name": "python",
   "nbconvert_exporter": "python",
   "pygments_lexer": "ipython3",
   "version": "3.8.5"
  }
 },
 "nbformat": 4,
 "nbformat_minor": 4
}
