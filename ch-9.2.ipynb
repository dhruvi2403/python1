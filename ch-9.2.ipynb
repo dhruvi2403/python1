{
 "cells": [
  {
   "cell_type": "markdown",
   "metadata": {},
   "source": [
    "* issubclass() : first is child of second or not\n",
    "* isinstance() : first is instance of second or not"
   ]
  },
  {
   "cell_type": "code",
   "execution_count": 3,
   "metadata": {},
   "outputs": [
    {
     "name": "stdout",
     "output_type": "stream",
     "text": [
      "True\n",
      "False\n"
     ]
    }
   ],
   "source": [
    "class parent:\n",
    "    def func1():\n",
    "        print(\"hello parent\")\n",
    "class child(parent):\n",
    "    def func2():\n",
    "        print(\"hello child\")\n",
    "print(issubclass (child,parent))\n",
    "print(issubclass(parent,child))"
   ]
  },
  {
   "cell_type": "code",
   "execution_count": 5,
   "metadata": {},
   "outputs": [
    {
     "name": "stdout",
     "output_type": "stream",
     "text": [
      "True\n",
      "True\n",
      "False\n",
      "True\n"
     ]
    }
   ],
   "source": [
    "A=child()\n",
    "B=parent()\n",
    "print(isinstance(A,child))\n",
    "print(isinstance(A,parent))\n",
    "print(isinstance(B,child))\n",
    "print(isinstance(B,parent))"
   ]
  },
  {
   "cell_type": "markdown",
   "metadata": {},
   "source": [
    "NOTE: child's instance is also parent's instance"
   ]
  },
  {
   "cell_type": "markdown",
   "metadata": {},
   "source": [
    "### MRO: (Method Resolution Order)"
   ]
  },
  {
   "cell_type": "code",
   "execution_count": 7,
   "metadata": {},
   "outputs": [
    {
     "name": "stdout",
     "output_type": "stream",
     "text": [
      "in class B\n",
      "[<class '__main__.D'>, <class '__main__.B'>, <class '__main__.C'>, <class '__main__.A'>, <class 'object'>]\n"
     ]
    }
   ],
   "source": [
    "class A:\n",
    "    def rk(self):\n",
    "        print(\"in class A\")\n",
    "class B(A):\n",
    "    def rk(self):\n",
    "        print(\"in class B\")\n",
    "class C(A):\n",
    "    def rk(self):\n",
    "        print(\"in class C\")\n",
    "class D(B,C):\n",
    "    pass\n",
    "\n",
    "r=D()\n",
    "r.rk()\n",
    "print(D.mro())"
   ]
  },
  {
   "cell_type": "code",
   "execution_count": 9,
   "metadata": {},
   "outputs": [
    {
     "name": "stdout",
     "output_type": "stream",
     "text": [
      "foo from p1\n",
      "bar from c2\n"
     ]
    },
    {
     "data": {
      "text/plain": [
       "[__main__.GC, __main__.c1, __main__.p1, __main__.c2, __main__.p2, object]"
      ]
     },
     "execution_count": 9,
     "metadata": {},
     "output_type": "execute_result"
    }
   ],
   "source": [
    "class p1:\n",
    "    def foo(self):\n",
    "        print(\"foo from p1\")\n",
    "class p2:\n",
    "    def foo(self):\n",
    "        print(\"foo from p2\")\n",
    "    def bar(self):\n",
    "        print(\"bar from p2\")\n",
    "class c1(p1):\n",
    "    pass\n",
    "class c2(p2):\n",
    "    def bar(self):\n",
    "        print(\"bar from c2\")\n",
    "class GC(c1,c2):\n",
    "    pass\n",
    "\n",
    "g=GC()\n",
    "g.foo()\n",
    "g.bar()\n",
    "\n",
    "GC.mro()"
   ]
  },
  {
   "cell_type": "code",
   "execution_count": 10,
   "metadata": {},
   "outputs": [
    {
     "name": "stdout",
     "output_type": "stream",
     "text": [
      "foo from p1\n",
      "bar from c2\n"
     ]
    },
    {
     "data": {
      "text/plain": [
       "[__main__.GC, __main__.c1, __main__.c2, __main__.p1, __main__.p2, object]"
      ]
     },
     "execution_count": 10,
     "metadata": {},
     "output_type": "execute_result"
    }
   ],
   "source": [
    "class p1:\n",
    "    def foo(self):\n",
    "        print(\"foo from p1\")\n",
    "class p2:\n",
    "    def foo(self):\n",
    "        print(\"foo from p2\")\n",
    "    def bar(self):\n",
    "        print(\"bar from p2\")\n",
    "class c1(p1,p2):\n",
    "    pass\n",
    "class c2(p1,p2):\n",
    "    def bar(self):\n",
    "        print(\"bar from c2\")\n",
    "class GC(c1,c2):\n",
    "    pass\n",
    "\n",
    "g=GC()\n",
    "g.foo()\n",
    "g.bar()\n",
    "\n",
    "GC.mro()"
   ]
  },
  {
   "cell_type": "code",
   "execution_count": 11,
   "metadata": {},
   "outputs": [
    {
     "name": "stdout",
     "output_type": "stream",
     "text": [
      "foo from p1\n",
      "bar from c2\n"
     ]
    },
    {
     "data": {
      "text/plain": [
       "[__main__.GC, __main__.c1, __main__.c2, __main__.p1, __main__.p2, object]"
      ]
     },
     "execution_count": 11,
     "metadata": {},
     "output_type": "execute_result"
    }
   ],
   "source": [
    "class p1:\n",
    "    def foo(self):\n",
    "        print(\"foo from p1\")\n",
    "class p2:\n",
    "    def foo(self):\n",
    "        print(\"foo from p2\")\n",
    "    def bar(self):\n",
    "        print(\"bar from p2\")\n",
    "class c1(p1,p2):\n",
    "    pass\n",
    "class c2(p1):\n",
    "    def bar(self):\n",
    "        print(\"bar from c2\")\n",
    "class GC(c1,c2):\n",
    "    pass\n",
    "\n",
    "g=GC()\n",
    "g.foo()\n",
    "g.bar()\n",
    "\n",
    "GC.mro()"
   ]
  },
  {
   "cell_type": "code",
   "execution_count": 12,
   "metadata": {},
   "outputs": [
    {
     "ename": "TypeError",
     "evalue": "Cannot create a consistent method resolution\norder (MRO) for bases p1, p2",
     "output_type": "error",
     "traceback": [
      "\u001b[1;31m---------------------------------------------------------------------------\u001b[0m",
      "\u001b[1;31mTypeError\u001b[0m                                 Traceback (most recent call last)",
      "\u001b[1;32m<ipython-input-12-7907cdbc9a83>\u001b[0m in \u001b[0;36m<module>\u001b[1;34m\u001b[0m\n\u001b[0;32m     12\u001b[0m     \u001b[1;32mdef\u001b[0m \u001b[0mbar\u001b[0m\u001b[1;33m(\u001b[0m\u001b[0mself\u001b[0m\u001b[1;33m)\u001b[0m\u001b[1;33m:\u001b[0m\u001b[1;33m\u001b[0m\u001b[1;33m\u001b[0m\u001b[0m\n\u001b[0;32m     13\u001b[0m         \u001b[0mprint\u001b[0m\u001b[1;33m(\u001b[0m\u001b[1;34m\"bar from c2\"\u001b[0m\u001b[1;33m)\u001b[0m\u001b[1;33m\u001b[0m\u001b[1;33m\u001b[0m\u001b[0m\n\u001b[1;32m---> 14\u001b[1;33m \u001b[1;32mclass\u001b[0m \u001b[0mGC\u001b[0m\u001b[1;33m(\u001b[0m\u001b[0mc1\u001b[0m\u001b[1;33m,\u001b[0m\u001b[0mc2\u001b[0m\u001b[1;33m)\u001b[0m\u001b[1;33m:\u001b[0m\u001b[1;33m\u001b[0m\u001b[1;33m\u001b[0m\u001b[0m\n\u001b[0m\u001b[0;32m     15\u001b[0m     \u001b[1;32mpass\u001b[0m\u001b[1;33m\u001b[0m\u001b[1;33m\u001b[0m\u001b[0m\n\u001b[0;32m     16\u001b[0m \u001b[1;33m\u001b[0m\u001b[0m\n",
      "\u001b[1;31mTypeError\u001b[0m: Cannot create a consistent method resolution\norder (MRO) for bases p1, p2"
     ]
    }
   ],
   "source": [
    "class p1:\n",
    "    def foo(self):\n",
    "        print(\"foo from p1\")\n",
    "class p2:\n",
    "    def foo(self):\n",
    "        print(\"foo from p2\")\n",
    "    def bar(self):\n",
    "        print(\"bar from p2\")\n",
    "class c1(p1,p2):\n",
    "    pass\n",
    "class c2(p2,p1):\n",
    "    def bar(self):\n",
    "        print(\"bar from c2\")\n",
    "class GC(c1,c2):\n",
    "    pass\n",
    "\n",
    "g=GC()\n",
    "g.foo()\n",
    "g.bar()\n",
    "\n",
    "GC.mro()"
   ]
  },
  {
   "cell_type": "code",
   "execution_count": 13,
   "metadata": {},
   "outputs": [
    {
     "name": "stdout",
     "output_type": "stream",
     "text": [
      "foo from p2\n",
      "bar from p2\n"
     ]
    },
    {
     "data": {
      "text/plain": [
       "[__main__.GC, __main__.c1, __main__.p2, __main__.c2, __main__.p1, object]"
      ]
     },
     "execution_count": 13,
     "metadata": {},
     "output_type": "execute_result"
    }
   ],
   "source": [
    "class p1:\n",
    "    def foo(self):\n",
    "        print(\"foo from p1\")\n",
    "class p2:\n",
    "    def foo(self):\n",
    "        print(\"foo from p2\")\n",
    "    def bar(self):\n",
    "        print(\"bar from p2\")\n",
    "class c1(p2,p1):\n",
    "    pass\n",
    "class c2(p1):\n",
    "    def bar(self):\n",
    "        print(\"bar from c2\")\n",
    "class GC(c1,c2):\n",
    "    pass\n",
    "\n",
    "g=GC()\n",
    "g.foo()\n",
    "g.bar()\n",
    "\n",
    "GC.mro()"
   ]
  },
  {
   "cell_type": "code",
   "execution_count": 15,
   "metadata": {},
   "outputs": [
    {
     "name": "stdout",
     "output_type": "stream",
     "text": [
      "[<class '__main__.Z'>, <class '__main__.K1'>, <class '__main__.C'>, <class '__main__.K3'>, <class '__main__.A'>, <class '__main__.K2'>, <class '__main__.B'>, <class '__main__.D'>, <class '__main__.E'>, <class 'object'>]\n"
     ]
    }
   ],
   "source": [
    "class A:pass\n",
    "class B:pass\n",
    "class C:pass\n",
    "class D:pass\n",
    "class E:pass\n",
    "class K1(C,A,B):pass\n",
    "class K3(A,D):pass\n",
    "class K2(B,D,E):pass\n",
    "class Z(K1,K3,K2):pass\n",
    "\n",
    "print(Z.mro())\n"
   ]
  },
  {
   "cell_type": "code",
   "execution_count": 16,
   "metadata": {},
   "outputs": [
    {
     "name": "stdout",
     "output_type": "stream",
     "text": [
      "[<class '__main__.Z'>, <class '__main__.K1'>, <class '__main__.K3'>, <class '__main__.K2'>, <class '__main__.C'>, <class '__main__.A'>, <class '__main__.B'>, <class '__main__.D'>, <class '__main__.E'>, <class 'object'>]\n"
     ]
    }
   ],
   "source": [
    "class A:pass\n",
    "class B:pass\n",
    "class C:pass\n",
    "class D:pass\n",
    "class E:pass\n",
    "class K1(C,A,B):pass\n",
    "class K3(A,D):pass\n",
    "class K2(B,D,E):pass\n",
    "class Z(K1,K3,K2,C):pass\n",
    "\n",
    "print(Z.mro())\n"
   ]
  },
  {
   "cell_type": "markdown",
   "metadata": {},
   "source": [
    "### Abstract Class:"
   ]
  },
  {
   "cell_type": "code",
   "execution_count": 17,
   "metadata": {},
   "outputs": [
    {
     "name": "stdout",
     "output_type": "stream",
     "text": [
      "drawing a circle\n"
     ]
    }
   ],
   "source": [
    "from abc import ABC,abstractmethod\n",
    "class shape(ABC): #abstarct method\n",
    "    def __init__(self,shape_name):\n",
    "        self.shape_name=shape_name\n",
    "        \n",
    "        @abstractmethod\n",
    "        def draw(self):\n",
    "            pass\n",
    "        \n",
    "class circle(shape):\n",
    "    def __init__(self):\n",
    "        super().__init__(\"circle\")\n",
    "    def draw(self):\n",
    "        print(\"drawing a circle\")\n",
    "        \n",
    "c=circle()\n",
    "c.draw()"
   ]
  },
  {
   "cell_type": "code",
   "execution_count": 23,
   "metadata": {},
   "outputs": [
    {
     "ename": "TypeError",
     "evalue": "Can't instantiate abstract class circle with abstract methods draw",
     "output_type": "error",
     "traceback": [
      "\u001b[1;31m---------------------------------------------------------------------------\u001b[0m",
      "\u001b[1;31mTypeError\u001b[0m                                 Traceback (most recent call last)",
      "\u001b[1;32m<ipython-input-23-002bb8573cd3>\u001b[0m in \u001b[0;36m<module>\u001b[1;34m\u001b[0m\n\u001b[0;32m     14\u001b[0m         \u001b[0mprint\u001b[0m\u001b[1;33m(\u001b[0m\u001b[1;34m\"drawing a circle\"\u001b[0m\u001b[1;33m)\u001b[0m\u001b[1;33m\u001b[0m\u001b[1;33m\u001b[0m\u001b[0m\n\u001b[0;32m     15\u001b[0m \u001b[1;33m\u001b[0m\u001b[0m\n\u001b[1;32m---> 16\u001b[1;33m \u001b[0mc\u001b[0m\u001b[1;33m=\u001b[0m\u001b[0mcircle\u001b[0m\u001b[1;33m(\u001b[0m\u001b[1;33m)\u001b[0m\u001b[1;33m\u001b[0m\u001b[1;33m\u001b[0m\u001b[0m\n\u001b[0m\u001b[0;32m     17\u001b[0m \u001b[0mc\u001b[0m\u001b[1;33m.\u001b[0m\u001b[0mdraw_circle\u001b[0m\u001b[1;33m(\u001b[0m\u001b[1;33m)\u001b[0m\u001b[1;33m\u001b[0m\u001b[1;33m\u001b[0m\u001b[0m\n",
      "\u001b[1;31mTypeError\u001b[0m: Can't instantiate abstract class circle with abstract methods draw"
     ]
    }
   ],
   "source": [
    "from abc import ABC,abstractmethod\n",
    "class shape(ABC): #abstarct method\n",
    "    def __init__(self,shape_name):\n",
    "        self.shape_name=shape_name\n",
    "        \n",
    "    @abstractmethod\n",
    "    def draw(self):\n",
    "        pass\n",
    "        \n",
    "class circle(shape):\n",
    "    def __init__(self):\n",
    "        super().__init__(\"circle\")\n",
    "    def draw_circle(self):\n",
    "        print(\"drawing a circle\")\n",
    "        \n",
    "c=circle()\n",
    "c.draw_circle()"
   ]
  },
  {
   "cell_type": "code",
   "execution_count": 32,
   "metadata": {},
   "outputs": [
    {
     "name": "stdout",
     "output_type": "stream",
     "text": [
      "name= abc\n",
      "salary= 12000\n"
     ]
    },
    {
     "ename": "TypeError",
     "evalue": "display() missing 3 required positional arguments: 'name', 'salary', and 'subject'",
     "output_type": "error",
     "traceback": [
      "\u001b[1;31m---------------------------------------------------------------------------\u001b[0m",
      "\u001b[1;31mTypeError\u001b[0m                                 Traceback (most recent call last)",
      "\u001b[1;32m<ipython-input-32-272a3a60690c>\u001b[0m in \u001b[0;36m<module>\u001b[1;34m\u001b[0m\n\u001b[0;32m     27\u001b[0m \u001b[0mnt\u001b[0m\u001b[1;33m=\u001b[0m\u001b[0mnon_teaching\u001b[0m\u001b[1;33m(\u001b[0m\u001b[1;34m\"ert\"\u001b[0m\u001b[1;33m,\u001b[0m\u001b[1;36m15000\u001b[0m\u001b[1;33m,\u001b[0m\u001b[1;34m\"dept\"\u001b[0m\u001b[1;33m)\u001b[0m\u001b[1;33m\u001b[0m\u001b[1;33m\u001b[0m\u001b[0m\n\u001b[0;32m     28\u001b[0m \u001b[0ms1\u001b[0m\u001b[1;33m.\u001b[0m\u001b[0mdisplay\u001b[0m\u001b[1;33m(\u001b[0m\u001b[1;33m)\u001b[0m\u001b[1;33m\u001b[0m\u001b[1;33m\u001b[0m\u001b[0m\n\u001b[1;32m---> 29\u001b[1;33m \u001b[0mt1\u001b[0m\u001b[1;33m.\u001b[0m\u001b[0mdisplay\u001b[0m\u001b[1;33m(\u001b[0m\u001b[1;33m)\u001b[0m\u001b[1;33m\u001b[0m\u001b[1;33m\u001b[0m\u001b[0m\n\u001b[0m\u001b[0;32m     30\u001b[0m \u001b[0mnt\u001b[0m\u001b[1;33m.\u001b[0m\u001b[0mdisplay\u001b[0m\u001b[1;33m(\u001b[0m\u001b[1;33m)\u001b[0m\u001b[1;33m\u001b[0m\u001b[1;33m\u001b[0m\u001b[0m\n",
      "\u001b[1;31mTypeError\u001b[0m: display() missing 3 required positional arguments: 'name', 'salary', and 'subject'"
     ]
    }
   ],
   "source": [
    "from abc import ABC,abstractmethod\n",
    "class staff():\n",
    "    def __init__(self,name,salary):\n",
    "        self.name=name\n",
    "        self.salary=salary\n",
    "    def display(self):\n",
    "        print(\"name=\",self.name)\n",
    "        print(\"salary=\",self.salary)\n",
    "        \n",
    "class teaching(staff):\n",
    "    def __init__(self,name,salary,subject):\n",
    "        super().__init__(name,salary)\n",
    "        self.subject=subject\n",
    "    def display(self,name,salary,subject):\n",
    "        print(\"subject=\",self.subject)\n",
    "        super.display()\n",
    "        \n",
    "class non_teaching(staff):\n",
    "    def __init__(self,name,salary,dept):\n",
    "        super().__init__(name,salary)\n",
    "        self.dept=dept\n",
    "    def display():\n",
    "        print(\"dept=\",self.dept)\n",
    "        super.display()\n",
    "s1=staff(\"abc\",12000)\n",
    "t1=teaching(\"def\",15000,\"python\")\n",
    "nt=non_teaching(\"ert\",15000,\"dept\")\n",
    "s1.display()\n",
    "t1.display()\n",
    "nt.display()"
   ]
  },
  {
   "cell_type": "code",
   "execution_count": 33,
   "metadata": {},
   "outputs": [],
   "source": [
    "#create a class called student having name and email as data members and put data as bound methods the init \n",
    "# function should assign the value passed as parameter to the variables and the put data function should display \n",
    "# the data of the student. Create another class called phd_guide having name,email and student as its data members \n",
    "# here the student variable is the list of students under the guide.The phd_guide should have 4 bound methods, init, putdata\n",
    "# add and remove.The init method initialises the variables put_data should show the data of the guide including the list of \n",
    "# the students, the dd method should add a student to the list of students of the guide and the remove function should \n",
    "# remove students from the list of the students"
   ]
  },
  {
   "cell_type": "code",
   "execution_count": 41,
   "metadata": {},
   "outputs": [
    {
     "name": "stdout",
     "output_type": "stream",
     "text": [
      "name= abc\n",
      "email= def\n",
      "[]\n",
      "name= xyz\n",
      "email= wxy\n",
      "['duifgiviklhg']\n",
      "name= xyz\n",
      "email= wxy\n"
     ]
    }
   ],
   "source": [
    "class person():\n",
    "    def __init__(self,name,email):\n",
    "        self.name=name\n",
    "        self.email=email\n",
    "    def put_data(self):\n",
    "        print(\"name=\",self.name)\n",
    "        print(\"email=\",self.email)\n",
    "class student(person):\n",
    "    def __init__(self,name,email):\n",
    "        super().__init__(name,email)\n",
    "class phd_guide(person):\n",
    "    def __init__(self,name,email):\n",
    "        super().__init__(name,email)\n",
    "        self.student_list=[]\n",
    "    def add(self,strg):\n",
    "        self.student_list.append(strg)\n",
    "    def put_data(self):\n",
    "        print(self.student_list)\n",
    "        super().put_data()\n",
    "    def remove(self,strb):\n",
    "        if strg in student_list:\n",
    "            self.student_list.remove(strg)\n",
    "        else:\n",
    "            print(\"No such student found\")\n",
    "            \n",
    "s1=student(\"abc\",\"def\")\n",
    "s1.put_data()\n",
    "\n",
    "p1=phd_guide(\"xyz\",\"wxy\")\n",
    "p1.put_data()\n",
    "p1.add(\"duifgiviklhg\")\n",
    "p1.put_data()"
   ]
  },
  {
   "cell_type": "code",
   "execution_count": 50,
   "metadata": {},
   "outputs": [
    {
     "name": "stdout",
     "output_type": "stream",
     "text": [
      "rollno= 1\n",
      "name= a\n",
      "age= 18\n",
      "tm= 98\n",
      "rollno= 2\n",
      "name= b\n",
      "age= 19\n",
      "tm= 76\n",
      "no match found\n",
      "None\n",
      "rollno= 1\n",
      "name= a\n",
      "age= 18\n",
      "tm= 98\n",
      "-----\n",
      "rollno= 3\n",
      "name= c\n",
      "age= 19\n",
      "tm= 98\n",
      "None\n"
     ]
    }
   ],
   "source": [
    "#create a class student with following member attributes rollno name age and total marks create suitable methods \n",
    "# for reading and printing member variables , write a program to overload == operator to print the details of \n",
    "# students having same marks\n",
    "\n",
    "class student():\n",
    "    def __init__(self,rollno,name,age,tm):\n",
    "        self.rollno=rollno\n",
    "        self.name=name\n",
    "        self.age=age\n",
    "        self.tm=tm\n",
    "    def __eq__(self,other):\n",
    "        if self.tm==other.tm:\n",
    "            self.display()\n",
    "            print(\"-----\")\n",
    "            other.display()\n",
    "        else:\n",
    "            print(\"no match found\")\n",
    "    def display(self):\n",
    "        print(\"rollno=\",self.rollno)\n",
    "        print(\"name=\",self.name)\n",
    "        print(\"age=\",self.age)\n",
    "        print(\"tm=\",self.tm)\n",
    "        \n",
    "s1=student(1,\"a\",18,98)\n",
    "s2=student(2,\"b\",19,76)\n",
    "s3=student(3,\"c\",19,98)\n",
    "s1.display()\n",
    "s2.display()\n",
    "print(s1==s2)\n",
    "print(s1==s3)"
   ]
  },
  {
   "cell_type": "code",
   "execution_count": null,
   "metadata": {},
   "outputs": [],
   "source": []
  }
 ],
 "metadata": {
  "kernelspec": {
   "display_name": "Python 3",
   "language": "python",
   "name": "python3"
  },
  "language_info": {
   "codemirror_mode": {
    "name": "ipython",
    "version": 3
   },
   "file_extension": ".py",
   "mimetype": "text/x-python",
   "name": "python",
   "nbconvert_exporter": "python",
   "pygments_lexer": "ipython3",
   "version": "3.8.5"
  }
 },
 "nbformat": 4,
 "nbformat_minor": 4
}
