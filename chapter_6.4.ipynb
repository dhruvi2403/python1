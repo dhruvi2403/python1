{
 "cells": [
  {
   "cell_type": "code",
   "execution_count": 22,
   "metadata": {},
   "outputs": [],
   "source": [
    "f1=open(\"file1.txt\",\"r\")\n",
    "f2=open(\"file2.txt\",\"r\")\n",
    "f3=open(\"file3.txt\",\"w\")\n",
    "l1=f1.readlines()\n",
    "l2=f2.readlines()\n",
    "len1=len(l1)\n",
    "len2=len(l2)\n",
    "# print(len1,\" \", len2)\n",
    "a=min(len1,len2)\n",
    "b=max(len1,len2)\n",
    "\n",
    "for i in range(0,a):\n",
    "    f3.write(l1[i])\n",
    "    f3.write(l2[i])\n",
    "# f3.write(str(l2[a::]))\n",
    "for i in range(0,b):\n",
    "    if len1==b:\n",
    "        \n",
    "f1.close()\n",
    "f2.close()\n",
    "f3.close()\n",
    "\n",
    "# file1.txt:\n",
    "# f1 line1\n",
    "# f1 line2\n",
    "# f1 line3\n",
    "# f1 line4\n",
    "# f1 line5\n",
    "# f1 line6\n",
    "\n",
    "#file2.txt:\n",
    "# f2 line1\n",
    "# f2 line2\n",
    "# f2 line3\n",
    "# f2 line4\n",
    "# f2 line5\n",
    "# f2 line6\n",
    "# f2 line7\n",
    "# f2 line8\n",
    "# f2 line9\n",
    "\n",
    "#file3.txt:\n"
   ]
  },
  {
   "cell_type": "code",
   "execution_count": 28,
   "metadata": {},
   "outputs": [
    {
     "name": "stdout",
     "output_type": "stream",
     "text": [
      "max length: rbgeruigeigbetuogbeguoetbvitjhbguothgeroig\n"
     ]
    }
   ],
   "source": [
    "#wap to find the longest word in the text file\n",
    "f1=open(\"file4.txt\",\"r\")\n",
    "l1=f1.readlines()\n",
    "max=\"\"\n",
    "for i in l1:\n",
    "    m=i.split()\n",
    "    for j in m:\n",
    "        if len(j)>len(max):\n",
    "            max=j\n",
    "        \n",
    "print(\"max length:\",max)"
   ]
  },
  {
   "cell_type": "code",
   "execution_count": null,
   "metadata": {},
   "outputs": [],
   "source": []
  }
 ],
 "metadata": {
  "kernelspec": {
   "display_name": "Python 3",
   "language": "python",
   "name": "python3"
  },
  "language_info": {
   "codemirror_mode": {
    "name": "ipython",
    "version": 3
   },
   "file_extension": ".py",
   "mimetype": "text/x-python",
   "name": "python",
   "nbconvert_exporter": "python",
   "pygments_lexer": "ipython3",
   "version": "3.8.5"
  }
 },
 "nbformat": 4,
 "nbformat_minor": 4
}
