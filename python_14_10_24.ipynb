{
 "cells": [
  {
   "cell_type": "code",
   "execution_count": 5,
   "metadata": {},
   "outputs": [
    {
     "ename": "IndentationError",
     "evalue": "unindent does not match any outer indentation level (<tokenize>, line 8)",
     "output_type": "error",
     "traceback": [
      "\u001b[1;36m  File \u001b[1;32m\"<tokenize>\"\u001b[1;36m, line \u001b[1;32m8\u001b[0m\n\u001b[1;33m    while n>0:\u001b[0m\n\u001b[1;37m    ^\u001b[0m\n\u001b[1;31mIndentationError\u001b[0m\u001b[1;31m:\u001b[0m unindent does not match any outer indentation level\n"
     ]
    }
   ],
   "source": [
    "#wap to check the enterd number is happy number or not\n",
    "\n",
    "x=int(input(\"Enter number:\"))\n",
    "n=x\n",
    "sum=0\n",
    "while sum!=1 and sum!=4:\n",
    "     sum=0\n",
    "    while n>0:\n",
    "       \n",
    "    #print(\"hi\")\n",
    "        b=n%10\n",
    "        \n",
    "        sum=sum+b**2\n",
    "        n=n//10\n",
    "    n=sum\n",
    "if sum==1:\n",
    "    print(\"happy number\")\n",
    "else:\n",
    "    print(\"non-happy numbers\")\n",
    "    \n"
   ]
  },
  {
   "cell_type": "code",
   "execution_count": 1,
   "metadata": {},
   "outputs": [
    {
     "name": "stdout",
     "output_type": "stream",
     "text": [
      "no:13\n",
      "happy\n"
     ]
    }
   ],
   "source": [
    "i =int(input(\"no:\"))\n",
    "\n",
    "temp=i\n",
    "while i!=1 and i!=4:\n",
    "    sum=0\n",
    "    for j in str(i):\n",
    "        sum+=int(j)**2\n",
    "    i=sum\n",
    "if i==1:\n",
    "    print(\"happy\")\n",
    "else:\n",
    "    print(\"not happy\")"
   ]
  },
  {
   "cell_type": "code",
   "execution_count": 14,
   "metadata": {},
   "outputs": [
    {
     "name": "stdout",
     "output_type": "stream",
     "text": [
      "no:6\n",
      "* \n",
      "* * \n",
      "* * * \n",
      "* * * * \n",
      "* * * * * \n",
      "* * * * * * \n"
     ]
    }
   ],
   "source": [
    "# #print the pattern\n",
    "# *\n",
    "# **\n",
    "# ***\n",
    "# ****\n",
    "n=int(input(\"no:\"))\n",
    "for i in range(n):\n",
    "    for j in range(i+1):\n",
    "        print(\"*\",end=\" \")\n",
    "    print()\n",
    "            "
   ]
  },
  {
   "cell_type": "code",
   "execution_count": 16,
   "metadata": {},
   "outputs": [
    {
     "name": "stdout",
     "output_type": "stream",
     "text": [
      "no:6\n",
      "1 \n",
      "2 2 \n",
      "3 3 3 \n",
      "4 4 4 4 \n",
      "5 5 5 5 5 \n",
      "6 6 6 6 6 6 \n"
     ]
    }
   ],
   "source": [
    "# #print the pattern\n",
    "# 1\n",
    "# 22\n",
    "# 333\n",
    "# 4444\n",
    "\n",
    "n=int(input(\"no:\"))\n",
    "for i in range(1,n+1):\n",
    "    for j in range(1,i+1):\n",
    "        print(i,end=\" \")\n",
    "        \n",
    "    print()"
   ]
  },
  {
   "cell_type": "code",
   "execution_count": 17,
   "metadata": {},
   "outputs": [
    {
     "name": "stdout",
     "output_type": "stream",
     "text": [
      "no:7\n",
      "1 \n",
      "1 2 \n",
      "1 2 3 \n",
      "1 2 3 4 \n",
      "1 2 3 4 5 \n",
      "1 2 3 4 5 6 \n",
      "1 2 3 4 5 6 7 \n"
     ]
    }
   ],
   "source": [
    "n=int(input(\"no:\"))\n",
    "for i in range(1,n+1):\n",
    "    for j in range(1,i+1):\n",
    "        print(j,end=\" \")\n",
    "        \n",
    "    print()"
   ]
  },
  {
   "cell_type": "code",
   "execution_count": 18,
   "metadata": {},
   "outputs": [
    {
     "name": "stdout",
     "output_type": "stream",
     "text": [
      "A\n"
     ]
    }
   ],
   "source": [
    "k=65\n",
    "print(chr(k))"
   ]
  },
  {
   "cell_type": "code",
   "execution_count": 20,
   "metadata": {},
   "outputs": [
    {
     "data": {
      "text/plain": [
       "65"
      ]
     },
     "execution_count": 20,
     "metadata": {},
     "output_type": "execute_result"
    }
   ],
   "source": [
    "ord('A')"
   ]
  },
  {
   "cell_type": "code",
   "execution_count": 21,
   "metadata": {},
   "outputs": [
    {
     "name": "stdout",
     "output_type": "stream",
     "text": [
      "Enter no:6\n",
      "a \n",
      "b c \n",
      "d e f \n",
      "g h i j \n",
      "k l m n o \n",
      "p q r s t u \n"
     ]
    }
   ],
   "source": [
    "\n",
    "n=int(input(\"Enter no:\"))\n",
    "k=97\n",
    "for i in range(1,n+1):\n",
    "    for j in range(1,i+1):\n",
    "        print(chr(k),end=\" \")\n",
    "        k+=1\n",
    "    print()"
   ]
  },
  {
   "cell_type": "code",
   "execution_count": 22,
   "metadata": {},
   "outputs": [
    {
     "name": "stdout",
     "output_type": "stream",
     "text": [
      "Enter no:5\n",
      "A \n",
      "A B \n",
      "A B C \n",
      "A B C D \n",
      "A B C D E \n"
     ]
    }
   ],
   "source": [
    "n=int(input(\"Enter no:\"))\n",
    "\n",
    "for i in range(1,n+1):\n",
    "    k=65\n",
    "    for j in range(1,i+1):\n",
    "        print(chr(k),end=\" \")\n",
    "        k+=1\n",
    "    print()"
   ]
  },
  {
   "cell_type": "code",
   "execution_count": 36,
   "metadata": {},
   "outputs": [
    {
     "name": "stdout",
     "output_type": "stream",
     "text": [
      "Enter rows:8\n",
      "********\n",
      "*******\n",
      "******\n",
      "*****\n",
      "****\n",
      "***\n",
      "**\n",
      "*\n"
     ]
    }
   ],
   "source": [
    "n=int(input(\"Enter rows:\"))\n",
    "for i in range(1,n+1):\n",
    "    for j in range(1,n+2-i) :\n",
    "        print(\"*\",end=\"\")\n",
    "    print()\n",
    "    \n",
    "#for i in range(n+1,1,-1):\n",
    "#    for j in range(1,i) :"
   ]
  },
  {
   "cell_type": "code",
   "execution_count": 30,
   "metadata": {},
   "outputs": [
    {
     "name": "stdout",
     "output_type": "stream",
     "text": [
      "Enter rows:6\n",
      "111111\n",
      "22222\n",
      "3333\n",
      "444\n",
      "55\n",
      "6\n"
     ]
    }
   ],
   "source": [
    "n=int(input(\"Enter rows:\"))\n",
    "for i in range(1,n+1):\n",
    "    for j in range(1,n+2-i) :\n",
    "        print(i,end=\"\")\n",
    "    print()"
   ]
  },
  {
   "cell_type": "code",
   "execution_count": 31,
   "metadata": {},
   "outputs": [
    {
     "name": "stdout",
     "output_type": "stream",
     "text": [
      "Enter rows:5\n",
      "12345\n",
      "1234\n",
      "123\n",
      "12\n",
      "1\n"
     ]
    }
   ],
   "source": [
    "n=int(input(\"Enter rows:\"))\n",
    "for i in range(1,n+1):\n",
    "    for j in range(1,n+2-i) :\n",
    "        print(j,end=\"\")\n",
    "    print()"
   ]
  },
  {
   "cell_type": "code",
   "execution_count": 38,
   "metadata": {},
   "outputs": [
    {
     "name": "stdout",
     "output_type": "stream",
     "text": [
      "no:6\n",
      "* \n",
      "# # \n",
      "* * * \n",
      "# # # # \n",
      "* * * * * \n",
      "# # # # # # \n"
     ]
    }
   ],
   "source": [
    "n=int(input(\"no:\"))\n",
    "for i in range(n):\n",
    "    for j in range(i+1):\n",
    "        if i%2==0:\n",
    "            print(\"*\",end=\" \")\n",
    "        else:\n",
    "            print(\"#\",end=\" \")\n",
    "    print()\n",
    "            "
   ]
  },
  {
   "cell_type": "code",
   "execution_count": 43,
   "metadata": {},
   "outputs": [
    {
     "name": "stdout",
     "output_type": "stream",
     "text": [
      "Enter no:6\n",
      "1 \n",
      "0 1 \n",
      "1 0 1 \n",
      "0 1 0 1 \n",
      "1 0 1 0 1 \n",
      "0 1 0 1 0 1 \n"
     ]
    }
   ],
   "source": [
    "n=int(input(\"Enter no:\"))\n",
    "for i in range(n):\n",
    "    for j in range(i+1):\n",
    "        if (i+j)%2==0:\n",
    "            print(\"1\",end=\" \")\n",
    "        else:\n",
    "            print(\"0\",end=\" \")\n",
    "    print()\n",
    "            "
   ]
  },
  {
   "cell_type": "code",
   "execution_count": 54,
   "metadata": {},
   "outputs": [
    {
     "name": "stdout",
     "output_type": "stream",
     "text": [
      "Enter no:6\n",
      "  * * * * * * \n",
      "    * * * * * \n",
      "      * * * * \n",
      "        * * * \n",
      "          * * \n",
      "            * \n"
     ]
    }
   ],
   "source": [
    "n=int(input(\"Enter no:\"))\n",
    "for i in range (1,n+1):\n",
    "    for j in range(1,i+1):\n",
    "        print(\" \",end=\" \")\n",
    "    for k in range(1,n+2-i):\n",
    "        print(\"*\",end=\" \")\n",
    "    print()"
   ]
  },
  {
   "cell_type": "code",
   "execution_count": 53,
   "metadata": {},
   "outputs": [
    {
     "name": "stdout",
     "output_type": "stream",
     "text": [
      "Enter no:6\n",
      " * * * * * * \n",
      "  * * * * * \n",
      "   * * * * \n",
      "    * * * \n",
      "     * * \n",
      "      * \n"
     ]
    }
   ],
   "source": [
    "n=int(input(\"Enter no:\"))\n",
    "for i in range (1,n+1):\n",
    "    for j in range(1,i+1):\n",
    "        print(\"\",end=\" \")\n",
    "    for k in range(1,n+2-i):\n",
    "        print(\"*\",end=\" \")\n",
    "    print()"
   ]
  },
  {
   "cell_type": "code",
   "execution_count": 55,
   "metadata": {},
   "outputs": [
    {
     "name": "stdout",
     "output_type": "stream",
     "text": [
      "Enter no:5\n",
      "     * * * * * \n",
      "    * * * * * \n",
      "   * * * * * \n",
      "  * * * * * \n",
      " * * * * * \n"
     ]
    }
   ],
   "source": [
    "n=int(input(\"Enter no:\"))\n",
    "for i in range (n,0,-1):\n",
    "    for j in range(1,i+1):\n",
    "        print(\"\",end=\" \")\n",
    "    for k in range(1,n+1):\n",
    "        print(\"*\",end=\" \")\n",
    "    print()"
   ]
  },
  {
   "cell_type": "code",
   "execution_count": 57,
   "metadata": {},
   "outputs": [
    {
     "name": "stdout",
     "output_type": "stream",
     "text": [
      "Enter no:6\n",
      "      * \n",
      "     * * \n",
      "    * * * \n",
      "   * * * * \n",
      "  * * * * * \n",
      " * * * * * * \n"
     ]
    }
   ],
   "source": [
    "n=int(input(\"Enter no:\"))\n",
    "for i in range (1,n+1):\n",
    "    for j in range(1,n+2-i):\n",
    "        print(\" \",end=\"\")\n",
    "    for k in range(1,i+1):\n",
    "        print(\"*\",end=\" \")\n",
    "    print()"
   ]
  },
  {
   "cell_type": "code",
   "execution_count": null,
   "metadata": {},
   "outputs": [],
   "source": [
    "n=int(input(\"Enter no:\"))\n",
    "for i in range (1,n+1):\n",
    "    for j in range(1,n+2-i):\n",
    "        print(\" \",end=\"\")\n",
    "    for k in range(1,i+1):\n",
    "        if(i%2==0):\n",
    "            \n",
    "        print(\"*\",end=\" \")\n",
    "    print()"
   ]
  },
  {
   "cell_type": "code",
   "execution_count": 58,
   "metadata": {},
   "outputs": [],
   "source": [
    "# 1\n",
    "# ab\n",
    "# 123\n",
    "# abcd\n",
    "#in upright pyramid"
   ]
  },
  {
   "cell_type": "markdown",
   "metadata": {},
   "source": [
    "# Functions:"
   ]
  },
  {
   "cell_type": "markdown",
   "metadata": {},
   "source": [
    "#### def() function_name(parameter):\n",
    "    body of function\n",
    "    \n",
    "    return value"
   ]
  },
  {
   "cell_type": "code",
   "execution_count": 59,
   "metadata": {},
   "outputs": [
    {
     "name": "stdout",
     "output_type": "stream",
     "text": [
      "hello abcd good morning\n"
     ]
    }
   ],
   "source": [
    "def wish(name):\n",
    "    print(\"hello\",name,\"good morning\")\n",
    "    \n",
    "wish(\"abcd\")"
   ]
  },
  {
   "cell_type": "code",
   "execution_count": 60,
   "metadata": {},
   "outputs": [
    {
     "ename": "TypeError",
     "evalue": "wish() missing 1 required positional argument: 'name'",
     "output_type": "error",
     "traceback": [
      "\u001b[1;31m---------------------------------------------------------------------------\u001b[0m",
      "\u001b[1;31mTypeError\u001b[0m                                 Traceback (most recent call last)",
      "\u001b[1;32m<ipython-input-60-d911beb01b75>\u001b[0m in \u001b[0;36m<module>\u001b[1;34m\u001b[0m\n\u001b[0;32m      2\u001b[0m     \u001b[0mprint\u001b[0m\u001b[1;33m(\u001b[0m\u001b[1;34m\"hello\"\u001b[0m\u001b[1;33m,\u001b[0m\u001b[0mname\u001b[0m\u001b[1;33m,\u001b[0m\u001b[1;34m\"good morning\"\u001b[0m\u001b[1;33m)\u001b[0m\u001b[1;33m\u001b[0m\u001b[1;33m\u001b[0m\u001b[0m\n\u001b[0;32m      3\u001b[0m \u001b[1;33m\u001b[0m\u001b[0m\n\u001b[1;32m----> 4\u001b[1;33m \u001b[0mwish\u001b[0m\u001b[1;33m(\u001b[0m\u001b[1;33m)\u001b[0m\u001b[1;33m\u001b[0m\u001b[1;33m\u001b[0m\u001b[0m\n\u001b[0m",
      "\u001b[1;31mTypeError\u001b[0m: wish() missing 1 required positional argument: 'name'"
     ]
    }
   ],
   "source": [
    "def wish(name):\n",
    "    print(\"hello\",name,\"good morning\")\n",
    "    \n",
    "wish()"
   ]
  },
  {
   "cell_type": "code",
   "execution_count": 61,
   "metadata": {},
   "outputs": [
    {
     "name": "stdout",
     "output_type": "stream",
     "text": [
      "hello abcd good morning\n",
      "hello xyz good morning\n"
     ]
    }
   ],
   "source": [
    "def wish(name):\n",
    "    print(\"hello\",name,\"good morning\")\n",
    "    \n",
    "wish(\"abcd\")\n",
    "wish(\"xyz\")"
   ]
  },
  {
   "cell_type": "code",
   "execution_count": 62,
   "metadata": {},
   "outputs": [
    {
     "name": "stdout",
     "output_type": "stream",
     "text": [
      "Enter name:arman\n",
      "hello arman good morning\n"
     ]
    }
   ],
   "source": [
    "def wish():\n",
    "    name=input(\"Enter name:\")\n",
    "    print(\"hello\",name,\"good morning\")\n",
    "    \n",
    "# wish(\"abcd\")\n",
    "# wish(\"xyz\")\n",
    "wish()"
   ]
  },
  {
   "cell_type": "code",
   "execution_count": 63,
   "metadata": {},
   "outputs": [
    {
     "ename": "TypeError",
     "evalue": "wish() takes 0 positional arguments but 1 was given",
     "output_type": "error",
     "traceback": [
      "\u001b[1;31m---------------------------------------------------------------------------\u001b[0m",
      "\u001b[1;31mTypeError\u001b[0m                                 Traceback (most recent call last)",
      "\u001b[1;32m<ipython-input-63-4a603bd4ce60>\u001b[0m in \u001b[0;36m<module>\u001b[1;34m\u001b[0m\n\u001b[0;32m      3\u001b[0m     \u001b[0mprint\u001b[0m\u001b[1;33m(\u001b[0m\u001b[1;34m\"hello\"\u001b[0m\u001b[1;33m,\u001b[0m\u001b[0mname\u001b[0m\u001b[1;33m,\u001b[0m\u001b[1;34m\"good morning\"\u001b[0m\u001b[1;33m)\u001b[0m\u001b[1;33m\u001b[0m\u001b[1;33m\u001b[0m\u001b[0m\n\u001b[0;32m      4\u001b[0m \u001b[1;33m\u001b[0m\u001b[0m\n\u001b[1;32m----> 5\u001b[1;33m \u001b[0mwish\u001b[0m\u001b[1;33m(\u001b[0m\u001b[1;34m\"xyz\"\u001b[0m\u001b[1;33m)\u001b[0m\u001b[1;33m\u001b[0m\u001b[1;33m\u001b[0m\u001b[0m\n\u001b[0m\u001b[0;32m      6\u001b[0m \u001b[0mwish\u001b[0m\u001b[1;33m(\u001b[0m\u001b[1;33m)\u001b[0m\u001b[1;33m\u001b[0m\u001b[1;33m\u001b[0m\u001b[0m\n",
      "\u001b[1;31mTypeError\u001b[0m: wish() takes 0 positional arguments but 1 was given"
     ]
    }
   ],
   "source": [
    "def wish():\n",
    "    name=input(\"Enter name:\")\n",
    "    print(\"hello\",name,\"good morning\")\n",
    "    \n",
    "wish(\"xyz\")\n",
    "wish()"
   ]
  },
  {
   "cell_type": "markdown",
   "metadata": {},
   "source": [
    "#### categories of UDF:"
   ]
  },
  {
   "cell_type": "markdown",
   "metadata": {},
   "source": [
    "1. function with no parameter and no return type"
   ]
  },
  {
   "cell_type": "code",
   "execution_count": 64,
   "metadata": {},
   "outputs": [
    {
     "name": "stdout",
     "output_type": "stream",
     "text": [
      "Enter name:hii\n",
      "hii\n"
     ]
    }
   ],
   "source": [
    "def printline():\n",
    "    s=input(\"Enter name:\")\n",
    "    print(s)\n",
    "    \n",
    "printline()"
   ]
  },
  {
   "cell_type": "markdown",
   "metadata": {},
   "source": [
    "2. function with parameters and no return type"
   ]
  },
  {
   "cell_type": "code",
   "execution_count": 65,
   "metadata": {},
   "outputs": [
    {
     "name": "stdout",
     "output_type": "stream",
     "text": [
      "Enter name:hello\n",
      "hello\n"
     ]
    }
   ],
   "source": [
    "def printline(s):\n",
    "    print(s)\n",
    "\n",
    "x=input(\"Enter name:\")\n",
    "printline(x)"
   ]
  },
  {
   "cell_type": "markdown",
   "metadata": {},
   "source": [
    "3.function with parameter and with return type"
   ]
  },
  {
   "cell_type": "code",
   "execution_count": 67,
   "metadata": {},
   "outputs": [
    {
     "name": "stdout",
     "output_type": "stream",
     "text": [
      "Enter name:dhruvi\n",
      "dhruvi\n"
     ]
    }
   ],
   "source": [
    "def printline(s):\n",
    "    return s\n",
    "\n",
    "x=input(\"Enter name:\")\n",
    "t=printline(x)\n",
    "print(t)"
   ]
  },
  {
   "cell_type": "markdown",
   "metadata": {},
   "source": [
    "4. function with no parameter and with return type"
   ]
  },
  {
   "cell_type": "code",
   "execution_count": 68,
   "metadata": {},
   "outputs": [
    {
     "name": "stdout",
     "output_type": "stream",
     "text": [
      "Enter name:hello\n",
      "hello\n"
     ]
    }
   ],
   "source": [
    "def printline():\n",
    "    s=input(\"Enter name:\")\n",
    "    return s\n",
    "\n",
    "t=printline()\n",
    "print(t)"
   ]
  },
  {
   "cell_type": "code",
   "execution_count": 69,
   "metadata": {},
   "outputs": [],
   "source": [
    "#########################"
   ]
  },
  {
   "cell_type": "code",
   "execution_count": 70,
   "metadata": {},
   "outputs": [
    {
     "ename": "NameError",
     "evalue": "name 'a' is not defined",
     "output_type": "error",
     "traceback": [
      "\u001b[1;31m---------------------------------------------------------------------------\u001b[0m",
      "\u001b[1;31mNameError\u001b[0m                                 Traceback (most recent call last)",
      "\u001b[1;32m<ipython-input-70-8b8a5faf1195>\u001b[0m in \u001b[0;36m<module>\u001b[1;34m\u001b[0m\n\u001b[0;32m      2\u001b[0m     \u001b[1;32mreturn\u001b[0m \u001b[0mint\u001b[0m\u001b[1;33m(\u001b[0m\u001b[0mj\u001b[0m\u001b[1;33m)\u001b[0m\u001b[1;33m\u001b[0m\u001b[1;33m\u001b[0m\u001b[0m\n\u001b[0;32m      3\u001b[0m \u001b[1;33m\u001b[0m\u001b[0m\n\u001b[1;32m----> 4\u001b[1;33m \u001b[0mfunt\u001b[0m\u001b[1;33m(\u001b[0m\u001b[0ma\u001b[0m\u001b[1;33m)\u001b[0m\u001b[1;33m\u001b[0m\u001b[1;33m\u001b[0m\u001b[0m\n\u001b[0m",
      "\u001b[1;31mNameError\u001b[0m: name 'a' is not defined"
     ]
    }
   ],
   "source": [
    "def funt():\n",
    "    return int(j)\n",
    "\n",
    "funt(a)"
   ]
  },
  {
   "cell_type": "code",
   "execution_count": 75,
   "metadata": {},
   "outputs": [
    {
     "data": {
      "text/plain": [
       "97"
      ]
     },
     "execution_count": 75,
     "metadata": {},
     "output_type": "execute_result"
    }
   ],
   "source": [
    "def funt(j):\n",
    "    return int(j)\n",
    "\n",
    "funt (ord(\"a\"))"
   ]
  },
  {
   "cell_type": "code",
   "execution_count": 76,
   "metadata": {},
   "outputs": [
    {
     "name": "stdout",
     "output_type": "stream",
     "text": [
      "(30, 10, 200, 2.0)\n"
     ]
    }
   ],
   "source": [
    "def calc(a,b):\n",
    "    sum=a+b\n",
    "    sub=a-b\n",
    "    mul=a*b\n",
    "    div=a/b\n",
    "    return sum,sub,mul,div\n",
    "\n",
    "a=20\n",
    "b=10\n",
    "t=calc(a,b)\n",
    "print(t)"
   ]
  },
  {
   "cell_type": "code",
   "execution_count": 78,
   "metadata": {},
   "outputs": [
    {
     "name": "stdout",
     "output_type": "stream",
     "text": [
      "30\n",
      "10\n",
      "200\n",
      "2.0\n"
     ]
    }
   ],
   "source": [
    "def calc(a,b):\n",
    "    sum=a+b\n",
    "    sub=a-b\n",
    "    mul=a*b\n",
    "    div=a/b\n",
    "    return sum,sub,mul,div\n",
    "\n",
    "a=20\n",
    "b=10\n",
    "t=calc(a,b)\n",
    "#print(t)\n",
    "\n",
    "for i in t:\n",
    "    print(i)"
   ]
  },
  {
   "cell_type": "code",
   "execution_count": 79,
   "metadata": {},
   "outputs": [],
   "source": [
    "def calc(a,b):\n",
    "    sum=a+b\n",
    "    sub=a-b\n",
    "    mul=a*b\n",
    "    div=a/b\n",
    "    return sum,sub,mul,div\n",
    "\n",
    "a=20\n",
    "b=10\n",
    "t=calc(a,b)\n",
    "#print(tuple())\n",
    "#dhuundhoooo"
   ]
  },
  {
   "cell_type": "code",
   "execution_count": 81,
   "metadata": {},
   "outputs": [
    {
     "name": "stdout",
     "output_type": "stream",
     "text": [
      "even\n",
      "odd\n"
     ]
    }
   ],
   "source": [
    "# function to check whether ithe given number is odd or even\n",
    "\n",
    "def check(a):\n",
    "    if a%2==0:\n",
    "        return \"even\"\n",
    "    else:\n",
    "        return \"odd\"\n",
    "    \n",
    "t=check(10)\n",
    "t1=check(7)\n",
    "\n",
    "print(t)\n",
    "print(t1)"
   ]
  },
  {
   "cell_type": "code",
   "execution_count": null,
   "metadata": {},
   "outputs": [],
   "source": []
  }
 ],
 "metadata": {
  "kernelspec": {
   "display_name": "Python 3",
   "language": "python",
   "name": "python3"
  },
  "language_info": {
   "codemirror_mode": {
    "name": "ipython",
    "version": 3
   },
   "file_extension": ".py",
   "mimetype": "text/x-python",
   "name": "python",
   "nbconvert_exporter": "python",
   "pygments_lexer": "ipython3",
   "version": "3.8.5"
  }
 },
 "nbformat": 4,
 "nbformat_minor": 4
}
