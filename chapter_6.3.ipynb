{
 "cells": [
  {
   "cell_type": "code",
   "execution_count": 70,
   "metadata": {},
   "outputs": [
    {
     "name": "stdout",
     "output_type": "stream",
     "text": [
      "line: 1\n",
      "pos: 9\n",
      "line: 2\n",
      "pos: 6\n",
      "line: 2\n",
      "pos: 9\n"
     ]
    }
   ],
   "source": [
    "#wap to compare two files and find the difference in line and character\n",
    "f1=open(\"dup1.txt\",\"r\")\n",
    "f2=open('dup2.txt','r')\n",
    "temp=0\n",
    "l1=f1.readlines()\n",
    "l2=f2.readlines()\n",
    "x1=min(len(l1),len(l2))\n",
    "for i in range(0,x1):\n",
    "        a1=l1[i]\n",
    "        a2=l2[i]\n",
    "        temp=0\n",
    "        if a1==a2:\n",
    "            continue\n",
    "        else:\n",
    "            \n",
    "            if len(a1)>len(a2):\n",
    "                temp=len(a2)\n",
    "            else:\n",
    "                temp=len(a1)\n",
    "            for j in range(0,temp):\n",
    "                    if a1[j]!=a2[j]:\n",
    "                        print(\"line:\",i+1)\n",
    "                        print(\"pos:\",j+1)\n",
    "    \n",
    "f1.close()\n",
    "f2.close()\n",
    "# dup1.txt:\n",
    "# This is python \n",
    "# This is Java\n",
    "# dup2.txt:\n",
    "# This is Python\n",
    "# This Is java"
   ]
  },
  {
   "cell_type": "code",
   "execution_count": 17,
   "metadata": {},
   "outputs": [
    {
     "ename": "TypeError",
     "evalue": "'str' object cannot be interpreted as an integer",
     "output_type": "error",
     "traceback": [
      "\u001b[1;31m---------------------------------------------------------------------------\u001b[0m",
      "\u001b[1;31mTypeError\u001b[0m                                 Traceback (most recent call last)",
      "\u001b[1;32m<ipython-input-17-28808b0e90e9>\u001b[0m in \u001b[0;36m<module>\u001b[1;34m\u001b[0m\n\u001b[0;32m      7\u001b[0m \u001b[1;32mfor\u001b[0m \u001b[0mi\u001b[0m \u001b[1;32min\u001b[0m \u001b[0mrange\u001b[0m\u001b[1;33m(\u001b[0m\u001b[1;36m0\u001b[0m\u001b[1;33m,\u001b[0m\u001b[0mlen\u001b[0m\u001b[1;33m(\u001b[0m\u001b[0ml1\u001b[0m\u001b[1;33m)\u001b[0m\u001b[1;33m)\u001b[0m\u001b[1;33m:\u001b[0m\u001b[1;33m\u001b[0m\u001b[1;33m\u001b[0m\u001b[0m\n\u001b[0;32m      8\u001b[0m     \u001b[0ma1\u001b[0m\u001b[1;33m=\u001b[0m\u001b[0ml1\u001b[0m\u001b[1;33m[\u001b[0m\u001b[0mi\u001b[0m\u001b[1;33m]\u001b[0m\u001b[1;33m\u001b[0m\u001b[1;33m\u001b[0m\u001b[0m\n\u001b[1;32m----> 9\u001b[1;33m     \u001b[1;32mfor\u001b[0m \u001b[0mj\u001b[0m \u001b[1;32min\u001b[0m \u001b[0mrange\u001b[0m\u001b[1;33m(\u001b[0m\u001b[1;36m0\u001b[0m\u001b[1;33m,\u001b[0m\u001b[0ma1\u001b[0m\u001b[1;33m)\u001b[0m\u001b[1;33m:\u001b[0m\u001b[1;33m\u001b[0m\u001b[1;33m\u001b[0m\u001b[0m\n\u001b[0m\u001b[0;32m     10\u001b[0m         \u001b[1;32mif\u001b[0m \u001b[0ma1\u001b[0m\u001b[1;33m[\u001b[0m\u001b[0mj\u001b[0m\u001b[1;33m]\u001b[0m\u001b[1;33m==\u001b[0m\u001b[1;34m\" \"\u001b[0m\u001b[1;33m:\u001b[0m\u001b[1;33m\u001b[0m\u001b[1;33m\u001b[0m\u001b[0m\n\u001b[0;32m     11\u001b[0m             \u001b[0mcount_s\u001b[0m\u001b[1;33m+=\u001b[0m\u001b[1;36m1\u001b[0m\u001b[1;33m\u001b[0m\u001b[1;33m\u001b[0m\u001b[0m\n",
      "\u001b[1;31mTypeError\u001b[0m: 'str' object cannot be interpreted as an integer"
     ]
    }
   ],
   "source": [
    "#wap to count words characters and spaces from text file\n",
    "f1=open(\"b2.txt\")\n",
    "l1=f1.readlines()\n",
    "count_w=0\n",
    "count_c=0\n",
    "count_s=0\n",
    "for i in range(0,len(l1)):\n",
    "    a1=l1[i]\n",
    "    for j in range(0,a1):\n",
    "        if a1[j]==\" \":\n",
    "            count_s+=1\n",
    "print(count_s)"
   ]
  },
  {
   "cell_type": "code",
   "execution_count": 21,
   "metadata": {},
   "outputs": [
    {
     "name": "stdout",
     "output_type": "stream",
     "text": [
      "words: 8\n",
      "characters: 26\n",
      "spaces: 6\n"
     ]
    }
   ],
   "source": [
    "f=open(\"b2.txt\",\"r\")\n",
    "b=f.read()\n",
    "x=b.split()\n",
    "print(\"words:\",len(x))\n",
    "y=len(b)-b.count(\" \")-b.count(\"\\n\")\n",
    "print(\"characters:\",y)\n",
    "sp=b.count(\" \")\n",
    "print(\"spaces:\",sp)"
   ]
  },
  {
   "cell_type": "code",
   "execution_count": 29,
   "metadata": {},
   "outputs": [],
   "source": [
    "#wap to replace a word in python.\n",
    "# x=input(\"Enter word to be changed:\")\n",
    "# y=input(\"Enter changed word:\")\n",
    "x=\"friends\"\n",
    "y=\"enemy\"\n",
    "f1=open(\"friends.txt\",\"r\")\n",
    "f2=open(\"replace.txt\",\"w\")\n",
    "l1=f1.readlines()\n",
    "for i in l1:\n",
    "    a=i.replace(x,y)\n",
    "#     print(a)\n",
    "    f2.write(a)\n",
    "f1.close()\n",
    "f2.close()\n",
    "\n",
    "# friends.txt:\n",
    "# friends are crazy, friends are naughty\n",
    "# friends are homest, friends are best\n",
    "# friends are like keygen, friends are like liscence key!!\n",
    "    \n",
    "# replace.txt:\n",
    "# enemy are crazy, enemy are naughty\n",
    "# enemy are homest, enemy are best\n",
    "# enemy are like keygen, enemy are like liscence key!!"
   ]
  },
  {
   "cell_type": "code",
   "execution_count": 30,
   "metadata": {},
   "outputs": [],
   "source": [
    "#wap to replace a word in python.\n",
    "# x=input(\"Enter word to be changed:\")\n",
    "# y=input(\"Enter changed word:\")\n",
    "x=\"friends\"\n",
    "y=\"enemy\"\n",
    "f1=open(\"friends.txt\",\"r\")\n",
    "f2=open(\"replace.txt\",\"w\")\n",
    "l1=f1.readlines()\n",
    "for i in l1:\n",
    "    a=i.replace(x,y)\n",
    "#     print(a)\n",
    "    f2.write(a)\n",
    "f1.close()\n",
    "f2.close()\n",
    "\n",
    "# friends.txt:\n",
    "# friends are crazy, friends are naughty\n",
    "# friends are homest, friends are best\n",
    "# friends are like keygen, friends are like liscence key!!\n",
    "    \n",
    "# replace.txt:\n",
    "# enemy are crazy, enemy are naughty\n",
    "# enemy are homest, enemy are best\n",
    "# enemy are like keygen, enemy are like liscence key!!"
   ]
  },
  {
   "cell_type": "code",
   "execution_count": 38,
   "metadata": {},
   "outputs": [
    {
     "name": "stdout",
     "output_type": "stream",
     "text": [
      "second line of third file: 2-NOHTYP SI SIHT\n",
      "\n",
      "count of vowels= 9\n"
     ]
    }
   ],
   "source": [
    "# wap to reverse the content of 1 file and store it in second file and also convert the content of second file into \n",
    "# uppercase and store it in third file also count the number of vowels in third file, \n",
    "# and also print second line from the content of third file\n",
    "f1=open(\"b2.txt\",\"r\")\n",
    "f2=open(\"demo.txt\",'w')\n",
    "f3=open(\"third.txt\",\"w\")\n",
    "vow=0\n",
    "l1=f1.readlines()\n",
    "data=l1[::-1]\n",
    "for i in data:\n",
    "    f2.write(i[::-1])\n",
    "    i=i.upper()\n",
    "    f3.write(i[::-1])\n",
    "    vow=vow+i.count(\"A\")+i.count(\"E\")+i.count(\"I\")+i.count(\"O\")+i.count(\"U\")\n",
    "f3.close()\n",
    "f3=open(\"third.txt\",\"r\")\n",
    "f3.readline()\n",
    "print(\"second line of third file:\",f3.readline())\n",
    "print(\"count of vowels=\",vow)\n",
    "f2.close()\n",
    "f1.close()\n",
    "f3.close()\n",
    "\n",
    "# b2.txt:\n",
    "# this is pyhton-1\n",
    "# this is python-2\n",
    "# this is python-3\n",
    "\n",
    "# demo.txt:\n",
    "# 3-nohtyp si siht\n",
    "# 2-nohtyp si siht\n",
    "# 1-nothyp si siht\n",
    "\n",
    "# third.txt:\n",
    "# 3-NOHTYP SI SIHT\n",
    "# 2-NOHTYP SI SIHT\n",
    "# 1-NOTHYP SI SIHT"
   ]
  },
  {
   "cell_type": "code",
   "execution_count": 41,
   "metadata": {},
   "outputs": [
    {
     "name": "stdout",
     "output_type": "stream",
     "text": [
      "file is closed False\n",
      "file name: demo.txt\n",
      "file mode: r\n",
      "file is readable: True\n",
      "file is writable: False\n"
     ]
    }
   ],
   "source": [
    "f=open(\"demo.txt\")\n",
    "print(\"file is closed\",f.closed)\n",
    "print(\"file name:\",f.name)\n",
    "print(\"file mode:\",f.mode)\n",
    "print(\"file is readable:\",f.readable())\n",
    "print(\"file is writable:\",f.writable())"
   ]
  },
  {
   "cell_type": "code",
   "execution_count": 53,
   "metadata": {},
   "outputs": [
    {
     "name": "stdout",
     "output_type": "stream",
     "text": [
      "Enter sting:eowuho\n",
      "Enter sting:rghou\n",
      "Enter sting:rgouhe\n",
      "Enter sting:ir\n",
      "Enter sting:WR\n",
      "Enter sting:RFGT\n",
      "Enter sting:The\n",
      "Enter sting:END\n",
      "WR\n",
      "RFGT\n",
      "The\n"
     ]
    }
   ],
   "source": [
    "#wap to accept string or sentence till the user enters 'End' \n",
    "# each string or sentence entered by user should be a new line in file\n",
    "# save all the lines in file and display only those lines which begin with capital letter\n",
    "x=input(\"Enter sting:\")\n",
    "f=open(\"demo.txt\",'w')\n",
    "\n",
    "while x.lower()!=\"end\":\n",
    "    f.write(x+\"\\n\")\n",
    "    x=input(\"Enter sting:\")\n",
    "    \n",
    "f.close()\n",
    "f=open(\"demo.txt\",\"r\")\n",
    "l=f.readlines()\n",
    "for i in l:\n",
    "    if i[0].isupper():\n",
    "        print(i,end=\"\")\n",
    "f.close()\n",
    "    "
   ]
  },
  {
   "cell_type": "code",
   "execution_count": 60,
   "metadata": {},
   "outputs": [
    {
     "name": "stdout",
     "output_type": "stream",
     "text": [
      "Enter word to be searched:friends\n",
      "0 0 0 0 0 0 0 0 0 0 0 0 0 0 0 0 0 0 0 0 0 0 0 0 0 0 0 0 0 0 0 0 0 0 0 0 0 0 0 0 0 0 0 0 0 0 0 0 0 0 0 0 0 0 0 0 0 0 0 0 0 0 0 0 0 0 0 0 0 0 0 0 0 0 0 0 0 0 0 0 0 0 0 0 0 0 0 0 0 0 0 0 0 0 0 0 0 0 0 0 0 0 0 0 0 0 0 0 0 0 0 0 0 0 0 0 0 0 0 0 0 0 0 0 0 0 0 0 0 0 0 0 "
     ]
    }
   ],
   "source": [
    "f=open(\"friends.txt\",\"r\")\n",
    "x=input(\"Enter word to be searched:\")\n",
    "\n",
    "b=f.read()\n",
    "for i in b:\n",
    "    print(b.find(x),end=\" \")"
   ]
  },
  {
   "cell_type": "code",
   "execution_count": 59,
   "metadata": {},
   "outputs": [
    {
     "name": "stdout",
     "output_type": "stream",
     "text": [
      "Enter word to be searched:friends\n"
     ]
    },
    {
     "ename": "TypeError",
     "evalue": "'str' object cannot be interpreted as an integer",
     "output_type": "error",
     "traceback": [
      "\u001b[1;31m---------------------------------------------------------------------------\u001b[0m",
      "\u001b[1;31mTypeError\u001b[0m                                 Traceback (most recent call last)",
      "\u001b[1;32m<ipython-input-59-ccf58adbe070>\u001b[0m in \u001b[0;36m<module>\u001b[1;34m\u001b[0m\n\u001b[0;32m      5\u001b[0m \u001b[1;32mfor\u001b[0m \u001b[0mi\u001b[0m \u001b[1;32min\u001b[0m \u001b[0mrange\u001b[0m\u001b[1;33m(\u001b[0m\u001b[1;36m0\u001b[0m\u001b[1;33m,\u001b[0m\u001b[0mlen\u001b[0m\u001b[1;33m(\u001b[0m\u001b[0ml\u001b[0m\u001b[1;33m)\u001b[0m\u001b[1;33m)\u001b[0m\u001b[1;33m:\u001b[0m\u001b[1;33m\u001b[0m\u001b[1;33m\u001b[0m\u001b[0m\n\u001b[0;32m      6\u001b[0m     \u001b[0my\u001b[0m\u001b[1;33m=\u001b[0m\u001b[0ml\u001b[0m\u001b[1;33m[\u001b[0m\u001b[0mi\u001b[0m\u001b[1;33m]\u001b[0m\u001b[1;33m\u001b[0m\u001b[1;33m\u001b[0m\u001b[0m\n\u001b[1;32m----> 7\u001b[1;33m     \u001b[1;32mfor\u001b[0m \u001b[0mj\u001b[0m \u001b[1;32min\u001b[0m \u001b[0mrange\u001b[0m\u001b[1;33m(\u001b[0m\u001b[1;36m0\u001b[0m\u001b[1;33m,\u001b[0m\u001b[0my\u001b[0m\u001b[1;33m)\u001b[0m\u001b[1;33m:\u001b[0m\u001b[1;33m\u001b[0m\u001b[1;33m\u001b[0m\u001b[0m\n\u001b[0m\u001b[0;32m      8\u001b[0m         \u001b[1;32mif\u001b[0m \u001b[0mx\u001b[0m \u001b[1;32min\u001b[0m \u001b[0mi\u001b[0m\u001b[1;33m:\u001b[0m\u001b[1;33m\u001b[0m\u001b[1;33m\u001b[0m\u001b[0m\n\u001b[0;32m      9\u001b[0m             \u001b[0mprint\u001b[0m\u001b[1;33m(\u001b[0m\u001b[1;34m\"pos:\"\u001b[0m\u001b[1;33m,\u001b[0m\u001b[0mj\u001b[0m\u001b[1;33m+\u001b[0m\u001b[1;36m1\u001b[0m\u001b[1;33m)\u001b[0m\u001b[1;33m\u001b[0m\u001b[1;33m\u001b[0m\u001b[0m\n",
      "\u001b[1;31mTypeError\u001b[0m: 'str' object cannot be interpreted as an integer"
     ]
    }
   ],
   "source": [
    "#wap to search for a string entered by user in text file\n",
    "f=open(\"friends.txt\",\"r\")\n",
    "x=input(\"Enter word to be searched:\")\n",
    "l=f.readlines()\n",
    "for i in range(0,len(l)):\n",
    "    y=l[i]\n",
    "    for j in range(0,y):\n",
    "        if x in i:\n",
    "            print(\"pos:\",j+1)\n",
    "f.close()"
   ]
  },
  {
   "cell_type": "code",
   "execution_count": 61,
   "metadata": {},
   "outputs": [
    {
     "data": {
      "text/plain": [
       "False"
      ]
     },
     "execution_count": 61,
     "metadata": {},
     "output_type": "execute_result"
    }
   ],
   "source": [
    "import os \n",
    "os.path.isfile(\"filename\")"
   ]
  },
  {
   "cell_type": "code",
   "execution_count": null,
   "metadata": {},
   "outputs": [],
   "source": []
  }
 ],
 "metadata": {
  "kernelspec": {
   "display_name": "Python 3",
   "language": "python",
   "name": "python3"
  },
  "language_info": {
   "codemirror_mode": {
    "name": "ipython",
    "version": 3
   },
   "file_extension": ".py",
   "mimetype": "text/x-python",
   "name": "python",
   "nbconvert_exporter": "python",
   "pygments_lexer": "ipython3",
   "version": "3.8.5"
  }
 },
 "nbformat": 4,
 "nbformat_minor": 4
}
