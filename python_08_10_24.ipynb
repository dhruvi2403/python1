{
 "cells": [
  {
   "cell_type": "code",
   "execution_count": 1,
   "metadata": {},
   "outputs": [],
   "source": [
    "#wap to check the given year is leap year or not"
   ]
  },
  {
   "cell_type": "code",
   "execution_count": 4,
   "metadata": {},
   "outputs": [
    {
     "name": "stdout",
     "output_type": "stream",
     "text": [
      "Enter year:1982\n",
      "not leap year\n"
     ]
    }
   ],
   "source": [
    "x= int(input(\"Enter year:\"))\n",
    "if(x%100!=0 and x%4==0 or x%400==0):\n",
    "    print(\"leap year\")\n",
    "else:\n",
    "    print(\"not leap year\")\n",
    "    "
   ]
  },
  {
   "cell_type": "code",
   "execution_count": 7,
   "metadata": {},
   "outputs": [
    {
     "ename": "SyntaxError",
     "evalue": "invalid syntax (<ipython-input-7-eff6a15c638e>, line 11)",
     "output_type": "error",
     "traceback": [
      "\u001b[1;36m  File \u001b[1;32m\"<ipython-input-7-eff6a15c638e>\"\u001b[1;36m, line \u001b[1;32m11\u001b[0m\n\u001b[1;33m    if ch==+:\u001b[0m\n\u001b[1;37m            ^\u001b[0m\n\u001b[1;31mSyntaxError\u001b[0m\u001b[1;31m:\u001b[0m invalid syntax\n"
     ]
    }
   ],
   "source": [
    "# wap to perform arithmetic operations according to the choices given:\n",
    "\n",
    "a= int(input(\"ENter num1:\"))\n",
    "b= int(input(\"Enter num2:\"))\n",
    "ch= input(\"ENter operation:\")\n",
    "\n",
    "# if(ch not in (+,-,*,/,//,%,**)):\n",
    "print(\"enter valid operator:\")\n",
    "ch= input(\"ENter operation:\")\n",
    "# else:\n",
    "if ch==+:\n",
    "    print(a+b)\n",
    "elif ch==-:\n",
    "    print(a-b)\n",
    "elif ch==*:\n",
    "    print(a*b)\n",
    "elif ch==/:\n",
    "    print(a/b)\n",
    "elif ch==//:\n",
    "    print(a//b)"
   ]
  },
  {
   "cell_type": "code",
   "execution_count": 9,
   "metadata": {},
   "outputs": [
    {
     "name": "stdout",
     "output_type": "stream",
     "text": [
      "ENter marks:98\n",
      "distinction\n"
     ]
    }
   ],
   "source": [
    "#wap to read marks from the user and give grades according to given conditions\n",
    "\n",
    "x=int(input(\"ENter marks:\"))\n",
    "if(x<=100 and x>=80):\n",
    "    print(\"distinction\")\n",
    "elif(x<=79 and x>=60):\n",
    "    print(\"first class\")\n",
    "elif(x<=59 and x>35):\n",
    "    print(\"second class\")\n",
    "else:\n",
    "    print(\"fail\")"
   ]
  },
  {
   "cell_type": "code",
   "execution_count": 1,
   "metadata": {},
   "outputs": [
    {
     "name": "stdout",
     "output_type": "stream",
     "text": [
      "ENter marks 1:98\n",
      "ENter marks 2:97\n",
      "ENter marks 3:96\n",
      "distinction\n",
      "average is = 97.0\n"
     ]
    }
   ],
   "source": [
    "#wap to enter 3 marks , claculate average and then give grade:\n",
    "\n",
    "x1=int(input(\"ENter marks 1:\"))\n",
    "x2=int(input(\"ENter marks 2:\"))\n",
    "x3=int(input(\"ENter marks 3:\"))\n",
    "\n",
    "x=((x1+x2+x3)/3)\n",
    "\n",
    "if(x<=100 and x>=80):\n",
    "    print(\"distinction\")\n",
    "elif(x<=79 and x>=60):\n",
    "    print(\"first class\")\n",
    "elif(x<=59 and x>35):\n",
    "    print(\"second class\")\n",
    "else:\n",
    "    print(\"fail\")\n",
    "    \n",
    "print(\"average is =\",x)"
   ]
  },
  {
   "cell_type": "code",
   "execution_count": 9,
   "metadata": {},
   "outputs": [
    {
     "name": "stdout",
     "output_type": "stream",
     "text": [
      "Enter the number of units:500\n",
      "pay=rs. 3500\n"
     ]
    }
   ],
   "source": [
    "#wap to calculaet the electricity bill based on the number of units entered by the user \n",
    "\n",
    "# first 100  units       no charge\n",
    "# next 100 units         rs.5 per unit\n",
    "# after 200 units        rs.10 per unit\n",
    "\n",
    "\n",
    "x=int(input(\"Enter the number of units:\"))\n",
    "\n",
    "if(x<=100):\n",
    "    print(\"pay=rs.\",0)\n",
    "elif(x<200 and x>100):\n",
    "    y=(x-100)*5\n",
    "    print(\"pay=rs.\",y)\n",
    "else:\n",
    "    y=100*5+(x-200)*10\n",
    "    print(\"pay=rs.\",y)"
   ]
  },
  {
   "cell_type": "code",
   "execution_count": 14,
   "metadata": {},
   "outputs": [
    {
     "name": "stdout",
     "output_type": "stream",
     "text": [
      "enter number:365786\n",
      "365786 's last digit is divisible by 3.\n"
     ]
    }
   ],
   "source": [
    "#wap to check whether the laast digit of the number entered by user is divisible by 3 or not\n",
    "\n",
    "x=int(input(\"enter number:\"))\n",
    "y=x%10\n",
    "if(y%3==0):\n",
    "    print(x,\"'s last digit is divisible by 3.\")\n",
    "else:\n",
    "    print(x,\"'s last digit is not divisible by 3.\")"
   ]
  },
  {
   "cell_type": "code",
   "execution_count": 16,
   "metadata": {},
   "outputs": [
    {
     "name": "stdout",
     "output_type": "stream",
     "text": [
      "Enter number:345\n",
      "0\n"
     ]
    }
   ],
   "source": [
    "#wap to check whether a number entered by a user is a 3 digit number if the number is 3 digit \n",
    "#then display the middle digit of that number\n",
    "\n",
    "x=int(input(\"Enter number:\"))\n",
    "if(x>=100 and x<=999):\n",
    "    print(int((x%10)/10)%10)\n",
    "else:\n",
    "    print(\"not a 3 digit number\")\n"
   ]
  },
  {
   "cell_type": "code",
   "execution_count": 5,
   "metadata": {},
   "outputs": [
    {
     "name": "stdout",
     "output_type": "stream",
     "text": [
      "num=123\n",
      "middle digit is: 2\n"
     ]
    }
   ],
   "source": [
    "x=int(input(\"num=\"))\n",
    "s=\"\"+str(x)\n",
    "count=0\n",
    "for i in s:   #i ni type s na equal aj hase\n",
    "    count+=1\n",
    "if count!=3:\n",
    "    print(\"enter correct 3 digit only\")\n",
    "else:\n",
    "    print(\"middle digit is:\",(x%100)//10)"
   ]
  },
  {
   "cell_type": "code",
   "execution_count": 1,
   "metadata": {},
   "outputs": [
    {
     "name": "stdout",
     "output_type": "stream",
     "text": [
      "Enter price:25000\n",
      "tax= 1250.0\n",
      "total cost= 26250.0\n"
     ]
    }
   ],
   "source": [
    "# #wap to accept a cost price of a bike and display the road tax to be paid also display the total cost of the bike\n",
    "\n",
    "# >10000               15%\n",
    "# >5000 and <=100000   10%\n",
    "# <=50000              5%\n",
    "\n",
    "x= int(input(\"Enter price:\"))\n",
    "\n",
    "if(x>100000):\n",
    "    tax=((15/100)*x)\n",
    "elif (x>50000 and x<=100000):\n",
    "    tax=((10/100)*x)\n",
    "else:\n",
    "    tax=((5/100)*x)\n",
    "\n",
    "print(\"tax=\",tax)\n",
    "print(\"total cost=\",x+tax)"
   ]
  },
  {
   "cell_type": "code",
   "execution_count": 9,
   "metadata": {},
   "outputs": [
    {
     "name": "stdout",
     "output_type": "stream",
     "text": [
      "Enter total working days:365\n",
      "Enter total absent days:234\n",
      "attendance percentage= 35.89041095890411\n",
      "you are not eligible for the exam\n"
     ]
    }
   ],
   "source": [
    "# #accept the following from the user and calculate the percentage of class attended\n",
    "# total no.of working days\n",
    "# total number of days for absent\n",
    "#after calculating the percentage show that if the percentage is less than 75 then you are not eligible for exam \n",
    "\n",
    "w=int(input(\"Enter total working days:\"))\n",
    "a=int(input(\"Enter total absent days:\"))\n",
    "temp=((w-a)/w)*100\n",
    "print(\"attendance percentage=\",temp)\n",
    "if(temp<75):\n",
    "    print(\"you are not eligible for the exam\")\n",
    "else:\n",
    "     print(\"you are eligible for the exam\")"
   ]
  },
  {
   "cell_type": "code",
   "execution_count": 16,
   "metadata": {},
   "outputs": [
    {
     "name": "stdout",
     "output_type": "stream",
     "text": [
      "Enter side 1:5\n",
      "Enter side 2:6\n",
      "Enter side 3:5\n",
      "isosceles traingle.\n"
     ]
    }
   ],
   "source": [
    "#accept the 3 sides of a triangle and check whether it is a equilateral,isosceles,or scalene traingle\n",
    "\n",
    "s1=int(input(\"Enter side 1:\"))\n",
    "s2=int(input(\"Enter side 2:\"))\n",
    "s3=int(input(\"Enter side 3:\"))\n",
    "\n",
    "if(s1!=s2!=s3!=s1):\n",
    "    print(\"scalene traingle\")\n",
    "elif(s1==s2==s3):\n",
    "    print(\"equilateral trianlgle\")\n",
    "else:\n",
    "    print(\"isosceles traingle.\")"
   ]
  },
  {
   "cell_type": "code",
   "execution_count": 18,
   "metadata": {},
   "outputs": [
    {
     "name": "stdout",
     "output_type": "stream",
     "text": [
      "Enter age:20\n",
      "Enter gender:m\n"
     ]
    },
    {
     "ename": "NameError",
     "evalue": "name 'fFmM' is not defined",
     "output_type": "error",
     "traceback": [
      "\u001b[1;31m---------------------------------------------------------------------------\u001b[0m",
      "\u001b[1;31mNameError\u001b[0m                                 Traceback (most recent call last)",
      "\u001b[1;32m<ipython-input-18-efca5d7d917d>\u001b[0m in \u001b[0;36m<module>\u001b[1;34m\u001b[0m\n\u001b[0;32m     13\u001b[0m     \u001b[0ma\u001b[0m\u001b[1;33m=\u001b[0m\u001b[0mint\u001b[0m\u001b[1;33m(\u001b[0m\u001b[0minput\u001b[0m\u001b[1;33m(\u001b[0m\u001b[1;34m\"Enter age:\"\u001b[0m\u001b[1;33m)\u001b[0m\u001b[1;33m)\u001b[0m\u001b[1;33m\u001b[0m\u001b[1;33m\u001b[0m\u001b[0m\n\u001b[0;32m     14\u001b[0m \u001b[0mg\u001b[0m\u001b[1;33m=\u001b[0m\u001b[1;33m(\u001b[0m\u001b[0minput\u001b[0m\u001b[1;33m(\u001b[0m\u001b[1;34m\"Enter gender:\"\u001b[0m\u001b[1;33m)\u001b[0m\u001b[1;33m)\u001b[0m\u001b[1;33m\u001b[0m\u001b[1;33m\u001b[0m\u001b[0m\n\u001b[1;32m---> 15\u001b[1;33m \u001b[1;32mif\u001b[0m\u001b[1;33m(\u001b[0m\u001b[0mg\u001b[0m \u001b[1;32mnot\u001b[0m \u001b[1;32min\u001b[0m\u001b[1;33m(\u001b[0m\u001b[0mfFmM\u001b[0m\u001b[1;33m)\u001b[0m\u001b[1;33m)\u001b[0m\u001b[1;33m:\u001b[0m\u001b[1;33m\u001b[0m\u001b[1;33m\u001b[0m\u001b[0m\n\u001b[0m\u001b[0;32m     16\u001b[0m     \u001b[0mprint\u001b[0m\u001b[1;33m(\u001b[0m\u001b[1;34m\"enter valid gender\"\u001b[0m\u001b[1;33m)\u001b[0m\u001b[1;33m\u001b[0m\u001b[1;33m\u001b[0m\u001b[0m\n\u001b[0;32m     17\u001b[0m     \u001b[0mg\u001b[0m\u001b[1;33m=\u001b[0m\u001b[0mint\u001b[0m\u001b[1;33m(\u001b[0m\u001b[0minput\u001b[0m\u001b[1;33m(\u001b[0m\u001b[1;34m\"Enter gender:\"\u001b[0m\u001b[1;33m)\u001b[0m\u001b[1;33m)\u001b[0m\u001b[1;33m\u001b[0m\u001b[1;33m\u001b[0m\u001b[0m\n",
      "\u001b[1;31mNameError\u001b[0m: name 'fFmM' is not defined"
     ]
    }
   ],
   "source": [
    "# #wap to accept the age gender and number of days and display the wages accordingly\n",
    "\n",
    "# age               gender     wage/day\n",
    "# >=18 and<=30       m           700\n",
    "#                    f           750\n",
    "# >=30 and <=40      m           800\n",
    "#                    f           850\n",
    "# if does not fall in any range then message shouls print Enter appropriate age.\n",
    "\n",
    "a=int(input(\"Enter age:\"))\n",
    "if(a<18 or a>40):\n",
    "    print(\"Enter valid age\")\n",
    "    a=int(input(\"Enter age:\"))\n",
    "g=(input(\"Enter gender:\"))\n",
    "if(g not in(fFmM)):\n",
    "    print(\"enter valid gender\")\n",
    "    g=int(input(\"Enter gender:\"))\n",
    "n=int(input(\"Enter number of working days:\"))\n",
    "\n",
    "if(a>=18 and a<=30 and (g in (mM))):\n",
    "    wage=700*n\n",
    "elif(a>=18 and a<=30 and (g in (fF))):\n",
    "    wage=750*n\n",
    "elif(a>=30 and a<=40 and (g in (mM))):\n",
    "    wage=800*n\n",
    "elif(a>=30 and a<=40 and (g in (fF))):\n",
    "    wage=850*n"
   ]
  },
  {
   "cell_type": "code",
   "execution_count": null,
   "metadata": {},
   "outputs": [],
   "source": []
  }
 ],
 "metadata": {
  "kernelspec": {
   "display_name": "Python 3",
   "language": "python",
   "name": "python3"
  },
  "language_info": {
   "codemirror_mode": {
    "name": "ipython",
    "version": 3
   },
   "file_extension": ".py",
   "mimetype": "text/x-python",
   "name": "python",
   "nbconvert_exporter": "python",
   "pygments_lexer": "ipython3",
   "version": "3.8.5"
  }
 },
 "nbformat": 4,
 "nbformat_minor": 4
}
