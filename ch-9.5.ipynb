{
 "cells": [
  {
   "cell_type": "code",
   "execution_count": 1,
   "metadata": {},
   "outputs": [
    {
     "name": "stdout",
     "output_type": "stream",
     "text": [
      "(array([0, 0, 1, 1], dtype=int64), array([0, 1, 0, 1], dtype=int64), array([2, 2, 0, 1], dtype=int64))\n"
     ]
    }
   ],
   "source": [
    "import numpy as np\n",
    "arr=np.array([[[1,2,3],[4,5,3]],[[3,4,6],[7,3,2]]])\n",
    "x=np.where(arr==3)\n",
    "print(x)"
   ]
  },
  {
   "cell_type": "markdown",
   "metadata": {},
   "source": [
    "* 0 0 1 1\n",
    "* 0 1 0 1\n",
    "* 2 2 0 1\n",
    "\n",
    "\n",
    "* read this vertically as 0 0 2 , 0 1 2 , 1 0 0 , 1 1 1  these are the positions of \"3 \""
   ]
  },
  {
   "cell_type": "markdown",
   "metadata": {},
   "source": [
    "#### 4.sort()"
   ]
  },
  {
   "cell_type": "code",
   "execution_count": 3,
   "metadata": {},
   "outputs": [
    {
     "name": "stdout",
     "output_type": "stream",
     "text": [
      "[1 2 3 4 4 5 6 7]\n"
     ]
    }
   ],
   "source": [
    "import numpy as np \n",
    "arr1 = np.array([1,2,3,4,5,4,6,7])\n",
    "print(np.sort(arr1))"
   ]
  },
  {
   "cell_type": "code",
   "execution_count": 5,
   "metadata": {},
   "outputs": [
    {
     "name": "stdout",
     "output_type": "stream",
     "text": [
      "['apple' 'banana' 'cherry']\n"
     ]
    }
   ],
   "source": [
    "import numpy as np \n",
    "arr2=np.array([\"banana\",\"apple\",\"cherry\"])\n",
    "print(np.sort(arr2))"
   ]
  },
  {
   "cell_type": "code",
   "execution_count": 6,
   "metadata": {},
   "outputs": [
    {
     "name": "stdout",
     "output_type": "stream",
     "text": [
      "[False  True  True]\n"
     ]
    }
   ],
   "source": [
    "import numpy as np \n",
    "arr3=np.array([True,False,True])\n",
    "print(np.sort(arr3))"
   ]
  },
  {
   "cell_type": "code",
   "execution_count": 10,
   "metadata": {},
   "outputs": [
    {
     "name": "stdout",
     "output_type": "stream",
     "text": [
      "[[2 3 4]\n",
      " [1 3 7]\n",
      " [2 4 5]]\n"
     ]
    }
   ],
   "source": [
    "import numpy as np \n",
    "arr4=np.array([[3,4,2],[1,7,3],[4,2,5]])\n",
    "print(np.sort(arr4))\n",
    "#sorts each bracket individually"
   ]
  },
  {
   "cell_type": "markdown",
   "metadata": {},
   "source": [
    "here axis is given inside sort function so this is different than the axis use previously"
   ]
  },
  {
   "cell_type": "code",
   "execution_count": 11,
   "metadata": {},
   "outputs": [
    {
     "name": "stdout",
     "output_type": "stream",
     "text": [
      "[[1 2 2]\n",
      " [3 4 3]\n",
      " [4 7 5]]\n"
     ]
    }
   ],
   "source": [
    "import numpy as np \n",
    "arr4=np.array([[3,4,2],[1,7,3],[4,2,5]])\n",
    "print(np.sort(arr4,axis=0))  # by default value of axis = -1\n",
    "#does column wise sorting.....while checking each bracket..."
   ]
  },
  {
   "cell_type": "code",
   "execution_count": 12,
   "metadata": {},
   "outputs": [
    {
     "name": "stdout",
     "output_type": "stream",
     "text": [
      "[[2 3 4]\n",
      " [1 3 7]\n",
      " [2 4 5]]\n"
     ]
    }
   ],
   "source": [
    "import numpy as np \n",
    "arr4=np.array([[3,4,2],[1,7,3],[4,2,5]])\n",
    "print(np.sort(arr4,axis=1))  # by default value of axis = -1\n",
    "# same as axis=1"
   ]
  },
  {
   "cell_type": "code",
   "execution_count": 13,
   "metadata": {},
   "outputs": [
    {
     "name": "stdout",
     "output_type": "stream",
     "text": [
      "[1 2 2 3 3 4 4 5 7]\n"
     ]
    }
   ],
   "source": [
    "import numpy as np \n",
    "arr4=np.array([[3,4,2],[1,7,3],[4,2,5]])\n",
    "print(np.sort(arr4,axis=None))"
   ]
  },
  {
   "cell_type": "code",
   "execution_count": 15,
   "metadata": {},
   "outputs": [
    {
     "data": {
      "text/plain": [
       "array([[[2, 3, 8],\n",
       "        [3, 7, 9]],\n",
       "\n",
       "       [[2, 6, 7],\n",
       "        [4, 6, 9]]])"
      ]
     },
     "execution_count": 15,
     "metadata": {},
     "output_type": "execute_result"
    }
   ],
   "source": [
    "import numpy as np \n",
    "arr=np.array([[[3,2,8],[7,9,3]],[[6,7,2],[9,6,4]]])\n",
    "np.sort(arr,axis=-1)  \n",
    "#sorts bracket-wise"
   ]
  },
  {
   "cell_type": "code",
   "execution_count": 16,
   "metadata": {},
   "outputs": [
    {
     "data": {
      "text/plain": [
       "array([[[3, 2, 2],\n",
       "        [7, 6, 3]],\n",
       "\n",
       "       [[6, 7, 8],\n",
       "        [9, 9, 4]]])"
      ]
     },
     "execution_count": 16,
     "metadata": {},
     "output_type": "execute_result"
    }
   ],
   "source": [
    "import numpy as np \n",
    "arr=np.array([[[3,2,8],[7,9,3]],[[6,7,2],[9,6,4]]])\n",
    "np.sort(arr,axis=0) \n",
    "#doubtful..."
   ]
  },
  {
   "cell_type": "markdown",
   "metadata": {},
   "source": [
    "compares [3,2,8] with [6,7,2] and [7,9,3] with [9,6,4]"
   ]
  },
  {
   "cell_type": "code",
   "execution_count": 17,
   "metadata": {},
   "outputs": [
    {
     "data": {
      "text/plain": [
       "array([[[3, 2, 3],\n",
       "        [7, 9, 8]],\n",
       "\n",
       "       [[6, 6, 2],\n",
       "        [9, 7, 4]]])"
      ]
     },
     "execution_count": 17,
     "metadata": {},
     "output_type": "execute_result"
    }
   ],
   "source": [
    "import numpy as np \n",
    "arr=np.array([[[3,2,8],[7,9,3]],[[6,7,2],[9,6,4]]])\n",
    "np.sort(arr,axis=1) \n",
    "#doubtful..."
   ]
  },
  {
   "cell_type": "code",
   "execution_count": null,
   "metadata": {},
   "outputs": [],
   "source": []
  }
 ],
 "metadata": {
  "kernelspec": {
   "display_name": "Python 3",
   "language": "python",
   "name": "python3"
  },
  "language_info": {
   "codemirror_mode": {
    "name": "ipython",
    "version": 3
   },
   "file_extension": ".py",
   "mimetype": "text/x-python",
   "name": "python",
   "nbconvert_exporter": "python",
   "pygments_lexer": "ipython3",
   "version": "3.8.5"
  }
 },
 "nbformat": 4,
 "nbformat_minor": 4
}
